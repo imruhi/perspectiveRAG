{
 "cells": [
  {
   "cell_type": "code",
   "execution_count": 2,
   "outputs": [],
   "source": [
    "import glob\n",
    "import pandas as pd\n",
    "from datasets import Dataset, load_from_disk\n",
    "from data.data import Delpher, Plakaatboeken, Wikipedia, DBNL, AmericanStories, BLBooks\n",
    "\n",
    "years = [1805, 1806, 1807, 1808, 1809, 1810, 1811, 1812, 1813, 1814, 1815, 1816, 1817, 1818, 1819]"
   ],
   "metadata": {
    "collapsed": false,
    "ExecuteTime": {
     "end_time": "2025-09-19T07:56:20.188510700Z",
     "start_time": "2025-09-19T07:56:13.893301100Z"
    }
   },
   "id": "7194b78e5e7c5bdc"
  },
  {
   "cell_type": "markdown",
   "source": [
    "## Dutch sources"
   ],
   "metadata": {
    "collapsed": false
   },
   "id": "b52a95090c16ff21"
  },
  {
   "cell_type": "code",
   "execution_count": 3,
   "outputs": [
    {
     "data": {
      "text/plain": "Filter:   0%|          | 0/486703 [00:00<?, ? examples/s]",
      "application/vnd.jupyter.widget-view+json": {
       "version_major": 2,
       "version_minor": 0,
       "model_id": "3fff742f2441463298e126b04175e86f"
      }
     },
     "metadata": {},
     "output_type": "display_data"
    },
    {
     "data": {
      "text/plain": "Filter:   0%|          | 0/90725 [00:00<?, ? examples/s]",
      "application/vnd.jupyter.widget-view+json": {
       "version_major": 2,
       "version_minor": 0,
       "model_id": "a6186be4536b4fbaae8d03bf018f20a9"
      }
     },
     "metadata": {},
     "output_type": "display_data"
    },
    {
     "data": {
      "text/plain": "Filter:   0%|          | 0/1772 [00:00<?, ? examples/s]",
      "application/vnd.jupyter.widget-view+json": {
       "version_major": 2,
       "version_minor": 0,
       "model_id": "6da314f04b9848af93c3769b1a26dafb"
      }
     },
     "metadata": {},
     "output_type": "display_data"
    },
    {
     "data": {
      "text/plain": "Filter:   0%|          | 0/482 [00:00<?, ? examples/s]",
      "application/vnd.jupyter.widget-view+json": {
       "version_major": 2,
       "version_minor": 0,
       "model_id": "09092d54b7494ab1a3eb758039fcf9da"
      }
     },
     "metadata": {},
     "output_type": "display_data"
    },
    {
     "data": {
      "text/plain": "Filter:   0%|          | 0/28487 [00:00<?, ? examples/s]",
      "application/vnd.jupyter.widget-view+json": {
       "version_major": 2,
       "version_minor": 0,
       "model_id": "0a9d766f2e384e39acea6a92b4b6b183"
      }
     },
     "metadata": {},
     "output_type": "display_data"
    }
   ],
   "source": [
    "# loading cleaned versions\n",
    "ds_delpher = Delpher().dataset.filter(lambda example: example[\"Year\"] in years and len(example[\"CleanedText\"])>100)\n",
    "ds_dbnl = DBNL().dataset.filter(lambda example: example[\"Year\"] in years and len(example[\"CleanedText\"])>100)\n",
    "ds_wiki_nl = Wikipedia(language='nl').dataset.filter(lambda example: len(example[\"CleanedText\"])>100)\n",
    "ds_plakaatboek = Plakaatboeken().dataset.filter(lambda example: example[\"Year\"] in years and len(example[\"CleanedText\"])>100)"
   ],
   "metadata": {
    "collapsed": false,
    "ExecuteTime": {
     "end_time": "2025-09-19T07:56:27.405585600Z",
     "start_time": "2025-09-19T07:56:20.190924Z"
    }
   },
   "id": "fb7e265f1905438b"
  },
  {
   "cell_type": "code",
   "execution_count": 4,
   "outputs": [],
   "source": [
    "datasets = [ds_dbnl, ds_delpher, ds_plakaatboek, ds_wiki_nl]\n",
    "ds_names = ['dbnl', 'delpher', 'plakaatboek', 'wiki']"
   ],
   "metadata": {
    "collapsed": false,
    "ExecuteTime": {
     "end_time": "2025-09-19T07:56:27.421424100Z",
     "start_time": "2025-09-19T07:56:27.409532300Z"
    }
   },
   "id": "6c5754d375ae9c57"
  },
  {
   "cell_type": "code",
   "execution_count": 5,
   "outputs": [],
   "source": [
    "datasets[0] = datasets[0].rename_columns({\"Title\": \"Filename\"}) # dbnl\n",
    "datasets[1] = datasets[1].rename_columns({\"Newspaper\": \"Filename\"}) # delpher\n",
    "datasets[2] = datasets[2].rename_columns({\"Book\": \"Filename\"}) # plakaatboek\n",
    "datasets[3] = datasets[3].rename_columns({\"Topic\": \"Filename\"}) # wikipedia"
   ],
   "metadata": {
    "collapsed": false,
    "ExecuteTime": {
     "end_time": "2025-09-19T07:56:27.456218400Z",
     "start_time": "2025-09-19T07:56:27.414548300Z"
    }
   },
   "id": "fa251fd906ef1aa9"
  },
  {
   "cell_type": "code",
   "execution_count": 6,
   "outputs": [],
   "source": [
    "subset_ds = [x.select_columns([\"Year\", \"Filename\", \"CleanedText\"]) for x in datasets]\n",
    "sources = [x for x in ds_names]"
   ],
   "metadata": {
    "collapsed": false,
    "ExecuteTime": {
     "end_time": "2025-09-19T07:56:27.456218400Z",
     "start_time": "2025-09-19T07:56:27.436270100Z"
    }
   },
   "id": "834013c046364267"
  },
  {
   "cell_type": "code",
   "execution_count": 7,
   "outputs": [
    {
     "name": "stdout",
     "output_type": "stream",
     "text": [
      "On source: dbnl\n",
      "On source: delpher\n",
      "On source: plakaatboek\n",
      "On source: wiki\n"
     ]
    }
   ],
   "source": [
    "new_dataset_nl = pd.DataFrame()\n",
    "\n",
    "for source, subset in zip(sources, subset_ds):\n",
    "    df = subset.to_pandas()\n",
    "    df[\"Source\"] = [source]*len(df)\n",
    "    df[\"ID\"] = [source+str(i) for i in range(len(df))]\n",
    "    print(f\"On source: {source}\")\n",
    "    new_dataset_nl = pd.concat([new_dataset_nl, df], ignore_index=True)"
   ],
   "metadata": {
    "collapsed": false,
    "ExecuteTime": {
     "end_time": "2025-09-19T07:56:31.353242200Z",
     "start_time": "2025-09-19T07:56:27.456218400Z"
    }
   },
   "id": "50d443830b5422d6"
  },
  {
   "cell_type": "code",
   "execution_count": 8,
   "outputs": [],
   "source": [
    "new_dataset_nl[\"SourceCountry\"] = [\"NL\"]*len(new_dataset_nl)\n",
    "new_dataset_nl[\"SourceLang\"] = [\"NL\"]*len(new_dataset_nl)"
   ],
   "metadata": {
    "collapsed": false,
    "ExecuteTime": {
     "end_time": "2025-09-19T07:56:31.399949500Z",
     "start_time": "2025-09-19T07:56:31.347212100Z"
    }
   },
   "id": "f80e4417d641ba55"
  },
  {
   "cell_type": "code",
   "execution_count": 32,
   "outputs": [],
   "source": [
    "## delpher had french english and dutch articles in one newspaper/had specific french and english newspapers: the french ones were highly censored so need to further refine SourceLang\n",
    "from lingua import Language, LanguageDetectorBuilder # fastest I could find\n",
    "\n",
    "languages = [Language.ENGLISH, Language.DUTCH, Language.FRENCH]\n",
    "detector = LanguageDetectorBuilder.from_languages(*languages).build()\n",
    "# detector.detect_language_of(x[2]).iso_code_639_1.name\n",
    "def detect_lang(example):\n",
    "    try:\n",
    "        return detector.detect_language_of(example).iso_code_639_1.name\n",
    "    except:\n",
    "        return \"NL\"\n",
    "    \n",
    "new_dataset_nl['SourceLang'] = new_dataset_nl['CleanedText'].map(detect_lang)"
   ],
   "metadata": {
    "collapsed": false,
    "ExecuteTime": {
     "end_time": "2025-09-19T08:28:00.437556800Z",
     "start_time": "2025-09-19T08:25:04.155175800Z"
    }
   },
   "id": "b663cd05be5a915a"
  },
  {
   "cell_type": "code",
   "execution_count": 34,
   "outputs": [
    {
     "data": {
      "text/plain": "Saving the dataset (0/1 shards):   0%|          | 0/575182 [00:00<?, ? examples/s]",
      "application/vnd.jupyter.widget-view+json": {
       "version_major": 2,
       "version_minor": 0,
       "model_id": "c45f2131c7a2487cb5b211730bc75fda"
      }
     },
     "metadata": {},
     "output_type": "display_data"
    }
   ],
   "source": [
    "ds_nl = Dataset.from_pandas(new_dataset_nl)\n",
    "ds_nl.save_to_disk(\"all-texts-dutch\")"
   ],
   "metadata": {
    "collapsed": false,
    "ExecuteTime": {
     "end_time": "2025-09-19T08:29:11.516173100Z",
     "start_time": "2025-09-19T08:29:06.814415700Z"
    }
   },
   "id": "251ac8fcb60f174d"
  },
  {
   "cell_type": "markdown",
   "source": [
    "## American/English sources"
   ],
   "metadata": {
    "collapsed": false
   },
   "id": "3b965f10ca3296de"
  },
  {
   "cell_type": "code",
   "execution_count": 10,
   "outputs": [],
   "source": [
    "ds_american_s = AmericanStories(year_list=years).dataset.filter(lambda example: example[\"Year\"] in years and len(example[\"CleanedText\"])>100)\n",
    "ds_wiki_en = Wikipedia(language='en').dataset.filter(lambda example: len(example[\"CleanedText\"])>100)\n",
    "ds_blbooks = BLBooks().dataset.filter(lambda example: len(example[\"CleanedText\"])>100)"
   ],
   "metadata": {
    "collapsed": false,
    "ExecuteTime": {
     "end_time": "2025-09-18T15:07:40.198776400Z",
     "start_time": "2025-09-18T15:07:39.675482700Z"
    }
   },
   "id": "4695ca31bc6c46df"
  },
  {
   "cell_type": "code",
   "execution_count": 11,
   "outputs": [],
   "source": [
    "datasets = [ds_american_s, ds_wiki_en, ds_blbooks]\n",
    "ds_names = ['amserican_stories', 'wiki', 'blboooks']"
   ],
   "metadata": {
    "collapsed": false,
    "ExecuteTime": {
     "end_time": "2025-09-18T15:07:41.667420600Z",
     "start_time": "2025-09-18T15:07:41.636550700Z"
    }
   },
   "id": "a480b11c29794a51"
  },
  {
   "cell_type": "code",
   "execution_count": 12,
   "outputs": [
    {
     "data": {
      "text/plain": "Flattening the indices:   0%|          | 0/508561 [00:00<?, ? examples/s]",
      "application/vnd.jupyter.widget-view+json": {
       "version_major": 2,
       "version_minor": 0,
       "model_id": "63732a0fce2549f7adf12e3cf944afbf"
      }
     },
     "metadata": {},
     "output_type": "display_data"
    }
   ],
   "source": [
    "datasets[0] = datasets[0].rename_columns({\"newspaper_name\": \"Filename\"}) # american stories\n",
    "datasets[1] = datasets[1].rename_columns({\"Topic\": \"Filename\"}) # wikipedia\n",
    "datasets[2] = datasets[2].add_column(\"Year\", [x.year for x in datasets[2]['date']]) # BL books\n",
    "datasets[2] = datasets[2].rename_columns({\"title\": \"Filename\"}) # BL books"
   ],
   "metadata": {
    "collapsed": false,
    "ExecuteTime": {
     "end_time": "2025-09-18T15:08:38.946885200Z",
     "start_time": "2025-09-18T15:07:42.879557200Z"
    }
   },
   "id": "739cd76ff7056ec6"
  },
  {
   "cell_type": "code",
   "execution_count": 14,
   "outputs": [],
   "source": [
    "subset_ds = [x.select_columns([\"Year\", \"Filename\", \"CleanedText\"]) for x in datasets]\n",
    "sources = [x for x in ds_names]"
   ],
   "metadata": {
    "collapsed": false,
    "ExecuteTime": {
     "end_time": "2025-09-18T15:08:58.385048200Z",
     "start_time": "2025-09-18T15:08:58.355763800Z"
    }
   },
   "id": "de9b3c981accfc80"
  },
  {
   "cell_type": "code",
   "execution_count": 15,
   "outputs": [
    {
     "name": "stdout",
     "output_type": "stream",
     "text": [
      "On source: amserican_stories\n",
      "On source: wiki\n",
      "On source: blboooks\n"
     ]
    }
   ],
   "source": [
    "new_dataset_en = pd.DataFrame()\n",
    "\n",
    "for source, subset in zip(sources, subset_ds):\n",
    "    df = subset.to_pandas()\n",
    "    df[\"Source\"] = [source]*len(df)\n",
    "    df[\"ID\"] = [source+str(i) for i in range(len(df))]\n",
    "    print(f\"On source: {source}\")\n",
    "    new_dataset_en = pd.concat([new_dataset_en, df], ignore_index=True)"
   ],
   "metadata": {
    "collapsed": false,
    "ExecuteTime": {
     "end_time": "2025-09-18T15:09:12.071648400Z",
     "start_time": "2025-09-18T15:08:59.630112300Z"
    }
   },
   "id": "d100bd27d3f64d67"
  },
  {
   "cell_type": "code",
   "execution_count": 16,
   "outputs": [],
   "source": [
    "new_dataset_en[\"SourceCountry\"] = [\"EN\"]*len(new_dataset_en)\n",
    "new_dataset_en[\"SourceLang\"] = [\"EN\"]*len(new_dataset_en)"
   ],
   "metadata": {
    "collapsed": false,
    "ExecuteTime": {
     "end_time": "2025-09-18T15:09:12.173575700Z",
     "start_time": "2025-09-18T15:09:12.091226500Z"
    }
   },
   "id": "254b96b268ac8899"
  },
  {
   "cell_type": "markdown",
   "source": [
    "## French sources"
   ],
   "metadata": {
    "collapsed": false
   },
   "id": "fcfca4f2b23dc47d"
  },
  {
   "cell_type": "markdown",
   "source": [
    "Create two datasets: one with text and information, one with metadata\n",
    "\n",
    "df 1 columns: source, id, cleaned_text, \n",
    "df 2 columns: id, filename, source_country, source_language, current_language, translated?, topic, year(published) "
   ],
   "metadata": {
    "collapsed": false
   },
   "id": "7c710e512fa3de48"
  },
  {
   "cell_type": "code",
   "execution_count": 16,
   "outputs": [
    {
     "data": {
      "text/plain": "Saving the dataset (0/1 shards):   0%|          | 0/607687 [00:00<?, ? examples/s]",
      "application/vnd.jupyter.widget-view+json": {
       "version_major": 2,
       "version_minor": 0,
       "model_id": "c775d4351fbb41f4a90285e5a954a22d"
      }
     },
     "metadata": {},
     "output_type": "display_data"
    },
    {
     "data": {
      "text/plain": "Saving the dataset (0/1 shards):   0%|          | 0/607687 [00:00<?, ? examples/s]",
      "application/vnd.jupyter.widget-view+json": {
       "version_major": 2,
       "version_minor": 0,
       "model_id": "84e09d75fd6f4f0b924cd209206cf31a"
      }
     },
     "metadata": {},
     "output_type": "display_data"
    },
    {
     "name": "stdout",
     "output_type": "stream",
     "text": [
      "Dataset({\n",
      "    features: ['Source', 'ID', 'CleanedText'],\n",
      "    num_rows: 607687\n",
      "}) Dataset({\n",
      "    features: ['ID', 'Filename', 'SourceCountry', 'SourceLang', 'CurrentLang', 'Year'],\n",
      "    num_rows: 607687\n",
      "})\n"
     ]
    }
   ],
   "source": [
    "new_ds = pd.concat([Dataset.from_pandas(new_dataset_nl), Dataset.from_pandas(new_dataset_en)])\n",
    "ds1 = new_ds.select_columns([\"Source\", \"ID\", \"CleanedText\"])\n",
    "ds2 = new_ds.select_columns([\"ID\", \"Filename\", \"SourceCountry\", \"SourceLang\", \"Year\"])\n",
    "\n",
    "# TODO: add way to add topics in ds1\n",
    "ds1.save_to_disk(\"all-texts\")\n",
    "ds2.save_to_disk(\"all-metadata\")"
   ],
   "metadata": {
    "collapsed": false,
    "ExecuteTime": {
     "end_time": "2025-09-17T08:38:13.187853100Z",
     "start_time": "2025-09-17T08:38:08.361843700Z"
    }
   },
   "id": "767043221109b7b"
  }
 ],
 "metadata": {
  "kernelspec": {
   "display_name": "Python 3",
   "language": "python",
   "name": "python3"
  },
  "language_info": {
   "codemirror_mode": {
    "name": "ipython",
    "version": 2
   },
   "file_extension": ".py",
   "mimetype": "text/x-python",
   "name": "python",
   "nbconvert_exporter": "python",
   "pygments_lexer": "ipython2",
   "version": "2.7.6"
  }
 },
 "nbformat": 4,
 "nbformat_minor": 5
}
