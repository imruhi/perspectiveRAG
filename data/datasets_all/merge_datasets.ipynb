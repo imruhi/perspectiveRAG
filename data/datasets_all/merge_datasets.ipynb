{
 "cells": [
  {
   "cell_type": "code",
   "execution_count": 5,
   "outputs": [],
   "source": [
    "import os\n",
    "import glob\n",
    "\n",
    "import pandas as pd\n",
    "from datasets import Dataset, load_from_disk"
   ],
   "metadata": {
    "collapsed": false,
    "ExecuteTime": {
     "end_time": "2025-09-17T08:36:20.320847500Z",
     "start_time": "2025-09-17T08:36:20.309244400Z"
    }
   },
   "id": "7194b78e5e7c5bdc"
  },
  {
   "cell_type": "code",
   "execution_count": 6,
   "outputs": [
    {
     "name": "stdout",
     "output_type": "stream",
     "text": [
      "Cleaning data since cleaned version not found\n"
     ]
    },
    {
     "data": {
      "text/plain": "Saving the dataset (0/2 shards):   0%|          | 0/486703 [00:00<?, ? examples/s]",
      "application/vnd.jupyter.widget-view+json": {
       "version_major": 2,
       "version_minor": 0,
       "model_id": "a234991be6e347bb86aae5e89a4c668c"
      }
     },
     "metadata": {},
     "output_type": "display_data"
    },
    {
     "data": {
      "text/plain": "Filter:   0%|          | 0/486703 [00:00<?, ? examples/s]",
      "application/vnd.jupyter.widget-view+json": {
       "version_major": 2,
       "version_minor": 0,
       "model_id": "8696dcc692a5474296425bd1ef95b470"
      }
     },
     "metadata": {},
     "output_type": "display_data"
    },
    {
     "name": "stdout",
     "output_type": "stream",
     "text": [
      "Cleaning data since cleaned version not found\n"
     ]
    },
    {
     "data": {
      "text/plain": "Saving the dataset (0/1 shards):   0%|          | 0/90725 [00:00<?, ? examples/s]",
      "application/vnd.jupyter.widget-view+json": {
       "version_major": 2,
       "version_minor": 0,
       "model_id": "f338ed33250842e5a06075057ef4ae40"
      }
     },
     "metadata": {},
     "output_type": "display_data"
    },
    {
     "data": {
      "text/plain": "Filter:   0%|          | 0/90725 [00:00<?, ? examples/s]",
      "application/vnd.jupyter.widget-view+json": {
       "version_major": 2,
       "version_minor": 0,
       "model_id": "ab2343f8b2bf47588374e6106607ff42"
      }
     },
     "metadata": {},
     "output_type": "display_data"
    },
    {
     "name": "stdout",
     "output_type": "stream",
     "text": [
      "Cleaning data since cleaned version not found\n"
     ]
    },
    {
     "data": {
      "text/plain": "Saving the dataset (0/1 shards):   0%|          | 0/1772 [00:00<?, ? examples/s]",
      "application/vnd.jupyter.widget-view+json": {
       "version_major": 2,
       "version_minor": 0,
       "model_id": "c46ee8e11f814afc99161ad718b32375"
      }
     },
     "metadata": {},
     "output_type": "display_data"
    },
    {
     "data": {
      "text/plain": "Filter:   0%|          | 0/1772 [00:00<?, ? examples/s]",
      "application/vnd.jupyter.widget-view+json": {
       "version_major": 2,
       "version_minor": 0,
       "model_id": "39ffc01fe8db42d3874beaae52fdf152"
      }
     },
     "metadata": {},
     "output_type": "display_data"
    },
    {
     "name": "stdout",
     "output_type": "stream",
     "text": [
      "Cleaning data since cleaned version not found\n"
     ]
    },
    {
     "data": {
      "text/plain": "Saving the dataset (0/1 shards):   0%|          | 0/28487 [00:00<?, ? examples/s]",
      "application/vnd.jupyter.widget-view+json": {
       "version_major": 2,
       "version_minor": 0,
       "model_id": "5ad1c2c39ebc4965b7e484091d810a96"
      }
     },
     "metadata": {},
     "output_type": "display_data"
    },
    {
     "data": {
      "text/plain": "Filter:   0%|          | 0/28487 [00:00<?, ? examples/s]",
      "application/vnd.jupyter.widget-view+json": {
       "version_major": 2,
       "version_minor": 0,
       "model_id": "998efbc3d6df4139b1f375d4199b4dd1"
      }
     },
     "metadata": {},
     "output_type": "display_data"
    }
   ],
   "source": [
    "from data.data import Delpher, Plakaatboeken, Wikipedia, DBNL\n",
    "\n",
    "years = [1805, 1806, 1807, 1808, 1809, 1810, 1811, 1812, 1813, 1814, 1815, 1816, 1817, 1818, 1819]\n",
    "# loading cleaned versions\n",
    "ds_delpher = Delpher().dataset.filter(lambda example: example[\"Year\"] in years and len(example[\"CleanedText\"])>100)\n",
    "ds_dbnl = DBNL().dataset.filter(lambda example: example[\"Year\"] in years and len(example[\"CleanedText\"])>100)\n",
    "ds_wiki = Wikipedia(language='nl').dataset.filter(lambda example: len(example[\"CleanedText\"])>100)\n",
    "ds_plakaatboek = Plakaatboeken().dataset.filter(lambda example: example[\"Year\"] in years and len(example[\"CleanedText\"])>100)\n"
   ],
   "metadata": {
    "collapsed": false,
    "ExecuteTime": {
     "end_time": "2025-09-17T08:36:50.804553700Z",
     "start_time": "2025-09-17T08:36:21.123620400Z"
    }
   },
   "id": "fb7e265f1905438b"
  },
  {
   "cell_type": "code",
   "execution_count": 10,
   "outputs": [],
   "source": [
    "ds_paths = glob.glob(\"*-cleaned\") \n",
    "ds_paths.sort()"
   ],
   "metadata": {
    "collapsed": false,
    "ExecuteTime": {
     "end_time": "2025-09-17T08:37:53.702469300Z",
     "start_time": "2025-09-17T08:37:53.686391300Z"
    }
   },
   "id": "initial_id"
  },
  {
   "cell_type": "code",
   "execution_count": 11,
   "outputs": [
    {
     "data": {
      "text/plain": "['dbnl-subset-cleaned',\n 'delpher-subset-cleaned',\n 'plakaatboeken-cleaned',\n 'wikipedia-subset-cleaned']"
     },
     "execution_count": 11,
     "metadata": {},
     "output_type": "execute_result"
    }
   ],
   "source": [
    "ds_paths"
   ],
   "metadata": {
    "collapsed": false,
    "ExecuteTime": {
     "end_time": "2025-09-17T08:37:54.438015800Z",
     "start_time": "2025-09-17T08:37:54.426018600Z"
    }
   },
   "id": "410bb2a6e98b7127"
  },
  {
   "cell_type": "code",
   "execution_count": 12,
   "outputs": [],
   "source": [
    "datasets = [load_from_disk(x) for x in ds_paths]\n",
    "datasets[0] = datasets[0].rename_columns({\"Title\": \"Filename\"}) # dbnl\n",
    "datasets[1] = datasets[1].rename_columns({\"Newspaper\": \"Filename\"}) # delpher\n",
    "datasets[2] = datasets[2].rename_columns({\"Book\": \"Filename\"}) # plakaatboek\n",
    "datasets[3] = datasets[3].rename_columns({\"Topic\": \"Filename\"}) # wikipedia"
   ],
   "metadata": {
    "collapsed": false,
    "ExecuteTime": {
     "end_time": "2025-09-17T08:38:00.602884600Z",
     "start_time": "2025-09-17T08:38:00.493258700Z"
    }
   },
   "id": "fa251fd906ef1aa9"
  },
  {
   "cell_type": "code",
   "execution_count": 13,
   "outputs": [],
   "source": [
    "subset_ds = [x.select_columns([\"Year\", \"Filename\", \"CleanedText\"]) for x in datasets]\n",
    "sources = [x.split('-')[0] for x in ds_paths]"
   ],
   "metadata": {
    "collapsed": false,
    "ExecuteTime": {
     "end_time": "2025-09-17T08:38:02.029005200Z",
     "start_time": "2025-09-17T08:38:02.013134Z"
    }
   },
   "id": "834013c046364267"
  },
  {
   "cell_type": "code",
   "execution_count": 14,
   "outputs": [
    {
     "name": "stdout",
     "output_type": "stream",
     "text": [
      "On source: dbnl\n",
      "On source: delpher\n",
      "On source: plakaatboeken\n",
      "On source: wikipedia\n"
     ]
    }
   ],
   "source": [
    "new_dataset = pd.DataFrame()\n",
    "\n",
    "for source, subset in zip(sources, subset_ds):\n",
    "    df = subset.to_pandas()\n",
    "    df[\"Source\"] = [source]*len(df)\n",
    "    df[\"ID\"] = [source+str(i) for i in range(len(df))]\n",
    "    print(f\"On source: {source}\")\n",
    "    new_dataset = pd.concat([new_dataset, df], ignore_index=True)"
   ],
   "metadata": {
    "collapsed": false,
    "ExecuteTime": {
     "end_time": "2025-09-17T08:38:05.036291500Z",
     "start_time": "2025-09-17T08:38:03.548946500Z"
    }
   },
   "id": "50d443830b5422d6"
  },
  {
   "cell_type": "code",
   "execution_count": 15,
   "outputs": [],
   "source": [
    "new_dataset[\"SourceCountry\"] = [\"NL\"]*len(new_dataset)\n",
    "new_dataset[\"SourceCountry\"] = [\"NL\"]*len(new_dataset)\n",
    "new_dataset[\"SourceLang\"] = [\"nl\"]*len(new_dataset)\n",
    "new_dataset[\"CurrentLang\"] = [\"nl\"]*len(new_dataset)"
   ],
   "metadata": {
    "collapsed": false,
    "ExecuteTime": {
     "end_time": "2025-09-17T08:38:06.599480900Z",
     "start_time": "2025-09-17T08:38:06.424775300Z"
    }
   },
   "id": "f80e4417d641ba55"
  },
  {
   "cell_type": "markdown",
   "source": [
    "Create two datasets: one with text and information, one with metadata\n",
    "\n",
    "df 1 columns: source, id, cleaned_text, \n",
    "df 2 columns: id, filename, source_country, source_language, current_language, translated?, topic, year(published) "
   ],
   "metadata": {
    "collapsed": false
   },
   "id": "7c710e512fa3de48"
  },
  {
   "cell_type": "code",
   "execution_count": 16,
   "outputs": [
    {
     "data": {
      "text/plain": "Saving the dataset (0/1 shards):   0%|          | 0/607687 [00:00<?, ? examples/s]",
      "application/vnd.jupyter.widget-view+json": {
       "version_major": 2,
       "version_minor": 0,
       "model_id": "c775d4351fbb41f4a90285e5a954a22d"
      }
     },
     "metadata": {},
     "output_type": "display_data"
    },
    {
     "data": {
      "text/plain": "Saving the dataset (0/1 shards):   0%|          | 0/607687 [00:00<?, ? examples/s]",
      "application/vnd.jupyter.widget-view+json": {
       "version_major": 2,
       "version_minor": 0,
       "model_id": "84e09d75fd6f4f0b924cd209206cf31a"
      }
     },
     "metadata": {},
     "output_type": "display_data"
    },
    {
     "name": "stdout",
     "output_type": "stream",
     "text": [
      "Dataset({\n",
      "    features: ['Source', 'ID', 'CleanedText'],\n",
      "    num_rows: 607687\n",
      "}) Dataset({\n",
      "    features: ['ID', 'Filename', 'SourceCountry', 'SourceLang', 'CurrentLang', 'Year'],\n",
      "    num_rows: 607687\n",
      "})\n"
     ]
    }
   ],
   "source": [
    "new_ds = Dataset.from_pandas(new_dataset)\n",
    "ds1 = new_ds.select_columns([\"Source\", \"ID\", \"CleanedText\"])\n",
    "ds2 = new_ds.select_columns([\"ID\", \"Filename\", \"SourceCountry\", \"SourceLang\", \"CurrentLang\", \"Year\"])\n",
    "ds1.save_to_disk(\"all-texts\")\n",
    "ds2.save_to_disk(\"all-metadata\")\n",
    "# TODO: add the topic column using the topic model\n",
    "print(ds1, ds2)"
   ],
   "metadata": {
    "collapsed": false,
    "ExecuteTime": {
     "end_time": "2025-09-17T08:38:13.187853100Z",
     "start_time": "2025-09-17T08:38:08.361843700Z"
    }
   },
   "id": "767043221109b7b"
  },
  {
   "cell_type": "code",
   "execution_count": 17,
   "outputs": [
    {
     "data": {
      "text/plain": "'onjuiste paginanummer 54 is verbeterd. p. 79: Franschon  Franschen: dat hij en zijne Franschen, of zelfs. p. 84: V.  Z.: Z. Die Uitleiders veroorzaakten derhalven. p. 100: wraen  waren: V. De meesten waren voorgangers. p. 101: Z.  V.: V. Op allerlei manieren! Mannen, Vrouwen. p. 101: mogeijk  mogelijk: Hoe was dat mogelijk. aa__002tijr01_01 DBNL-TEI 1 2024 dbnl unicode exemplaar Koninklijke Bibliotheek Den Haag, signatuur: KW NOM T 24, scan van Google Books Cornelis van der Aa, De tijrannijen der Franschen in de jaaren 1747, 1795-1813, in de Nederlanden gepleegd. Wouter Brave, Amsterdam 1814 Wijze van coderen: standaard Nederlands De tijrannijen der Franschen in de jaaren 1747, 1795-1813, in de'"
     },
     "execution_count": 17,
     "metadata": {},
     "output_type": "execute_result"
    }
   ],
   "source": [
    "ds1[2]['CleanedText']"
   ],
   "metadata": {
    "collapsed": false,
    "ExecuteTime": {
     "end_time": "2025-09-17T08:38:15.338565100Z",
     "start_time": "2025-09-17T08:38:15.319441600Z"
    }
   },
   "id": "a9f64fb4071eb1b"
  },
  {
   "cell_type": "code",
   "execution_count": 18,
   "outputs": [],
   "source": [
    "ds1 = load_from_disk(\"all-texts\")"
   ],
   "metadata": {
    "collapsed": false,
    "ExecuteTime": {
     "end_time": "2025-09-17T08:38:18.272636600Z",
     "start_time": "2025-09-17T08:38:18.150149800Z"
    }
   },
   "id": "5c8cccc2592e531c"
  },
  {
   "cell_type": "code",
   "execution_count": 19,
   "outputs": [
    {
     "data": {
      "text/plain": "['dbnl0',\n 'dbnl1',\n 'dbnl2',\n 'dbnl3',\n 'dbnl4',\n 'dbnl5',\n 'dbnl6',\n 'dbnl7',\n 'dbnl8',\n 'dbnl9',\n 'dbnl10',\n 'dbnl11',\n 'dbnl12',\n 'dbnl13',\n 'dbnl14',\n 'dbnl15',\n 'dbnl16',\n 'dbnl17',\n 'dbnl18',\n 'dbnl19',\n 'dbnl20',\n 'dbnl21',\n 'dbnl22',\n 'dbnl23',\n 'dbnl24',\n 'dbnl25',\n 'dbnl26',\n 'dbnl27',\n 'dbnl28',\n 'dbnl29',\n 'dbnl30',\n 'dbnl31',\n 'dbnl32',\n 'dbnl33',\n 'dbnl34',\n 'dbnl35',\n 'dbnl36',\n 'dbnl37',\n 'dbnl38',\n 'dbnl39',\n 'dbnl40',\n 'dbnl41',\n 'dbnl42',\n 'dbnl43',\n 'dbnl44',\n 'dbnl45',\n 'dbnl46',\n 'dbnl47',\n 'dbnl48',\n 'dbnl49',\n 'dbnl50',\n 'dbnl51',\n 'dbnl52',\n 'dbnl53',\n 'dbnl54',\n 'dbnl55',\n 'dbnl56',\n 'dbnl57',\n 'dbnl58',\n 'dbnl59',\n 'dbnl60',\n 'dbnl61',\n 'dbnl62',\n 'dbnl63',\n 'dbnl64',\n 'dbnl65',\n 'dbnl66',\n 'dbnl67',\n 'dbnl68',\n 'dbnl69',\n 'dbnl70',\n 'dbnl71',\n 'dbnl72',\n 'dbnl73',\n 'dbnl74',\n 'dbnl75',\n 'dbnl76',\n 'dbnl77',\n 'dbnl78',\n 'dbnl79',\n 'dbnl80',\n 'dbnl81',\n 'dbnl82',\n 'dbnl83',\n 'dbnl84',\n 'dbnl85',\n 'dbnl86',\n 'dbnl87',\n 'dbnl88',\n 'dbnl89',\n 'dbnl90',\n 'dbnl91',\n 'dbnl92',\n 'dbnl93',\n 'dbnl94',\n 'dbnl95',\n 'dbnl96',\n 'dbnl97',\n 'dbnl98',\n 'dbnl99',\n 'dbnl100',\n 'dbnl101',\n 'dbnl102',\n 'dbnl103',\n 'dbnl104',\n 'dbnl105',\n 'dbnl106',\n 'dbnl107',\n 'dbnl108',\n 'dbnl109',\n 'dbnl110',\n 'dbnl111',\n 'dbnl112',\n 'dbnl113',\n 'dbnl114',\n 'dbnl115',\n 'dbnl116',\n 'dbnl117',\n 'dbnl118',\n 'dbnl119',\n 'dbnl120',\n 'dbnl121',\n 'dbnl122',\n 'dbnl123',\n 'dbnl124',\n 'dbnl125',\n 'dbnl126',\n 'dbnl127',\n 'dbnl128',\n 'dbnl129',\n 'dbnl130',\n 'dbnl131',\n 'dbnl132',\n 'dbnl133',\n 'dbnl134',\n 'dbnl135',\n 'dbnl136',\n 'dbnl137',\n 'dbnl138',\n 'dbnl139',\n 'dbnl140',\n 'dbnl141',\n 'dbnl142',\n 'dbnl143',\n 'dbnl144',\n 'dbnl145',\n 'dbnl146',\n 'dbnl147',\n 'dbnl148',\n 'dbnl149',\n 'dbnl150',\n 'dbnl151',\n 'dbnl152',\n 'dbnl153',\n 'dbnl154',\n 'dbnl155',\n 'dbnl156',\n 'dbnl157',\n 'dbnl158',\n 'dbnl159',\n 'dbnl160',\n 'dbnl161',\n 'dbnl162',\n 'dbnl163',\n 'dbnl164',\n 'dbnl165',\n 'dbnl166',\n 'dbnl167',\n 'dbnl168',\n 'dbnl169',\n 'dbnl170',\n 'dbnl171',\n 'dbnl172',\n 'dbnl173',\n 'dbnl174',\n 'dbnl175',\n 'dbnl176',\n 'dbnl177',\n 'dbnl178',\n 'dbnl179',\n 'dbnl180',\n 'dbnl181',\n 'dbnl182',\n 'dbnl183',\n 'dbnl184',\n 'dbnl185',\n 'dbnl186',\n 'dbnl187',\n 'dbnl188',\n 'dbnl189',\n 'dbnl190',\n 'dbnl191',\n 'dbnl192',\n 'dbnl193',\n 'dbnl194',\n 'dbnl195',\n 'dbnl196',\n 'dbnl197',\n 'dbnl198',\n 'dbnl199',\n 'dbnl200',\n 'dbnl201',\n 'dbnl202',\n 'dbnl203',\n 'dbnl204',\n 'dbnl205',\n 'dbnl206',\n 'dbnl207',\n 'dbnl208',\n 'dbnl209',\n 'dbnl210',\n 'dbnl211',\n 'dbnl212',\n 'dbnl213',\n 'dbnl214',\n 'dbnl215',\n 'dbnl216',\n 'dbnl217',\n 'dbnl218',\n 'dbnl219',\n 'dbnl220',\n 'dbnl221',\n 'dbnl222',\n 'dbnl223',\n 'dbnl224',\n 'dbnl225',\n 'dbnl226',\n 'dbnl227',\n 'dbnl228',\n 'dbnl229',\n 'dbnl230',\n 'dbnl231',\n 'dbnl232',\n 'dbnl233',\n 'dbnl234',\n 'dbnl235',\n 'dbnl236',\n 'dbnl237',\n 'dbnl238',\n 'dbnl239',\n 'dbnl240',\n 'dbnl241',\n 'dbnl242',\n 'dbnl243',\n 'dbnl244',\n 'dbnl245',\n 'dbnl246',\n 'dbnl247',\n 'dbnl248',\n 'dbnl249',\n 'dbnl250',\n 'dbnl251',\n 'dbnl252',\n 'dbnl253',\n 'dbnl254',\n 'dbnl255',\n 'dbnl256',\n 'dbnl257',\n 'dbnl258',\n 'dbnl259',\n 'dbnl260',\n 'dbnl261',\n 'dbnl262',\n 'dbnl263',\n 'dbnl264',\n 'dbnl265',\n 'dbnl266',\n 'dbnl267',\n 'dbnl268',\n 'dbnl269',\n 'dbnl270',\n 'dbnl271',\n 'dbnl272',\n 'dbnl273',\n 'dbnl274',\n 'dbnl275',\n 'dbnl276',\n 'dbnl277',\n 'dbnl278',\n 'dbnl279',\n 'dbnl280',\n 'dbnl281',\n 'dbnl282',\n 'dbnl283',\n 'dbnl284',\n 'dbnl285',\n 'dbnl286',\n 'dbnl287',\n 'dbnl288',\n 'dbnl289',\n 'dbnl290',\n 'dbnl291',\n 'dbnl292',\n 'dbnl293',\n 'dbnl294',\n 'dbnl295',\n 'dbnl296',\n 'dbnl297',\n 'dbnl298',\n 'dbnl299',\n 'dbnl300',\n 'dbnl301',\n 'dbnl302',\n 'dbnl303',\n 'dbnl304',\n 'dbnl305',\n 'dbnl306',\n 'dbnl307',\n 'dbnl308',\n 'dbnl309',\n 'dbnl310',\n 'dbnl311',\n 'dbnl312',\n 'dbnl313',\n 'dbnl314',\n 'dbnl315',\n 'dbnl316',\n 'dbnl317',\n 'dbnl318',\n 'dbnl319',\n 'dbnl320',\n 'dbnl321',\n 'dbnl322',\n 'dbnl323',\n 'dbnl324',\n 'dbnl325',\n 'dbnl326',\n 'dbnl327',\n 'dbnl328',\n 'dbnl329',\n 'dbnl330',\n 'dbnl331',\n 'dbnl332',\n 'dbnl333',\n 'dbnl334',\n 'dbnl335',\n 'dbnl336',\n 'dbnl337',\n 'dbnl338',\n 'dbnl339',\n 'dbnl340',\n 'dbnl341',\n 'dbnl342',\n 'dbnl343',\n 'dbnl344',\n 'dbnl345',\n 'dbnl346',\n 'dbnl347',\n 'dbnl348',\n 'dbnl349',\n 'dbnl350',\n 'dbnl351',\n 'dbnl352',\n 'dbnl353',\n 'dbnl354',\n 'dbnl355',\n 'dbnl356',\n 'dbnl357',\n 'dbnl358',\n 'dbnl359',\n 'dbnl360',\n 'dbnl361',\n 'dbnl362',\n 'dbnl363',\n 'dbnl364',\n 'dbnl365',\n 'dbnl366',\n 'dbnl367',\n 'dbnl368',\n 'dbnl369',\n 'dbnl370',\n 'dbnl371',\n 'dbnl372',\n 'dbnl373',\n 'dbnl374',\n 'dbnl375',\n 'dbnl376',\n 'dbnl377',\n 'dbnl378',\n 'dbnl379',\n 'dbnl380',\n 'dbnl381',\n 'dbnl382',\n 'dbnl383',\n 'dbnl384',\n 'dbnl385',\n 'dbnl386',\n 'dbnl387',\n 'dbnl388',\n 'dbnl389',\n 'dbnl390',\n 'dbnl391',\n 'dbnl392',\n 'dbnl393',\n 'dbnl394',\n 'dbnl395',\n 'dbnl396',\n 'dbnl397',\n 'dbnl398',\n 'dbnl399',\n 'dbnl400',\n 'dbnl401',\n 'dbnl402',\n 'dbnl403',\n 'dbnl404',\n 'dbnl405',\n 'dbnl406',\n 'dbnl407',\n 'dbnl408',\n 'dbnl409',\n 'dbnl410',\n 'dbnl411',\n 'dbnl412',\n 'dbnl413',\n 'dbnl414',\n 'dbnl415',\n 'dbnl416',\n 'dbnl417',\n 'dbnl418',\n 'dbnl419',\n 'dbnl420',\n 'dbnl421',\n 'dbnl422',\n 'dbnl423',\n 'dbnl424',\n 'dbnl425',\n 'dbnl426',\n 'dbnl427',\n 'dbnl428',\n 'dbnl429',\n 'dbnl430',\n 'dbnl431',\n 'dbnl432',\n 'dbnl433',\n 'dbnl434',\n 'dbnl435',\n 'dbnl436',\n 'dbnl437',\n 'dbnl438',\n 'dbnl439',\n 'dbnl440',\n 'dbnl441',\n 'dbnl442',\n 'dbnl443',\n 'dbnl444',\n 'dbnl445',\n 'dbnl446',\n 'dbnl447',\n 'dbnl448',\n 'dbnl449',\n 'dbnl450',\n 'dbnl451',\n 'dbnl452',\n 'dbnl453',\n 'dbnl454',\n 'dbnl455',\n 'dbnl456',\n 'dbnl457',\n 'dbnl458',\n 'dbnl459',\n 'dbnl460',\n 'dbnl461',\n 'dbnl462',\n 'dbnl463',\n 'dbnl464',\n 'dbnl465',\n 'dbnl466',\n 'dbnl467',\n 'dbnl468',\n 'dbnl469',\n 'dbnl470',\n 'dbnl471',\n 'dbnl472',\n 'dbnl473',\n 'dbnl474',\n 'dbnl475',\n 'dbnl476',\n 'dbnl477',\n 'dbnl478',\n 'dbnl479',\n 'dbnl480',\n 'dbnl481',\n 'dbnl482',\n 'dbnl483',\n 'dbnl484',\n 'dbnl485',\n 'dbnl486',\n 'dbnl487',\n 'dbnl488',\n 'dbnl489',\n 'dbnl490',\n 'dbnl491',\n 'dbnl492',\n 'dbnl493',\n 'dbnl494',\n 'dbnl495',\n 'dbnl496',\n 'dbnl497',\n 'dbnl498',\n 'dbnl499',\n 'dbnl500',\n 'dbnl501',\n 'dbnl502',\n 'dbnl503',\n 'dbnl504',\n 'dbnl505',\n 'dbnl506',\n 'dbnl507',\n 'dbnl508',\n 'dbnl509',\n 'dbnl510',\n 'dbnl511',\n 'dbnl512',\n 'dbnl513',\n 'dbnl514',\n 'dbnl515',\n 'dbnl516',\n 'dbnl517',\n 'dbnl518',\n 'dbnl519',\n 'dbnl520',\n 'dbnl521',\n 'dbnl522',\n 'dbnl523',\n 'dbnl524',\n 'dbnl525',\n 'dbnl526',\n 'dbnl527',\n 'dbnl528',\n 'dbnl529',\n 'dbnl530',\n 'dbnl531',\n 'dbnl532',\n 'dbnl533',\n 'dbnl534',\n 'dbnl535',\n 'dbnl536',\n 'dbnl537',\n 'dbnl538',\n 'dbnl539',\n 'dbnl540',\n 'dbnl541',\n 'dbnl542',\n 'dbnl543',\n 'dbnl544',\n 'dbnl545',\n 'dbnl546',\n 'dbnl547',\n 'dbnl548',\n 'dbnl549',\n 'dbnl550',\n 'dbnl551',\n 'dbnl552',\n 'dbnl553',\n 'dbnl554',\n 'dbnl555',\n 'dbnl556',\n 'dbnl557',\n 'dbnl558',\n 'dbnl559',\n 'dbnl560',\n 'dbnl561',\n 'dbnl562',\n 'dbnl563',\n 'dbnl564',\n 'dbnl565',\n 'dbnl566',\n 'dbnl567',\n 'dbnl568',\n 'dbnl569',\n 'dbnl570',\n 'dbnl571',\n 'dbnl572',\n 'dbnl573',\n 'dbnl574',\n 'dbnl575',\n 'dbnl576',\n 'dbnl577',\n 'dbnl578',\n 'dbnl579',\n 'dbnl580',\n 'dbnl581',\n 'dbnl582',\n 'dbnl583',\n 'dbnl584',\n 'dbnl585',\n 'dbnl586',\n 'dbnl587',\n 'dbnl588',\n 'dbnl589',\n 'dbnl590',\n 'dbnl591',\n 'dbnl592',\n 'dbnl593',\n 'dbnl594',\n 'dbnl595',\n 'dbnl596',\n 'dbnl597',\n 'dbnl598',\n 'dbnl599',\n 'dbnl600',\n 'dbnl601',\n 'dbnl602',\n 'dbnl603',\n 'dbnl604',\n 'dbnl605',\n 'dbnl606',\n 'dbnl607',\n 'dbnl608',\n 'dbnl609',\n 'dbnl610',\n 'dbnl611',\n 'dbnl612',\n 'dbnl613',\n 'dbnl614',\n 'dbnl615',\n 'dbnl616',\n 'dbnl617',\n 'dbnl618',\n 'dbnl619',\n 'dbnl620',\n 'dbnl621',\n 'dbnl622',\n 'dbnl623',\n 'dbnl624',\n 'dbnl625',\n 'dbnl626',\n 'dbnl627',\n 'dbnl628',\n 'dbnl629',\n 'dbnl630',\n 'dbnl631',\n 'dbnl632',\n 'dbnl633',\n 'dbnl634',\n 'dbnl635',\n 'dbnl636',\n 'dbnl637',\n 'dbnl638',\n 'dbnl639',\n 'dbnl640',\n 'dbnl641',\n 'dbnl642',\n 'dbnl643',\n 'dbnl644',\n 'dbnl645',\n 'dbnl646',\n 'dbnl647',\n 'dbnl648',\n 'dbnl649',\n 'dbnl650',\n 'dbnl651',\n 'dbnl652',\n 'dbnl653',\n 'dbnl654',\n 'dbnl655',\n 'dbnl656',\n 'dbnl657',\n 'dbnl658',\n 'dbnl659',\n 'dbnl660',\n 'dbnl661',\n 'dbnl662',\n 'dbnl663',\n 'dbnl664',\n 'dbnl665',\n 'dbnl666',\n 'dbnl667',\n 'dbnl668',\n 'dbnl669',\n 'dbnl670',\n 'dbnl671',\n 'dbnl672',\n 'dbnl673',\n 'dbnl674',\n 'dbnl675',\n 'dbnl676',\n 'dbnl677',\n 'dbnl678',\n 'dbnl679',\n 'dbnl680',\n 'dbnl681',\n 'dbnl682',\n 'dbnl683',\n 'dbnl684',\n 'dbnl685',\n 'dbnl686',\n 'dbnl687',\n 'dbnl688',\n 'dbnl689',\n 'dbnl690',\n 'dbnl691',\n 'dbnl692',\n 'dbnl693',\n 'dbnl694',\n 'dbnl695',\n 'dbnl696',\n 'dbnl697',\n 'dbnl698',\n 'dbnl699',\n 'dbnl700',\n 'dbnl701',\n 'dbnl702',\n 'dbnl703',\n 'dbnl704',\n 'dbnl705',\n 'dbnl706',\n 'dbnl707',\n 'dbnl708',\n 'dbnl709',\n 'dbnl710',\n 'dbnl711',\n 'dbnl712',\n 'dbnl713',\n 'dbnl714',\n 'dbnl715',\n 'dbnl716',\n 'dbnl717',\n 'dbnl718',\n 'dbnl719',\n 'dbnl720',\n 'dbnl721',\n 'dbnl722',\n 'dbnl723',\n 'dbnl724',\n 'dbnl725',\n 'dbnl726',\n 'dbnl727',\n 'dbnl728',\n 'dbnl729',\n 'dbnl730',\n 'dbnl731',\n 'dbnl732',\n 'dbnl733',\n 'dbnl734',\n 'dbnl735',\n 'dbnl736',\n 'dbnl737',\n 'dbnl738',\n 'dbnl739',\n 'dbnl740',\n 'dbnl741',\n 'dbnl742',\n 'dbnl743',\n 'dbnl744',\n 'dbnl745',\n 'dbnl746',\n 'dbnl747',\n 'dbnl748',\n 'dbnl749',\n 'dbnl750',\n 'dbnl751',\n 'dbnl752',\n 'dbnl753',\n 'dbnl754',\n 'dbnl755',\n 'dbnl756',\n 'dbnl757',\n 'dbnl758',\n 'dbnl759',\n 'dbnl760',\n 'dbnl761',\n 'dbnl762',\n 'dbnl763',\n 'dbnl764',\n 'dbnl765',\n 'dbnl766',\n 'dbnl767',\n 'dbnl768',\n 'dbnl769',\n 'dbnl770',\n 'dbnl771',\n 'dbnl772',\n 'dbnl773',\n 'dbnl774',\n 'dbnl775',\n 'dbnl776',\n 'dbnl777',\n 'dbnl778',\n 'dbnl779',\n 'dbnl780',\n 'dbnl781',\n 'dbnl782',\n 'dbnl783',\n 'dbnl784',\n 'dbnl785',\n 'dbnl786',\n 'dbnl787',\n 'dbnl788',\n 'dbnl789',\n 'dbnl790',\n 'dbnl791',\n 'dbnl792',\n 'dbnl793',\n 'dbnl794',\n 'dbnl795',\n 'dbnl796',\n 'dbnl797',\n 'dbnl798',\n 'dbnl799',\n 'dbnl800',\n 'dbnl801',\n 'dbnl802',\n 'dbnl803',\n 'dbnl804',\n 'dbnl805',\n 'dbnl806',\n 'dbnl807',\n 'dbnl808',\n 'dbnl809',\n 'dbnl810',\n 'dbnl811',\n 'dbnl812',\n 'dbnl813',\n 'dbnl814',\n 'dbnl815',\n 'dbnl816',\n 'dbnl817',\n 'dbnl818',\n 'dbnl819',\n 'dbnl820',\n 'dbnl821',\n 'dbnl822',\n 'dbnl823',\n 'dbnl824',\n 'dbnl825',\n 'dbnl826',\n 'dbnl827',\n 'dbnl828',\n 'dbnl829',\n 'dbnl830',\n 'dbnl831',\n 'dbnl832',\n 'dbnl833',\n 'dbnl834',\n 'dbnl835',\n 'dbnl836',\n 'dbnl837',\n 'dbnl838',\n 'dbnl839',\n 'dbnl840',\n 'dbnl841',\n 'dbnl842',\n 'dbnl843',\n 'dbnl844',\n 'dbnl845',\n 'dbnl846',\n 'dbnl847',\n 'dbnl848',\n 'dbnl849',\n 'dbnl850',\n 'dbnl851',\n 'dbnl852',\n 'dbnl853',\n 'dbnl854',\n 'dbnl855',\n 'dbnl856',\n 'dbnl857',\n 'dbnl858',\n 'dbnl859',\n 'dbnl860',\n 'dbnl861',\n 'dbnl862',\n 'dbnl863',\n 'dbnl864',\n 'dbnl865',\n 'dbnl866',\n 'dbnl867',\n 'dbnl868',\n 'dbnl869',\n 'dbnl870',\n 'dbnl871',\n 'dbnl872',\n 'dbnl873',\n 'dbnl874',\n 'dbnl875',\n 'dbnl876',\n 'dbnl877',\n 'dbnl878',\n 'dbnl879',\n 'dbnl880',\n 'dbnl881',\n 'dbnl882',\n 'dbnl883',\n 'dbnl884',\n 'dbnl885',\n 'dbnl886',\n 'dbnl887',\n 'dbnl888',\n 'dbnl889',\n 'dbnl890',\n 'dbnl891',\n 'dbnl892',\n 'dbnl893',\n 'dbnl894',\n 'dbnl895',\n 'dbnl896',\n 'dbnl897',\n 'dbnl898',\n 'dbnl899',\n 'dbnl900',\n 'dbnl901',\n 'dbnl902',\n 'dbnl903',\n 'dbnl904',\n 'dbnl905',\n 'dbnl906',\n 'dbnl907',\n 'dbnl908',\n 'dbnl909',\n 'dbnl910',\n 'dbnl911',\n 'dbnl912',\n 'dbnl913',\n 'dbnl914',\n 'dbnl915',\n 'dbnl916',\n 'dbnl917',\n 'dbnl918',\n 'dbnl919',\n 'dbnl920',\n 'dbnl921',\n 'dbnl922',\n 'dbnl923',\n 'dbnl924',\n 'dbnl925',\n 'dbnl926',\n 'dbnl927',\n 'dbnl928',\n 'dbnl929',\n 'dbnl930',\n 'dbnl931',\n 'dbnl932',\n 'dbnl933',\n 'dbnl934',\n 'dbnl935',\n 'dbnl936',\n 'dbnl937',\n 'dbnl938',\n 'dbnl939',\n 'dbnl940',\n 'dbnl941',\n 'dbnl942',\n 'dbnl943',\n 'dbnl944',\n 'dbnl945',\n 'dbnl946',\n 'dbnl947',\n 'dbnl948',\n 'dbnl949',\n 'dbnl950',\n 'dbnl951',\n 'dbnl952',\n 'dbnl953',\n 'dbnl954',\n 'dbnl955',\n 'dbnl956',\n 'dbnl957',\n 'dbnl958',\n 'dbnl959',\n 'dbnl960',\n 'dbnl961',\n 'dbnl962',\n 'dbnl963',\n 'dbnl964',\n 'dbnl965',\n 'dbnl966',\n 'dbnl967',\n 'dbnl968',\n 'dbnl969',\n 'dbnl970',\n 'dbnl971',\n 'dbnl972',\n 'dbnl973',\n 'dbnl974',\n 'dbnl975',\n 'dbnl976',\n 'dbnl977',\n 'dbnl978',\n 'dbnl979',\n 'dbnl980',\n 'dbnl981',\n 'dbnl982',\n 'dbnl983',\n 'dbnl984',\n 'dbnl985',\n 'dbnl986',\n 'dbnl987',\n 'dbnl988',\n 'dbnl989',\n 'dbnl990',\n 'dbnl991',\n 'dbnl992',\n 'dbnl993',\n 'dbnl994',\n 'dbnl995',\n 'dbnl996',\n 'dbnl997',\n 'dbnl998',\n 'dbnl999',\n ...]"
     },
     "execution_count": 19,
     "metadata": {},
     "output_type": "execute_result"
    }
   ],
   "source": [
    "ds1[\"ID\"]"
   ],
   "metadata": {
    "collapsed": false,
    "ExecuteTime": {
     "end_time": "2025-09-17T08:38:20.945969300Z",
     "start_time": "2025-09-17T08:38:20.234469600Z"
    }
   },
   "id": "de9e882c749318ce"
  },
  {
   "cell_type": "markdown",
   "source": [
    "## Get topic labels for ds1"
   ],
   "metadata": {
    "collapsed": false
   },
   "id": "3408ca26eef7fe72"
  },
  {
   "cell_type": "code",
   "execution_count": null,
   "outputs": [],
   "source": [
    "ds1 = load_from_disk(\"all-texts\")"
   ],
   "metadata": {
    "collapsed": false
   },
   "id": "66c34fe7bb7fc4a7"
  },
  {
   "cell_type": "code",
   "execution_count": null,
   "outputs": [],
   "source": [
    "from sentence_transformers import SentenceTransformer\n",
    "\n",
    "embedding_model = SentenceTransformer(\"sentence-transformers/distiluse-base-multilingual-cased-v1\", model_kwargs={\"torch_dtype\": \"float16\"})\n"
   ],
   "metadata": {
    "collapsed": false
   },
   "id": "dd2c1d1b97f92ccf"
  }
 ],
 "metadata": {
  "kernelspec": {
   "display_name": "Python 3",
   "language": "python",
   "name": "python3"
  },
  "language_info": {
   "codemirror_mode": {
    "name": "ipython",
    "version": 2
   },
   "file_extension": ".py",
   "mimetype": "text/x-python",
   "name": "python",
   "nbconvert_exporter": "python",
   "pygments_lexer": "ipython2",
   "version": "2.7.6"
  }
 },
 "nbformat": 4,
 "nbformat_minor": 5
}
