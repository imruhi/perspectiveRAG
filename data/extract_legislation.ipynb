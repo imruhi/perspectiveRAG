{
 "cells": [
  {
   "cell_type": "code",
   "execution_count": 56,
   "outputs": [],
   "source": [
    "from glob import glob\n",
    "import re\n",
    "import pandas as pd\n",
    "from datasets import Dataset\n",
    "from data.processing import bool_remove\n",
    "from datasets import load_from_disk\n",
    "from rapidfuzz import process, fuzz\n",
    "import numpy as np\n",
    "import string"
   ],
   "metadata": {
    "collapsed": false,
    "ExecuteTime": {
     "end_time": "2025-09-02T11:11:45.287841Z",
     "start_time": "2025-09-02T11:11:45.270957200Z"
    }
   },
   "id": "aeaf3ae9f9a5d850"
  },
  {
   "cell_type": "code",
   "execution_count": 57,
   "outputs": [],
   "source": [
    "remove_punc = string.punctuation.replace('.','').replace(',','').replace(\"'\",'').replace(\"(\",'').replace(\"(\",'')"
   ],
   "metadata": {
    "collapsed": false,
    "ExecuteTime": {
     "end_time": "2025-09-02T11:11:45.313037400Z",
     "start_time": "2025-09-02T11:11:45.284556Z"
    }
   },
   "id": "3f2835b04ec28c8d"
  },
  {
   "cell_type": "code",
   "execution_count": 58,
   "outputs": [],
   "source": [
    "filepath  = \"data\\\\csvs\\\\*.csv\" \n",
    "files = glob(filepath, recursive=True)"
   ],
   "metadata": {
    "collapsed": false,
    "ExecuteTime": {
     "end_time": "2025-09-02T11:11:45.314035300Z",
     "start_time": "2025-09-02T11:11:45.297973200Z"
    }
   },
   "id": "68db3bd669676c2b"
  },
  {
   "cell_type": "code",
   "execution_count": 59,
   "outputs": [
    {
     "data": {
      "text/plain": "['data\\\\csvs\\\\PlakkaatboekDeel01_lines.csv',\n 'data\\\\csvs\\\\PlakkaatboekDeel02_lines.csv',\n 'data\\\\csvs\\\\PlakkaatboekDeel03_lines.csv',\n 'data\\\\csvs\\\\PlakkaatboekDeel04_lines.csv',\n 'data\\\\csvs\\\\PlakkaatboekDeel05_lines.csv',\n 'data\\\\csvs\\\\PlakkaatboekDeel06_lines.csv',\n 'data\\\\csvs\\\\PlakkaatboekDeel07_lines.csv',\n 'data\\\\csvs\\\\PlakkaatboekDeel08_lines.csv',\n 'data\\\\csvs\\\\PlakkaatboekDeel09_lines.csv',\n 'data\\\\csvs\\\\PlakkaatboekDeel10_lines.csv',\n 'data\\\\csvs\\\\PlakkaatboekDeel11_lines.csv',\n 'data\\\\csvs\\\\PlakkaatboekDeel12_lines.csv',\n 'data\\\\csvs\\\\PlakkaatboekDeel13_lines.csv',\n 'data\\\\csvs\\\\PlakkaatboekDeel14_lines.csv',\n 'data\\\\csvs\\\\PlakkaatboekDeel15_lines.csv',\n 'data\\\\csvs\\\\PlakkaatboekDeel16_lines.csv',\n 'data\\\\csvs\\\\PlakkaatboekDeel17_lines.csv']"
     },
     "execution_count": 59,
     "metadata": {},
     "output_type": "execute_result"
    }
   ],
   "source": [
    "files"
   ],
   "metadata": {
    "collapsed": false,
    "ExecuteTime": {
     "end_time": "2025-09-02T11:11:45.328243700Z",
     "start_time": "2025-09-02T11:11:45.314035300Z"
    }
   },
   "id": "dcb49f3df1232185"
  },
  {
   "cell_type": "code",
   "execution_count": 60,
   "outputs": [],
   "source": [
    "maanden = [\n",
    "    \"louwmaand\", \"sprokkelmaand\", \"lentmaand\", \"grasmaand\", \"blooimand\", \"zomermaand\", \n",
    "    \"hooimaand\", \"oogstmaand\", \"herfstmaand\", \"wijnmaand\", \"slaghtmaand\", \"wintermaand\",\n",
    "    \"januari\", \"februari\", \"maart\", \"april\", \"mei\", \"juni\",\n",
    "    \"juli\", \"augustus\", \"september\", \"oktober\", \"november\", \"december\",\n",
    "    \"Januari\", \"Februari\", \"Maart\", \"April\", \"Mei\", \"Juni\",\n",
    "    \"Juli\", \"Augustus\", \"September\", \"Oktober\", \"November\", \"December\",\n",
    "    'Louwmaand', 'Sprokkelmaand', 'Lentmaand', 'Grasmaand', 'Blooimand', 'Zomermaand',\n",
    "    'Hooimaand', 'Oogstmaand', 'Herfstmaand', 'Wijnmaand', 'Slaghtmaand', 'Wintermaand'\n",
    "]\n",
    "\n",
    "def fuzzy_matching(word, threshold=70):\n",
    "    match1, score1, _ = process.extractOne(word, maanden, scorer=fuzz.ratio)\n",
    "    return score1 >= threshold and len(word) >= 3"
   ],
   "metadata": {
    "collapsed": false,
    "ExecuteTime": {
     "end_time": "2025-09-02T11:11:45.371579500Z",
     "start_time": "2025-09-02T11:11:45.331255100Z"
    }
   },
   "id": "f3e6969566cb4028"
  },
  {
   "cell_type": "code",
   "execution_count": 61,
   "outputs": [
    {
     "name": "stdout",
     "output_type": "stream",
     "text": [
      "data\\csvs\\PlakkaatboekDeel01_lines.csv\n",
      "On PlakkaatboekDeel01\n",
      "Full length: 344\n",
      "Filtered length: 279\n",
      "data\\csvs\\PlakkaatboekDeel02_lines.csv\n",
      "On PlakkaatboekDeel02\n",
      "Full length: 615\n",
      "Filtered length: 511\n",
      "data\\csvs\\PlakkaatboekDeel03_lines.csv\n",
      "On PlakkaatboekDeel03\n",
      "Full length: 704\n",
      "Filtered length: 559\n",
      "data\\csvs\\PlakkaatboekDeel04_lines.csv\n",
      "On PlakkaatboekDeel04\n",
      "Full length: 895\n",
      "Filtered length: 672\n",
      "data\\csvs\\PlakkaatboekDeel05_lines.csv\n",
      "On PlakkaatboekDeel05\n",
      "Full length: 637\n",
      "Filtered length: 509\n",
      "data\\csvs\\PlakkaatboekDeel06_lines.csv\n",
      "On PlakkaatboekDeel06\n",
      "Full length: 476\n",
      "Filtered length: 378\n",
      "data\\csvs\\PlakkaatboekDeel07_lines.csv\n",
      "On PlakkaatboekDeel07\n",
      "Full length: 732\n",
      "Filtered length: 552\n",
      "data\\csvs\\PlakkaatboekDeel08_lines.csv\n",
      "On PlakkaatboekDeel08\n",
      "Full length: 719\n",
      "Filtered length: 538\n",
      "data\\csvs\\PlakkaatboekDeel09_lines.csv\n",
      "On PlakkaatboekDeel09\n",
      "Full length: 71\n",
      "Filtered length: 0\n",
      "data\\csvs\\PlakkaatboekDeel10_lines.csv\n",
      "On PlakkaatboekDeel10\n",
      "Full length: 760\n",
      "Filtered length: 602\n",
      "data\\csvs\\PlakkaatboekDeel11_lines.csv\n",
      "On PlakkaatboekDeel11\n",
      "Full length: 658\n",
      "Filtered length: 496\n",
      "data\\csvs\\PlakkaatboekDeel12_lines.csv\n",
      "On PlakkaatboekDeel12\n",
      "Full length: 692\n",
      "Filtered length: 553\n",
      "data\\csvs\\PlakkaatboekDeel13_lines.csv\n",
      "On PlakkaatboekDeel13\n",
      "Full length: 643\n",
      "Filtered length: 516\n",
      "data\\csvs\\PlakkaatboekDeel14_lines.csv\n",
      "On PlakkaatboekDeel14\n",
      "Full length: 742\n",
      "Filtered length: 542\n",
      "data\\csvs\\PlakkaatboekDeel15_lines.csv\n",
      "On PlakkaatboekDeel15\n",
      "Full length: 691\n",
      "Filtered length: 538\n",
      "data\\csvs\\PlakkaatboekDeel16_lines.csv\n",
      "On PlakkaatboekDeel16\n",
      "Full length: 566\n",
      "Filtered length: 492\n",
      "data\\csvs\\PlakkaatboekDeel17_lines.csv\n",
      "On PlakkaatboekDeel17\n",
      "Full length: 5\n",
      "Filtered length: 1\n"
     ]
    }
   ],
   "source": [
    "# Extract legislation\n",
    "dfs = []\n",
    "full_len = []\n",
    "filtered_len = []\n",
    "for file in files:\n",
    "    df = pd.read_csv(file, encoding='utf-8', converters={'points': pd.eval}).fillna('')\n",
    "    \n",
    "    # use knn classifier to determine if page heading (year, name of author)\n",
    "    if 'preds' not in df.columns:\n",
    "        df['preds'] = bool_remove(df[\"points\"]) \n",
    "        df.to_csv(file, encoding='utf-8')\n",
    "    print(file)        \n",
    "    name = file.split('_')[0].replace('.csv','').split(\"\\\\\")[-1]\n",
    "    print(f'On {name}')\n",
    "    ### Extracting legislation with year and dates\n",
    "    legislations = []\n",
    "    years = []\n",
    "    dates = []\n",
    "    \n",
    "    curr_year = ''\n",
    "    prev_year = ''\n",
    "    curr_date = '' # each date means new legislation\n",
    "    prev_date = ''\n",
    "    legislation = ''\n",
    "\n",
    "    for index, row in df.iterrows():\n",
    "        \n",
    "        if row.preds == 1 or row.boolHasLegisYear:\n",
    "            try:\n",
    "                curr_year = re.findall(r\"[0-9]{4}\", row.line)[0] # the first four numbers are the year\n",
    "                if prev_year == '':\n",
    "                    prev_year = curr_year\n",
    "            except:\n",
    "                continue\n",
    "        else:        \n",
    "            if \"REGISTER\" in row.line:\n",
    "                break # stop at the register at the end (index of book)\n",
    "            if not row.line.isupper() and not row.line.isalpha(): \n",
    "                # the titles on the top of the page (for the author, not always spelt correctly) are all caps\n",
    "               \n",
    "                if row.boolHasLegisDate: # there is a new legislation  \n",
    "                         \n",
    "                    try: # check if new date exists\n",
    "                        splits = row.line.split('.')\n",
    "                        # remove None\n",
    "                        dates_ = list(filter(None, re.split('(\\d{1,})|\\s', splits[0])))\n",
    "                        curr_date = ' '.join(dates_)\n",
    "                        if prev_date == '':\n",
    "                            prev_date = curr_date\n",
    "                            \n",
    "                        if dates_[-1].istitle() and len(legislation.split(' ')) > 20: # if date exists (check month capitalized) and if current legislation is long enough\n",
    "                            # print(prev_date , legislation)\n",
    "                            # print()\n",
    "                            legislations.append('.'.join(legislation.split('.')[1:]).strip()) # removing date\n",
    "                            dates.append(prev_date)\n",
    "                            years.append(prev_year)\n",
    "                            # New legislation start\n",
    "                            legislation = row.line + ' '\n",
    "                            prev_year = curr_year\n",
    "                            prev_date = curr_date\n",
    "                        else:                                         # otherwise keep adding\n",
    "                            legislation = legislation + row.line + ' '\n",
    "                            \n",
    "                    except:\n",
    "                        continue\n",
    "                        \n",
    "                else:\n",
    "                    legislation = legislation + row.line + ' '\n",
    "                # print(legislation)\n",
    "                # print()\n",
    "                \n",
    "    # save the last one\n",
    "    legislations.append('.'.join(legislation.split('.')[1:])) # removing date\n",
    "    dates.append(curr_date)\n",
    "    years.append(curr_year)\n",
    "    \n",
    "    # print(len(legislations), len(dates), len(years))\n",
    "    legisdf = pd.DataFrame({\"legislation\": legislations, \"year\": years, \"date\": dates, \"book\": [name]*len(legislations)}).dropna()\n",
    "    legisdf = legisdf[~legisdf['legislation'].str.len().eq(1)]\n",
    "    legisdf = legisdf[legisdf['legislation'].str.strip().astype(bool)]\n",
    "    print(f\"Full length: {len(legisdf)}\")\n",
    "    full_len.append(len(legisdf))\n",
    "    # remove rows which dont have a year (check for 4 len int) and a date (fuzzy matching)\n",
    "    legisdf = legisdf[legisdf['date'].apply(fuzzy_matching)]\n",
    "    legisdf = legisdf[np.where((legisdf['year'].str.len()==4) & (legisdf['year'].str.isdigit()), True, False)]\n",
    "    print(f\"Filtered length: {len(legisdf)}\")\n",
    "    filtered_len.append(len(legisdf))\n",
    "    dfs.append(legisdf)"
   ],
   "metadata": {
    "collapsed": false,
    "ExecuteTime": {
     "end_time": "2025-09-02T11:15:10.230021600Z",
     "start_time": "2025-09-02T11:11:45.352409700Z"
    }
   },
   "id": "initial_id"
  },
  {
   "cell_type": "code",
   "execution_count": 62,
   "outputs": [],
   "source": [
    "import pickle\n",
    "\n",
    "with open(\"all_vers\", 'wb') as b:\n",
    "    pickle.dump(dfs, b)"
   ],
   "metadata": {
    "collapsed": false,
    "ExecuteTime": {
     "end_time": "2025-09-02T11:15:10.273600800Z",
     "start_time": "2025-09-02T11:15:10.226013300Z"
    }
   },
   "id": "3d1ac1a932aa3f4"
  },
  {
   "cell_type": "code",
   "execution_count": 63,
   "outputs": [],
   "source": [
    "# Filter text (remove charecters, -, \\neg are already removed)\n",
    "for df in dfs:\n",
    "    df['legislation'] = df['legislation'].apply(lambda x: x.lstrip().rstrip().replace('- ', '').translate(remove_punc))"
   ],
   "metadata": {
    "collapsed": false,
    "ExecuteTime": {
     "end_time": "2025-09-02T11:15:10.868080200Z",
     "start_time": "2025-09-02T11:15:10.333019600Z"
    }
   },
   "id": "d0868a61eba2250"
  },
  {
   "cell_type": "code",
   "execution_count": 64,
   "outputs": [],
   "source": [
    "with open(\"all_vers_preprocessed\", 'wb') as b:\n",
    "    pickle.dump(dfs, b)"
   ],
   "metadata": {
    "collapsed": false,
    "ExecuteTime": {
     "end_time": "2025-09-02T11:15:10.913905800Z",
     "start_time": "2025-09-02T11:15:10.869086700Z"
    }
   },
   "id": "dd7f297f1faf5657"
  },
  {
   "cell_type": "code",
   "execution_count": 80,
   "outputs": [
    {
     "data": {
      "text/plain": "legislation    :De schaede, die de goede ingesetenen door sod...\nyear                                                        1678\ndate                                                        Juni\nbook                                          PlakkaatboekDeel03\nName: 5, dtype: object"
     },
     "execution_count": 80,
     "metadata": {},
     "output_type": "execute_result"
    }
   ],
   "source": [
    "# check if dates are correct:\n",
    "dfs[2].iloc[5]"
   ],
   "metadata": {
    "collapsed": false,
    "ExecuteTime": {
     "end_time": "2025-09-02T11:51:11.210027100Z",
     "start_time": "2025-09-02T11:51:11.181255800Z"
    }
   },
   "id": "16cd5b13de40eff2"
  },
  {
   "cell_type": "code",
   "execution_count": 66,
   "outputs": [
    {
     "name": "stdout",
     "output_type": "stream",
     "text": [
      "17\n"
     ]
    }
   ],
   "source": [
    "print(len(filtered_len))"
   ],
   "metadata": {
    "collapsed": false,
    "ExecuteTime": {
     "end_time": "2025-09-02T11:15:10.962114600Z",
     "start_time": "2025-09-02T11:15:10.931599900Z"
    }
   },
   "id": "2f23688e06027cf9"
  },
  {
   "cell_type": "code",
   "execution_count": 67,
   "outputs": [
    {
     "data": {
      "text/plain": "<Figure size 640x480 with 1 Axes>",
      "image/png": "[encoded data removed]"
     },
     "metadata": {},
     "output_type": "display_data"
    }
   ],
   "source": [
    "import matplotlib.pyplot as plt\n",
    "import numpy as np\n",
    "\n",
    "names = [f\"Ver{i+1}\" for i in range(17)]\n",
    "lengths = {\"Full\":full_len, \"Filtered\":filtered_len}\n",
    "\n",
    "x = np.arange(len(names))  # the label locations\n",
    "width = 0.25  # the width of the bars\n",
    "multiplier = 0\n",
    "\n",
    "fig, ax = plt.subplots(layout='constrained')\n",
    "\n",
    "for attribute, measurement in lengths.items():\n",
    "    offset = width * multiplier\n",
    "    rects = ax.bar(x + offset, measurement, width, label=attribute)\n",
    "    ax.bar_label(rects, padding=3, size=7)\n",
    "    multiplier += 1\n",
    "\n",
    "# Add some text for labels, title and custom x-axis tick labels, etc.\n",
    "ax.set_ylabel('# found laws')\n",
    "ax.set_title('Extracted laws per version')\n",
    "ax.set_xticks(x + width, names, rotation=90)\n",
    "ax.legend(loc='upper left', ncols=3)\n",
    "ax.set_ylim(0, 1000)\n",
    "\n",
    "plt.show()"
   ],
   "metadata": {
    "collapsed": false,
    "ExecuteTime": {
     "end_time": "2025-09-02T11:15:11.121265800Z",
     "start_time": "2025-09-02T11:15:10.945120Z"
    }
   },
   "id": "bb3dfb223fb57523"
  }
 ],
 "metadata": {
  "kernelspec": {
   "display_name": "Python 3",
   "language": "python",
   "name": "python3"
  },
  "language_info": {
   "codemirror_mode": {
    "name": "ipython",
    "version": 2
   },
   "file_extension": ".py",
   "mimetype": "text/x-python",
   "name": "python",
   "nbconvert_exporter": "python",
   "pygments_lexer": "ipython2",
   "version": "2.7.6"
  }
 },
 "nbformat": 4,
 "nbformat_minor": 5
}
