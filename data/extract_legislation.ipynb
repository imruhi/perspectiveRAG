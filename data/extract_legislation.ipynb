{
 "cells": [
  {
   "cell_type": "code",
   "execution_count": 12,
   "outputs": [],
   "source": [
    "from glob import glob\n",
    "import re\n",
    "import pandas as pd\n",
    "from datasets import Dataset\n",
    "from data import bool_remove\n",
    "from datasets import load_from_disk\n",
    "from rapidfuzz import process, fuzz\n",
    "import numpy as np\n",
    "import string\n",
    "from langchain_text_splitters import RecursiveCharacterTextSplitter"
   ],
   "metadata": {
    "collapsed": false,
    "ExecuteTime": {
     "end_time": "2025-09-17T08:18:40.804741800Z",
     "start_time": "2025-09-17T08:18:40.736012200Z"
    }
   },
   "id": "aeaf3ae9f9a5d850"
  },
  {
   "cell_type": "code",
   "execution_count": 13,
   "outputs": [],
   "source": [
    "text_splitter = RecursiveCharacterTextSplitter.from_tiktoken_encoder(\n",
    "    model_name=\"gpt-2\", chunk_size=300, chunk_overlap=100\n",
    ")"
   ],
   "metadata": {
    "collapsed": false,
    "ExecuteTime": {
     "end_time": "2025-09-17T08:18:40.804741800Z",
     "start_time": "2025-09-17T08:18:40.746028500Z"
    }
   },
   "id": "d6e677fab4540d47"
  },
  {
   "cell_type": "code",
   "execution_count": 14,
   "outputs": [],
   "source": [
    "remove_punc = string.punctuation.replace('.','').replace(',','').replace(\"'\",'').replace(\"(\",'').replace(\"(\",'')"
   ],
   "metadata": {
    "collapsed": false,
    "ExecuteTime": {
     "end_time": "2025-09-17T08:18:40.804741800Z",
     "start_time": "2025-09-17T08:18:40.760934900Z"
    }
   },
   "id": "3f2835b04ec28c8d"
  },
  {
   "cell_type": "code",
   "execution_count": 15,
   "outputs": [],
   "source": [
    "filepath  = \"raw\\\\placaatboek\\\\csvs\\\\*.csv\" \n",
    "files = glob(filepath, recursive=True)"
   ],
   "metadata": {
    "collapsed": false,
    "ExecuteTime": {
     "end_time": "2025-09-17T08:18:40.804741800Z",
     "start_time": "2025-09-17T08:18:40.777117300Z"
    }
   },
   "id": "68db3bd669676c2b"
  },
  {
   "cell_type": "code",
   "execution_count": 16,
   "outputs": [
    {
     "data": {
      "text/plain": "['raw\\\\placaatboek\\\\csvs\\\\PlakkaatboekDeel01_lines.csv',\n 'raw\\\\placaatboek\\\\csvs\\\\PlakkaatboekDeel02_lines.csv',\n 'raw\\\\placaatboek\\\\csvs\\\\PlakkaatboekDeel03_lines.csv',\n 'raw\\\\placaatboek\\\\csvs\\\\PlakkaatboekDeel04_lines.csv',\n 'raw\\\\placaatboek\\\\csvs\\\\PlakkaatboekDeel05_lines.csv',\n 'raw\\\\placaatboek\\\\csvs\\\\PlakkaatboekDeel06_lines.csv',\n 'raw\\\\placaatboek\\\\csvs\\\\PlakkaatboekDeel07_lines.csv',\n 'raw\\\\placaatboek\\\\csvs\\\\PlakkaatboekDeel08_lines.csv',\n 'raw\\\\placaatboek\\\\csvs\\\\PlakkaatboekDeel09_lines.csv',\n 'raw\\\\placaatboek\\\\csvs\\\\PlakkaatboekDeel10_lines.csv',\n 'raw\\\\placaatboek\\\\csvs\\\\PlakkaatboekDeel11_lines.csv',\n 'raw\\\\placaatboek\\\\csvs\\\\PlakkaatboekDeel12_lines.csv',\n 'raw\\\\placaatboek\\\\csvs\\\\PlakkaatboekDeel13_lines.csv',\n 'raw\\\\placaatboek\\\\csvs\\\\PlakkaatboekDeel14_lines.csv',\n 'raw\\\\placaatboek\\\\csvs\\\\PlakkaatboekDeel15_lines.csv',\n 'raw\\\\placaatboek\\\\csvs\\\\PlakkaatboekDeel16_lines.csv',\n 'raw\\\\placaatboek\\\\csvs\\\\PlakkaatboekDeel17_lines.csv']"
     },
     "execution_count": 16,
     "metadata": {},
     "output_type": "execute_result"
    }
   ],
   "source": [
    "files"
   ],
   "metadata": {
    "collapsed": false,
    "ExecuteTime": {
     "end_time": "2025-09-17T08:18:40.804741800Z",
     "start_time": "2025-09-17T08:18:40.790797700Z"
    }
   },
   "id": "dcb49f3df1232185"
  },
  {
   "cell_type": "code",
   "execution_count": 17,
   "outputs": [],
   "source": [
    "maanden = [\n",
    "    \"louwmaand\", \"sprokkelmaand\", \"lentmaand\", \"grasmaand\", \"blooimand\", \"zomermaand\", \n",
    "    \"hooimaand\", \"oogstmaand\", \"herfstmaand\", \"wijnmaand\", \"slaghtmaand\", \"wintermaand\",\n",
    "    \"januari\", \"februari\", \"maart\", \"april\", \"mei\", \"juni\",\n",
    "    \"juli\", \"augustus\", \"september\", \"oktober\", \"november\", \"december\",\n",
    "    \"Januari\", \"Februari\", \"Maart\", \"April\", \"Mei\", \"Juni\",\n",
    "    \"Juli\", \"Augustus\", \"September\", \"Oktober\", \"November\", \"December\",\n",
    "    'Louwmaand', 'Sprokkelmaand', 'Lentmaand', 'Grasmaand', 'Blooimand', 'Zomermaand',\n",
    "    'Hooimaand', 'Oogstmaand', 'Herfstmaand', 'Wijnmaand', 'Slaghtmaand', 'Wintermaand'\n",
    "]\n",
    "\n",
    "def fuzzy_matching(word, threshold=70):\n",
    "    match1, score1, _ = process.extractOne(word, maanden, scorer=fuzz.ratio)\n",
    "    return score1 >= threshold and len(word) >= 3"
   ],
   "metadata": {
    "collapsed": false,
    "ExecuteTime": {
     "end_time": "2025-09-17T08:18:40.820828300Z",
     "start_time": "2025-09-17T08:18:40.813232500Z"
    }
   },
   "id": "f3e6969566cb4028"
  },
  {
   "cell_type": "code",
   "execution_count": 18,
   "outputs": [
    {
     "name": "stdout",
     "output_type": "stream",
     "text": [
      "raw\\placaatboek\\csvs\\PlakkaatboekDeel01_lines.csv\n",
      "On PlakkaatboekDeel01\n",
      "Full length: 1925\n",
      "Filtered length: 1549\n",
      "raw\\placaatboek\\csvs\\PlakkaatboekDeel02_lines.csv\n",
      "On PlakkaatboekDeel02\n",
      "Full length: 1884\n",
      "Filtered length: 1586\n",
      "raw\\placaatboek\\csvs\\PlakkaatboekDeel03_lines.csv\n",
      "On PlakkaatboekDeel03\n",
      "Full length: 2063\n",
      "Filtered length: 1614\n",
      "raw\\placaatboek\\csvs\\PlakkaatboekDeel04_lines.csv\n",
      "On PlakkaatboekDeel04\n",
      "Full length: 1969\n",
      "Filtered length: 1367\n",
      "raw\\placaatboek\\csvs\\PlakkaatboekDeel05_lines.csv\n",
      "On PlakkaatboekDeel05\n",
      "Full length: 2399\n",
      "Filtered length: 1788\n",
      "raw\\placaatboek\\csvs\\PlakkaatboekDeel06_lines.csv\n",
      "On PlakkaatboekDeel06\n",
      "Full length: 2453\n",
      "Filtered length: 1749\n",
      "raw\\placaatboek\\csvs\\PlakkaatboekDeel07_lines.csv\n",
      "On PlakkaatboekDeel07\n",
      "Full length: 2431\n",
      "Filtered length: 1704\n",
      "raw\\placaatboek\\csvs\\PlakkaatboekDeel08_lines.csv\n",
      "On PlakkaatboekDeel08\n",
      "Full length: 3023\n",
      "Filtered length: 2184\n",
      "raw\\placaatboek\\csvs\\PlakkaatboekDeel09_lines.csv\n",
      "On PlakkaatboekDeel09\n",
      "Full length: 1994\n",
      "Filtered length: 0\n",
      "raw\\placaatboek\\csvs\\PlakkaatboekDeel10_lines.csv\n",
      "On PlakkaatboekDeel10\n",
      "Full length: 2969\n",
      "Filtered length: 2318\n",
      "raw\\placaatboek\\csvs\\PlakkaatboekDeel11_lines.csv\n",
      "On PlakkaatboekDeel11\n",
      "Full length: 2564\n",
      "Filtered length: 1758\n",
      "raw\\placaatboek\\csvs\\PlakkaatboekDeel12_lines.csv\n",
      "On PlakkaatboekDeel12\n",
      "Full length: 3369\n",
      "Filtered length: 2461\n",
      "raw\\placaatboek\\csvs\\PlakkaatboekDeel13_lines.csv\n",
      "On PlakkaatboekDeel13\n",
      "Full length: 2291\n",
      "Filtered length: 1748\n",
      "raw\\placaatboek\\csvs\\PlakkaatboekDeel14_lines.csv\n",
      "On PlakkaatboekDeel14\n",
      "Full length: 2661\n",
      "Filtered length: 1789\n",
      "raw\\placaatboek\\csvs\\PlakkaatboekDeel15_lines.csv\n",
      "On PlakkaatboekDeel15\n",
      "Full length: 3603\n",
      "Filtered length: 2449\n",
      "raw\\placaatboek\\csvs\\PlakkaatboekDeel16_lines.csv\n",
      "On PlakkaatboekDeel16\n",
      "Full length: 2439\n",
      "Filtered length: 2073\n",
      "raw\\placaatboek\\csvs\\PlakkaatboekDeel17_lines.csv\n",
      "On PlakkaatboekDeel17\n",
      "Full length: 2846\n",
      "Filtered length: 350\n"
     ]
    }
   ],
   "source": [
    "# Extract legislation\n",
    "dfs = []\n",
    "full_len = []\n",
    "filtered_len = []\n",
    "for file in files:\n",
    "    df = pd.read_csv(file, encoding='utf-8', converters={'points': pd.eval}).fillna('')\n",
    "    \n",
    "    # use knn classifier to determine if page heading (year, name of author)\n",
    "    if 'preds' not in df.columns:\n",
    "        df['preds'] = bool_remove(df[\"points\"]) \n",
    "        df.to_csv(file, encoding='utf-8')\n",
    "    print(file)        \n",
    "    name = file.split('_')[0].replace('.csv','').split(\"\\\\\")[-1]\n",
    "    print(f'On {name}')\n",
    "    ### Extracting legislation with year and dates\n",
    "    legislations = []\n",
    "    years = []\n",
    "    dates = []\n",
    "    \n",
    "    curr_year = ''\n",
    "    prev_year = ''\n",
    "    curr_date = '' # each date means new legislation\n",
    "    prev_date = ''\n",
    "    legislation = ''\n",
    "\n",
    "    for index, row in df.iterrows():\n",
    "        \n",
    "        if row.preds == 1 or row.boolHasLegisYear:\n",
    "            try:\n",
    "                curr_year = re.findall(r\"[0-9]{4}\", row.line)[0] # the first four numbers are the year\n",
    "                if prev_year == '':\n",
    "                    prev_year = curr_year\n",
    "            except:\n",
    "                continue\n",
    "        else:        \n",
    "            if \"REGISTER\" in row.line:\n",
    "                break # stop at the register at the end (index of book)\n",
    "            if not row.line.isupper() and not row.line.isalpha(): \n",
    "                # the titles on the top of the page (for the author, not always spelt correctly) are all caps\n",
    "               \n",
    "                if row.boolHasLegisDate: # there is a new legislation  \n",
    "                         \n",
    "                    try: # check if new date exists\n",
    "                        splits = row.line.split('.')\n",
    "                        # remove None\n",
    "                        dates_ = list(filter(None, re.split('(\\d{1,})|\\s', splits[0])))\n",
    "                        curr_date = ' '.join(dates_)\n",
    "                        if prev_date == '':\n",
    "                            prev_date = curr_date\n",
    "                            \n",
    "                        if dates_[-1].istitle() and len(legislation.split(' ')) > 20: # if date exists (check month capitalized) and if current legislation is long enough\n",
    "                            # chunking\n",
    "                            legislation_ = text_splitter.split_text('.'.join(legislation.split('.')[1:]).strip())\n",
    "                            for l in legislation_:\n",
    "                                legislations.append(l) # removing date\n",
    "                                dates.append(prev_date)\n",
    "                                years.append(prev_year)\n",
    "                            # New legislation start\n",
    "                            legislation = row.line + ' '\n",
    "                            prev_year = curr_year\n",
    "                            prev_date = curr_date\n",
    "                        else:                                         # otherwise keep adding\n",
    "                            legislation = legislation + row.line + ' '\n",
    "                            \n",
    "                    except:\n",
    "                        continue\n",
    "                        \n",
    "                else:\n",
    "                    legislation = legislation + row.line + ' '\n",
    "                # print(legislation)\n",
    "                # print()\n",
    "                \n",
    "    # save the last one\n",
    "    legislation_ = text_splitter.split_text('.'.join(legislation.split('.')[1:]).strip())\n",
    "    for l in legislation_:\n",
    "        legislations.append(l) # removing date\n",
    "        dates.append(curr_date)\n",
    "        years.append(curr_year)\n",
    "    \n",
    "    # print(len(legislations), len(dates), len(years))\n",
    "    legisdf = pd.DataFrame({\"legislation\": legislations, \"year\": years, \"date\": dates, \"book\": [name]*len(legislations)}).dropna()\n",
    "    legisdf = legisdf[~legisdf['legislation'].str.len().eq(1)]\n",
    "    legisdf = legisdf[legisdf['legislation'].str.strip().astype(bool)]\n",
    "    print(f\"Full length: {len(legisdf)}\")\n",
    "    full_len.append(len(legisdf))\n",
    "    # remove rows which dont have a year (check for 4 len int) and a date (fuzzy matching)\n",
    "    legisdf = legisdf[legisdf['date'].apply(fuzzy_matching)]\n",
    "    legisdf = legisdf[np.where((legisdf['year'].str.len()==4) & (legisdf['year'].str.isdigit()), True, False)]\n",
    "    print(f\"Filtered length: {len(legisdf)}\")\n",
    "    filtered_len.append(len(legisdf))\n",
    "    dfs.append(legisdf)"
   ],
   "metadata": {
    "collapsed": false,
    "ExecuteTime": {
     "end_time": "2025-09-17T08:23:21.352805900Z",
     "start_time": "2025-09-17T08:18:41.077070100Z"
    }
   },
   "id": "initial_id"
  },
  {
   "cell_type": "code",
   "execution_count": 19,
   "outputs": [],
   "source": [
    "import pickle\n",
    "\n",
    "with open(\"raw/placaatboek/all_vers\", 'wb') as b:\n",
    "    pickle.dump(dfs, b)"
   ],
   "metadata": {
    "collapsed": false,
    "ExecuteTime": {
     "end_time": "2025-09-17T08:23:21.432911600Z",
     "start_time": "2025-09-17T08:23:21.357943300Z"
    }
   },
   "id": "3d1ac1a932aa3f4"
  },
  {
   "cell_type": "code",
   "execution_count": 20,
   "outputs": [],
   "source": [
    "# Filter text (remove charecters, -, \\neg are already removed)\n",
    "for df in dfs:\n",
    "    df['legislation'] = df['legislation'].apply(lambda x: x.lstrip().rstrip().replace('- ', '').translate(remove_punc))"
   ],
   "metadata": {
    "collapsed": false,
    "ExecuteTime": {
     "end_time": "2025-09-17T08:23:22.290305200Z",
     "start_time": "2025-09-17T08:23:21.432911600Z"
    }
   },
   "id": "d0868a61eba2250"
  },
  {
   "cell_type": "code",
   "execution_count": 21,
   "outputs": [],
   "source": [
    "with open(\"raw/placaatboek/all_vers_preprocessed\", 'wb') as b:\n",
    "    pickle.dump(dfs, b)"
   ],
   "metadata": {
    "collapsed": false,
    "ExecuteTime": {
     "end_time": "2025-09-17T08:23:22.365142200Z",
     "start_time": "2025-09-17T08:23:22.291283200Z"
    }
   },
   "id": "dd7f297f1faf5657"
  },
  {
   "cell_type": "code",
   "execution_count": 22,
   "outputs": [
    {
     "data": {
      "text/plain": "legislation    Bepaling, dat het verbod tegen den verkoop van...\nyear                                                        1678\ndate                                                18 Februarij\nbook                                          PlakkaatboekDeel03\nName: 5, dtype: object"
     },
     "execution_count": 22,
     "metadata": {},
     "output_type": "execute_result"
    }
   ],
   "source": [
    "# check if dates are correct:\n",
    "dfs[2].iloc[5]"
   ],
   "metadata": {
    "collapsed": false,
    "ExecuteTime": {
     "end_time": "2025-09-17T08:23:22.385806800Z",
     "start_time": "2025-09-17T08:23:22.368625600Z"
    }
   },
   "id": "16cd5b13de40eff2"
  },
  {
   "cell_type": "code",
   "execution_count": 23,
   "outputs": [
    {
     "name": "stdout",
     "output_type": "stream",
     "text": [
      "17\n"
     ]
    }
   ],
   "source": [
    "print(len(filtered_len))"
   ],
   "metadata": {
    "collapsed": false,
    "ExecuteTime": {
     "end_time": "2025-09-17T08:23:22.444952900Z",
     "start_time": "2025-09-17T08:23:22.381769100Z"
    }
   },
   "id": "2f23688e06027cf9"
  },
  {
   "cell_type": "code",
   "execution_count": 27,
   "outputs": [
    {
     "data": {
      "text/plain": "<Figure size 640x480 with 1 Axes>",
      "image/png": "[encoded data removed]"
     },
     "metadata": {},
     "output_type": "display_data"
    }
   ],
   "source": [
    "import matplotlib.pyplot as plt\n",
    "import numpy as np\n",
    "\n",
    "names = [f\"Ver{i+1}\" for i in range(17)]\n",
    "lengths = {\"Full\":full_len, \"Filtered\":filtered_len}\n",
    "\n",
    "x = np.arange(len(names))  # the label locations\n",
    "width = 0.25  # the width of the bars\n",
    "multiplier = 0\n",
    "\n",
    "fig, ax = plt.subplots(layout='constrained')\n",
    "\n",
    "for attribute, measurement in lengths.items():\n",
    "    offset = width * multiplier\n",
    "    rects = ax.bar(x + offset, measurement, width, label=attribute)\n",
    "    ax.bar_label(rects, padding=3, size=7)\n",
    "    multiplier += 1\n",
    "\n",
    "# Add some text for labels, title and custom x-axis tick labels, etc.\n",
    "ax.set_ylabel('# found laws')\n",
    "ax.set_title('Extracted laws per version (chunked)')\n",
    "ax.set_xticks(x + width, names, rotation=90)\n",
    "ax.legend(loc='upper left', ncols=3)\n",
    "ax.set_ylim(0, 4000)\n",
    "\n",
    "plt.show()"
   ],
   "metadata": {
    "collapsed": false,
    "ExecuteTime": {
     "end_time": "2025-09-17T08:27:16.221823200Z",
     "start_time": "2025-09-17T08:27:15.927392800Z"
    }
   },
   "id": "bb3dfb223fb57523"
  }
 ],
 "metadata": {
  "kernelspec": {
   "display_name": "Python 3",
   "language": "python",
   "name": "python3"
  },
  "language_info": {
   "codemirror_mode": {
    "name": "ipython",
    "version": 2
   },
   "file_extension": ".py",
   "mimetype": "text/x-python",
   "name": "python",
   "nbconvert_exporter": "python",
   "pygments_lexer": "ipython2",
   "version": "2.7.6"
  }
 },
 "nbformat": 4,
 "nbformat_minor": 5
}
