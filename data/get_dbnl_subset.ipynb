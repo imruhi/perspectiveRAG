{
 "cells": [
  {
   "cell_type": "code",
   "execution_count": 14,
   "id": "initial_id",
   "metadata": {
    "collapsed": true,
    "ExecuteTime": {
     "end_time": "2025-09-16T12:16:45.514063700Z",
     "start_time": "2025-09-16T12:16:45.503025400Z"
    }
   },
   "outputs": [],
   "source": [
    "import glob\n",
    "import re\n",
    "import requests\n",
    "\n",
    "import pandas as pd\n",
    "from datasets import Dataset\n",
    "from langchain_text_splitters import RecursiveCharacterTextSplitter"
   ]
  },
  {
   "cell_type": "code",
   "execution_count": 15,
   "outputs": [],
   "source": [
    "text_splitter = RecursiveCharacterTextSplitter.from_tiktoken_encoder(\n",
    "    model_name=\"gpt-2\", chunk_size=300, chunk_overlap=100\n",
    ")"
   ],
   "metadata": {
    "collapsed": false,
    "ExecuteTime": {
     "end_time": "2025-09-16T12:16:45.531972900Z",
     "start_time": "2025-09-16T12:16:45.514063700Z"
    }
   },
   "id": "e8967ea202e74d26"
  },
  {
   "cell_type": "code",
   "execution_count": 16,
   "outputs": [],
   "source": [
    "subset_df = pd.read_csv('subset_dbnl.csv')\n",
    "subset_df = subset_df[[\"titel\",\"jaar\",\"text_url\"]]"
   ],
   "metadata": {
    "collapsed": false,
    "ExecuteTime": {
     "end_time": "2025-09-16T12:16:45.590040700Z",
     "start_time": "2025-09-16T12:16:45.547380400Z"
    }
   },
   "id": "1a885b25f5240cc5"
  },
  {
   "cell_type": "code",
   "execution_count": 17,
   "outputs": [
    {
     "data": {
      "text/plain": "                                                titel  jaar  \\\n0   De tijrannijen der Franschen in de jaaren 1747...  1814   \n1   Nederlandsche bezittingen in Azia, Amerika en ...  1818   \n2   Nieuwe Fransche tiranny, bijzonder onder de re...  1814   \n3       Vaderlandsche letteroefeningen. Jaargang 1805  1805   \n4       Vaderlandsche letteroefeningen. Jaargang 1806  1806   \n5       Vaderlandsche letteroefeningen. Jaargang 1807  1807   \n6       Vaderlandsche letteroefeningen. Jaargang 1808  1808   \n7       Vaderlandsche letteroefeningen. Jaargang 1809  1809   \n8       Vaderlandsche letteroefeningen. Jaargang 1810  1810   \n9       Vaderlandsche letteroefeningen. Jaargang 1811  1811   \n10      Vaderlandsche letteroefeningen. Jaargang 1812  1812   \n11      Vaderlandsche letteroefeningen. Jaargang 1813  1813   \n12      Vaderlandsche letteroefeningen. Jaargang 1814  1814   \n13      Vaderlandsche letteroefeningen. Jaargang 1815  1815   \n14      Vaderlandsche letteroefeningen. Jaargang 1816  1816   \n15      Vaderlandsche letteroefeningen. Jaargang 1817  1817   \n16      Vaderlandsche letteroefeningen. Jaargang 1818  1818   \n17      Vaderlandsche letteroefeningen. Jaargang 1819  1819   \n\n                                             text_url  \n0   https://dbnl.org/nieuws/text.php?id=aa__002tijr01  \n1   https://dbnl.org/nieuws/text.php?id=bosc036nede01  \n2   https://dbnl.org/nieuws/text.php?id=brin018nieu02  \n3   https://dbnl.org/nieuws/text.php?id=_vad003180501  \n4   https://dbnl.org/nieuws/text.php?id=_vad003180601  \n5   https://dbnl.org/nieuws/text.php?id=_vad003180701  \n6   https://dbnl.org/nieuws/text.php?id=_vad003180801  \n7   https://dbnl.org/nieuws/text.php?id=_vad003180901  \n8   https://dbnl.org/nieuws/text.php?id=_vad003181001  \n9   https://dbnl.org/nieuws/text.php?id=_vad003181101  \n10  https://dbnl.org/nieuws/text.php?id=_vad003181201  \n11  https://dbnl.org/nieuws/text.php?id=_vad003181301  \n12  https://dbnl.org/nieuws/text.php?id=_vad003181401  \n13  https://dbnl.org/nieuws/text.php?id=_vad003181501  \n14  https://dbnl.org/nieuws/text.php?id=_vad003181601  \n15  https://dbnl.org/nieuws/text.php?id=_vad003181701  \n16  https://dbnl.org/nieuws/text.php?id=_vad003181801  \n17  https://dbnl.org/nieuws/text.php?id=_vad003181901  ",
      "text/html": "<div>\n<style scoped>\n    .dataframe tbody tr th:only-of-type {\n        vertical-align: middle;\n    }\n\n    .dataframe tbody tr th {\n        vertical-align: top;\n    }\n\n    .dataframe thead th {\n        text-align: right;\n    }\n</style>\n<table border=\"1\" class=\"dataframe\">\n  <thead>\n    <tr style=\"text-align: right;\">\n      <th></th>\n      <th>titel</th>\n      <th>jaar</th>\n      <th>text_url</th>\n    </tr>\n  </thead>\n  <tbody>\n    <tr>\n      <th>0</th>\n      <td>De tijrannijen der Franschen in de jaaren 1747...</td>\n      <td>1814</td>\n      <td>https://dbnl.org/nieuws/text.php?id=aa__002tijr01</td>\n    </tr>\n    <tr>\n      <th>1</th>\n      <td>Nederlandsche bezittingen in Azia, Amerika en ...</td>\n      <td>1818</td>\n      <td>https://dbnl.org/nieuws/text.php?id=bosc036nede01</td>\n    </tr>\n    <tr>\n      <th>2</th>\n      <td>Nieuwe Fransche tiranny, bijzonder onder de re...</td>\n      <td>1814</td>\n      <td>https://dbnl.org/nieuws/text.php?id=brin018nieu02</td>\n    </tr>\n    <tr>\n      <th>3</th>\n      <td>Vaderlandsche letteroefeningen. Jaargang 1805</td>\n      <td>1805</td>\n      <td>https://dbnl.org/nieuws/text.php?id=_vad003180501</td>\n    </tr>\n    <tr>\n      <th>4</th>\n      <td>Vaderlandsche letteroefeningen. Jaargang 1806</td>\n      <td>1806</td>\n      <td>https://dbnl.org/nieuws/text.php?id=_vad003180601</td>\n    </tr>\n    <tr>\n      <th>5</th>\n      <td>Vaderlandsche letteroefeningen. Jaargang 1807</td>\n      <td>1807</td>\n      <td>https://dbnl.org/nieuws/text.php?id=_vad003180701</td>\n    </tr>\n    <tr>\n      <th>6</th>\n      <td>Vaderlandsche letteroefeningen. Jaargang 1808</td>\n      <td>1808</td>\n      <td>https://dbnl.org/nieuws/text.php?id=_vad003180801</td>\n    </tr>\n    <tr>\n      <th>7</th>\n      <td>Vaderlandsche letteroefeningen. Jaargang 1809</td>\n      <td>1809</td>\n      <td>https://dbnl.org/nieuws/text.php?id=_vad003180901</td>\n    </tr>\n    <tr>\n      <th>8</th>\n      <td>Vaderlandsche letteroefeningen. Jaargang 1810</td>\n      <td>1810</td>\n      <td>https://dbnl.org/nieuws/text.php?id=_vad003181001</td>\n    </tr>\n    <tr>\n      <th>9</th>\n      <td>Vaderlandsche letteroefeningen. Jaargang 1811</td>\n      <td>1811</td>\n      <td>https://dbnl.org/nieuws/text.php?id=_vad003181101</td>\n    </tr>\n    <tr>\n      <th>10</th>\n      <td>Vaderlandsche letteroefeningen. Jaargang 1812</td>\n      <td>1812</td>\n      <td>https://dbnl.org/nieuws/text.php?id=_vad003181201</td>\n    </tr>\n    <tr>\n      <th>11</th>\n      <td>Vaderlandsche letteroefeningen. Jaargang 1813</td>\n      <td>1813</td>\n      <td>https://dbnl.org/nieuws/text.php?id=_vad003181301</td>\n    </tr>\n    <tr>\n      <th>12</th>\n      <td>Vaderlandsche letteroefeningen. Jaargang 1814</td>\n      <td>1814</td>\n      <td>https://dbnl.org/nieuws/text.php?id=_vad003181401</td>\n    </tr>\n    <tr>\n      <th>13</th>\n      <td>Vaderlandsche letteroefeningen. Jaargang 1815</td>\n      <td>1815</td>\n      <td>https://dbnl.org/nieuws/text.php?id=_vad003181501</td>\n    </tr>\n    <tr>\n      <th>14</th>\n      <td>Vaderlandsche letteroefeningen. Jaargang 1816</td>\n      <td>1816</td>\n      <td>https://dbnl.org/nieuws/text.php?id=_vad003181601</td>\n    </tr>\n    <tr>\n      <th>15</th>\n      <td>Vaderlandsche letteroefeningen. Jaargang 1817</td>\n      <td>1817</td>\n      <td>https://dbnl.org/nieuws/text.php?id=_vad003181701</td>\n    </tr>\n    <tr>\n      <th>16</th>\n      <td>Vaderlandsche letteroefeningen. Jaargang 1818</td>\n      <td>1818</td>\n      <td>https://dbnl.org/nieuws/text.php?id=_vad003181801</td>\n    </tr>\n    <tr>\n      <th>17</th>\n      <td>Vaderlandsche letteroefeningen. Jaargang 1819</td>\n      <td>1819</td>\n      <td>https://dbnl.org/nieuws/text.php?id=_vad003181901</td>\n    </tr>\n  </tbody>\n</table>\n</div>"
     },
     "execution_count": 17,
     "metadata": {},
     "output_type": "execute_result"
    }
   ],
   "source": [
    "subset_df"
   ],
   "metadata": {
    "collapsed": false,
    "ExecuteTime": {
     "end_time": "2025-09-16T12:16:45.621855Z",
     "start_time": "2025-09-16T12:16:45.590040700Z"
    }
   },
   "id": "613e7983bf4a6b97"
  },
  {
   "cell_type": "code",
   "execution_count": 18,
   "outputs": [
    {
     "name": "stdout",
     "output_type": "stream",
     "text": [
      "On De tijrannijen der Franschen in de jaaren 1747, 1795-1813, in de Nederlanden gepleegd\n",
      "On Nederlandsche bezittingen in Azia, Amerika en Afrika\n",
      "On Nieuwe Fransche tiranny, bijzonder onder de regering van Napoleon Bonaparte\n",
      "On Vaderlandsche letteroefeningen. Jaargang 1805\n",
      "On Vaderlandsche letteroefeningen. Jaargang 1806\n",
      "On Vaderlandsche letteroefeningen. Jaargang 1807\n",
      "On Vaderlandsche letteroefeningen. Jaargang 1808\n",
      "On Vaderlandsche letteroefeningen. Jaargang 1809\n",
      "On Vaderlandsche letteroefeningen. Jaargang 1810\n",
      "On Vaderlandsche letteroefeningen. Jaargang 1811\n",
      "On Vaderlandsche letteroefeningen. Jaargang 1812\n",
      "On Vaderlandsche letteroefeningen. Jaargang 1813\n",
      "On Vaderlandsche letteroefeningen. Jaargang 1814\n",
      "On Vaderlandsche letteroefeningen. Jaargang 1815\n",
      "On Vaderlandsche letteroefeningen. Jaargang 1816\n",
      "On Vaderlandsche letteroefeningen. Jaargang 1817\n",
      "On Vaderlandsche letteroefeningen. Jaargang 1818\n",
      "On Vaderlandsche letteroefeningen. Jaargang 1819\n"
     ]
    }
   ],
   "source": [
    "texts = []\n",
    "years = []\n",
    "textnames = []\n",
    "\n",
    "sub_patterns = [[r\"{==.*==} {>>.*<<}\",''], [r\"[\\n\\t*]+\",' '], [r' +',' ']]\n",
    "for idx, row in subset_df.iterrows():\n",
    "    print(f\"On {row['titel']}\")\n",
    "    text = requests.get(row['text_url']).content.decode('utf-8')\n",
    "    for pattern, sub in sub_patterns:\n",
    "        text = re.sub(pattern, sub, text)\n",
    "    split = text_splitter.split_text(text)\n",
    "    texts.extend(split)\n",
    "    years.extend([row['jaar']]*len(split))\n",
    "    textnames.extend([row['titel']]*len(split))"
   ],
   "metadata": {
    "collapsed": false,
    "ExecuteTime": {
     "end_time": "2025-09-16T12:17:50.332096Z",
     "start_time": "2025-09-16T12:16:46.104145500Z"
    }
   },
   "id": "c87a8189d6896345"
  },
  {
   "cell_type": "code",
   "execution_count": 19,
   "outputs": [],
   "source": [
    "## OLD METHOD\n",
    "# texts = []\n",
    "# dates = []\n",
    "# filenames = [] \n",
    "# # each year subset by <interp type=\"secundair\" tag in xml\n",
    "# for filepath in filepaths:\n",
    "#     print(f\"filepath: {filepath}\")\n",
    "#     with open(filepath, \"r\", encoding=\"utf-8\") as f:\n",
    "#         text = f.read()\n",
    "#         year = re.findall(r\"Jaargang 18[0-9]{2}\", re.split(r\"{==[0-9]+==} {>>pagina-aanduiding<<}\", text)[0])\n",
    "#         year = re.sub(\"[a-zA-Z]\", \"\", year[0])\n",
    "#         split = re.split(r\"{==[0-9]+==} {>>pagina-aanduiding<<}\", text)[1:]\n",
    "#         split = [re.sub(r\"{.*}\", \"\", x) for x in split]\n",
    "#         text = \" \".join(split)\n",
    "#         split = re.split(r\"\\n\\n\\n\\n\\n\", text)\n",
    "#         split = [re.sub(r\"\\n{1,}\", \"\", x) for x in split]\n",
    "#         texts.extend(split)\n",
    "#         dates.extend([int(year)]*len(split))\n",
    "#         filenames.extend([re.split(r\"\\\\\", filepath)[1]]*len(split))"
   ],
   "metadata": {
    "collapsed": false,
    "ExecuteTime": {
     "end_time": "2025-09-16T12:17:50.344095Z",
     "start_time": "2025-09-16T12:17:50.327965400Z"
    }
   },
   "id": "5efa2061ffe52ed0"
  },
  {
   "cell_type": "code",
   "execution_count": 20,
   "outputs": [
    {
     "data": {
      "text/plain": "(90725, 90725, 90725)"
     },
     "execution_count": 20,
     "metadata": {},
     "output_type": "execute_result"
    }
   ],
   "source": [
    "len(textnames), len(years), len(texts)"
   ],
   "metadata": {
    "collapsed": false,
    "ExecuteTime": {
     "end_time": "2025-09-16T12:17:50.360591200Z",
     "start_time": "2025-09-16T12:17:50.344095Z"
    }
   },
   "id": "d65f998285355f6f"
  },
  {
   "cell_type": "code",
   "execution_count": 21,
   "outputs": [],
   "source": [
    "ds = Dataset.from_pandas(pd.DataFrame({\"Year\":years, \"Text\":texts, \"Title\": textnames}))"
   ],
   "metadata": {
    "collapsed": false,
    "ExecuteTime": {
     "end_time": "2025-09-16T12:17:50.692970300Z",
     "start_time": "2025-09-16T12:17:50.360591200Z"
    }
   },
   "id": "155794088e8e8483"
  },
  {
   "cell_type": "code",
   "execution_count": 23,
   "outputs": [
    {
     "data": {
      "text/plain": "Saving the dataset (0/1 shards):   0%|          | 0/90725 [00:00<?, ? examples/s]",
      "application/vnd.jupyter.widget-view+json": {
       "version_major": 2,
       "version_minor": 0,
       "model_id": "c8c680410e6a4e078472d37ed7ee3c4f"
      }
     },
     "metadata": {},
     "output_type": "display_data"
    }
   ],
   "source": [
    "ds.save_to_disk(\"datasets_all/dbnl-subset\")"
   ],
   "metadata": {
    "collapsed": false,
    "ExecuteTime": {
     "end_time": "2025-09-16T12:18:23.541922800Z",
     "start_time": "2025-09-16T12:18:23.476849900Z"
    }
   },
   "id": "51e1af9c8e7c0b21"
  },
  {
   "cell_type": "code",
   "execution_count": 24,
   "outputs": [],
   "source": [
    "ds = Dataset.load_from_disk(\"datasets_all/dbnl-subset\")"
   ],
   "metadata": {
    "collapsed": false,
    "ExecuteTime": {
     "end_time": "2025-09-16T12:18:25.488789200Z",
     "start_time": "2025-09-16T12:18:25.445950100Z"
    }
   },
   "id": "da88b0c687df0f34"
  },
  {
   "cell_type": "code",
   "execution_count": 25,
   "outputs": [],
   "source": [
    "df = ds.to_pandas()[['Year', 'Title']]"
   ],
   "metadata": {
    "collapsed": false,
    "ExecuteTime": {
     "end_time": "2025-09-16T12:18:26.823064300Z",
     "start_time": "2025-09-16T12:18:26.690407400Z"
    }
   },
   "id": "6119790576289c8c"
  },
  {
   "cell_type": "code",
   "execution_count": 26,
   "outputs": [],
   "source": [
    "df['Title'] = [' '.join(x.split(' ')[:2]) for x in df['Title']]"
   ],
   "metadata": {
    "collapsed": false,
    "ExecuteTime": {
     "end_time": "2025-09-16T12:18:29.029544500Z",
     "start_time": "2025-09-16T12:18:28.981436200Z"
    }
   },
   "id": "fcd80258d06ae06d"
  },
  {
   "cell_type": "code",
   "execution_count": 27,
   "outputs": [
    {
     "data": {
      "text/plain": "<Axes: ylabel='Year'>"
     },
     "execution_count": 27,
     "metadata": {},
     "output_type": "execute_result"
    },
    {
     "data": {
      "text/plain": "<Figure size 640x480 with 1 Axes>",
      "image/png": "[encoded data removed]"
     },
     "metadata": {},
     "output_type": "display_data"
    }
   ],
   "source": [
    "df.groupby(['Year', 'Title']).value_counts().unstack().plot.barh()"
   ],
   "metadata": {
    "collapsed": false,
    "ExecuteTime": {
     "end_time": "2025-09-16T12:18:30.100712800Z",
     "start_time": "2025-09-16T12:18:29.931352700Z"
    }
   },
   "id": "1cb9f0e389044890"
  }
 ],
 "metadata": {
  "kernelspec": {
   "display_name": "Python 3",
   "language": "python",
   "name": "python3"
  },
  "language_info": {
   "codemirror_mode": {
    "name": "ipython",
    "version": 2
   },
   "file_extension": ".py",
   "mimetype": "text/x-python",
   "name": "python",
   "nbconvert_exporter": "python",
   "pygments_lexer": "ipython2",
   "version": "2.7.6"
  }
 },
 "nbformat": 4,
 "nbformat_minor": 5
}
