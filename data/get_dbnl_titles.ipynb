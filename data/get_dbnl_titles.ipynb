{
 "cells": [
  {
   "cell_type": "code",
   "execution_count": 90,
   "id": "initial_id",
   "metadata": {
    "collapsed": true,
    "ExecuteTime": {
     "end_time": "2025-08-28T13:58:12.322195200Z",
     "start_time": "2025-08-28T13:58:12.303099100Z"
    }
   },
   "outputs": [],
   "source": [
    "import pandas as pd"
   ]
  },
  {
   "cell_type": "code",
   "execution_count": 91,
   "outputs": [],
   "source": [
    "titles_df = pd.read_csv(\"titels_pd_dbnl.csv\", sep='|', engine='python')"
   ],
   "metadata": {
    "collapsed": false,
    "ExecuteTime": {
     "end_time": "2025-08-28T13:58:13.170843Z",
     "start_time": "2025-08-28T13:58:13.076730600Z"
    }
   },
   "id": "e02e5b952c62eb77"
  },
  {
   "cell_type": "code",
   "execution_count": 92,
   "outputs": [],
   "source": [
    "non_fiction = titles_df[titles_df['genre']=='non-fictie']"
   ],
   "metadata": {
    "collapsed": false,
    "ExecuteTime": {
     "end_time": "2025-08-28T13:58:13.968502900Z",
     "start_time": "2025-08-28T13:58:13.943391Z"
    }
   },
   "id": "7d9bb718314dcb96"
  },
  {
   "cell_type": "code",
   "execution_count": 93,
   "outputs": [],
   "source": [
    "years = [1805, 1806, 1807, 1808, 1809, 1810, 1811, 1812, 1813, 1814, 1815, 1816, 1817, 1818, 1819]\n",
    "years = [str(x) for x in years]"
   ],
   "metadata": {
    "collapsed": false,
    "ExecuteTime": {
     "end_time": "2025-08-28T13:58:14.917349300Z",
     "start_time": "2025-08-28T13:58:14.890649700Z"
    }
   },
   "id": "b99a912a27078f0f"
  },
  {
   "cell_type": "code",
   "execution_count": 94,
   "outputs": [],
   "source": [
    "non_fiction = non_fiction.fillna('None')"
   ],
   "metadata": {
    "collapsed": false,
    "ExecuteTime": {
     "end_time": "2025-08-28T13:58:16.260449800Z",
     "start_time": "2025-08-28T13:58:16.246234200Z"
    }
   },
   "id": "be0e0967d50998a7"
  },
  {
   "cell_type": "code",
   "execution_count": 53,
   "outputs": [],
   "source": [
    "non_fiction_years = non_fiction[(non_fiction['jaar'].str.contains('|'.join(years))) & \n",
    "                                (non_fiction['text_url']!='None')]"
   ],
   "metadata": {
    "collapsed": false,
    "ExecuteTime": {
     "end_time": "2025-08-28T13:27:34.776270900Z",
     "start_time": "2025-08-28T13:27:34.736617Z"
    }
   },
   "id": "88bedcc438372f78"
  },
  {
   "cell_type": "code",
   "execution_count": 73,
   "outputs": [],
   "source": [
    "# interesting non fiction texts:\n",
    "# - De tijrannijen der Franschen in de jaaren 1747, 1795-1813, in de Nederlanden gepleegd (text book from 1814)\n",
    "# - Nieuwe Fransche tiranny, bijzonder onder de regering van Napoleon Bonaparte (text book/ booklet from 1814) \n",
    "# - Nederlandsche bezittingen in Azia, Amerika en Afrika (publication from 1818)\n",
    "# - Vaderlandsche letteroefeningen.\n",
    "# - Aardrijkskundig schoolboek van de provincie Holland (text book from 1819-1821, can't find it) \n",
    "titles = ['De tijrannijen der Franschen in de jaaren 1747', 'Nieuwe Fransche tiranny, bijzonder onder', \n",
    "          'Nederlandsche bezittingen in Azia, Amerika', 'Aardrijkskundig schoolboek van de provincie Holland', \n",
    "          'Vaderlandsche letteroefeningen']"
   ],
   "metadata": {
    "collapsed": false,
    "ExecuteTime": {
     "end_time": "2025-08-28T13:50:01.705994800Z",
     "start_time": "2025-08-28T13:50:01.673827Z"
    }
   },
   "id": "618f58b10b254e20"
  },
  {
   "cell_type": "code",
   "execution_count": 95,
   "outputs": [],
   "source": [
    "subset = titles_df[(titles_df[\"titel\"].str.contains('|'.join(titles))) &\n",
    "          (titles_df[\"jaar\"].str.contains('|'.join(years))) & (non_fiction['text_url']!='None')]"
   ],
   "metadata": {
    "collapsed": false,
    "ExecuteTime": {
     "end_time": "2025-08-28T13:58:18.491647400Z",
     "start_time": "2025-08-28T13:58:18.475650800Z"
    }
   },
   "id": "f010a85dcd855450"
  },
  {
   "cell_type": "code",
   "execution_count": 98,
   "outputs": [],
   "source": [
    "subset.to_csv(\"subset_dbnl.csv\")"
   ],
   "metadata": {
    "collapsed": false,
    "ExecuteTime": {
     "end_time": "2025-08-28T13:59:48.698960Z",
     "start_time": "2025-08-28T13:59:48.687110Z"
    }
   },
   "id": "2821846eee3f3293"
  }
 ],
 "metadata": {
  "kernelspec": {
   "display_name": "Python 3",
   "language": "python",
   "name": "python3"
  },
  "language_info": {
   "codemirror_mode": {
    "name": "ipython",
    "version": 2
   },
   "file_extension": ".py",
   "mimetype": "text/x-python",
   "name": "python",
   "nbconvert_exporter": "python",
   "pygments_lexer": "ipython2",
   "version": "2.7.6"
  }
 },
 "nbformat": 4,
 "nbformat_minor": 5
}
