{
 "cells": [
  {
   "cell_type": "code",
   "execution_count": 14,
   "id": "initial_id",
   "metadata": {
    "collapsed": true,
    "ExecuteTime": {
     "end_time": "2025-09-16T12:15:26.173514900Z",
     "start_time": "2025-09-16T12:15:26.141480500Z"
    }
   },
   "outputs": [],
   "source": [
    "from urllib.request import urlopen\n",
    "import re\n",
    "\n",
    "import pandas as pd\n",
    "from bs4 import BeautifulSoup\n",
    "import requests\n",
    "from langchain_text_splitters import RecursiveCharacterTextSplitter\n",
    "from datasets import Dataset"
   ]
  },
  {
   "cell_type": "code",
   "execution_count": 15,
   "outputs": [],
   "source": [
    "text_splitter = RecursiveCharacterTextSplitter.from_tiktoken_encoder(\n",
    "    model_name=\"gpt-2\", chunk_size=300, chunk_overlap=100\n",
    ")"
   ],
   "metadata": {
    "collapsed": false,
    "ExecuteTime": {
     "end_time": "2025-09-16T12:15:26.189635200Z",
     "start_time": "2025-09-16T12:15:26.157535200Z"
    }
   },
   "id": "4d9a54ffaeee1616"
  },
  {
   "cell_type": "code",
   "execution_count": 16,
   "outputs": [],
   "source": [
    "headers = {'User-Agent': 'RuhiBot/0.0 (r.u.mahadeshwar@rug.nl)'}"
   ],
   "metadata": {
    "collapsed": false,
    "ExecuteTime": {
     "end_time": "2025-09-16T12:15:26.206927500Z",
     "start_time": "2025-09-16T12:15:26.173514900Z"
    }
   },
   "id": "ba0c490ae67e467b"
  },
  {
   "cell_type": "code",
   "execution_count": 25,
   "outputs": [],
   "source": [
    "path = 'datasets_all/wikipedia-subset'"
   ],
   "metadata": {
    "collapsed": false,
    "ExecuteTime": {
     "end_time": "2025-09-16T12:16:25.093107800Z",
     "start_time": "2025-09-16T12:16:25.082674100Z"
    }
   },
   "id": "6bf2bea88736e78e"
  },
  {
   "cell_type": "code",
   "execution_count": 18,
   "outputs": [],
   "source": [
    "urls = {\n",
    "        # Kingdom of Holland\n",
    "        \"kingdom_holland\": \n",
    "            {\n",
    "                'en':'https://en.wikipedia.org/wiki/Kingdom_of_Holland',\n",
    "                'fr':'https://fr.wikipedia.org/wiki/Royaume_de_Hollande',\n",
    "                'nl':'https://nl.wikipedia.org/wiki/Koninkrijk_Holland'\n",
    "            },\n",
    "    \n",
    "        # Napoleonic Wars\n",
    "        \"napoleonic_wars\":\n",
    "            {\n",
    "                'en':'https://en.wikipedia.org/wiki/Napoleonic_Wars',\n",
    "                'fr':'https://fr.wikipedia.org/wiki/Guerres_napol%C3%A9oniennes',\n",
    "                'nl':'https://nl.wikipedia.org/wiki/Franse_revolutionaire_en_napoleontische_oorlogen',\n",
    "            },\n",
    "    \n",
    "        # Battle of Waterloo\n",
    "        \"waterloo_battle\":\n",
    "            {\n",
    "                'en':'https://en.wikipedia.org/wiki/Battle_of_Waterloo',\n",
    "                'fr':'https://fr.wikipedia.org/wiki/Bataille_de_Waterloo',\n",
    "                'nl':'https://nl.wikipedia.org/wiki/Slag_bij_Waterloo',\n",
    "            },     \n",
    "        \n",
    "        # French invasion of Russia\n",
    "        \"french_invasion_russia\":\n",
    "            {\n",
    "                'en':'https://en.wikipedia.org/wiki/French_invasion_of_Russia',\n",
    "                'fr':'https://fr.wikipedia.org/wiki/Campagne_de_Russie',\n",
    "                'nl':'https://nl.wikipedia.org/wiki/Veldtocht_van_Napoleon_naar_Rusland',\n",
    "            },    \n",
    "        \n",
    "        # Louis Bonaparte\n",
    "        \"king_louis_bonaparte\":\n",
    "            {\n",
    "                'en':'https://en.wikipedia.org/wiki/Louis_Bonaparte',\n",
    "                'fr':'https://fr.wikipedia.org/wiki/Louis_Bonaparte',\n",
    "                'nl':'https://nl.wikipedia.org/wiki/Lodewijk_Napoleon',\n",
    "            },\n",
    "        \n",
    "        # Napoleon\n",
    "        \"king_napoleon_bonaparte\":\n",
    "            {\n",
    "                'en':'https://en.wikipedia.org/wiki/Napoleon',\n",
    "                'fr':'https://fr.wikipedia.org/wiki/Napol%C3%A9on_Ier',\n",
    "                'nl':'https://nl.wikipedia.org/wiki/Napoleon_Bonaparte',\n",
    "            },\n",
    "\n",
    "}\n"
   ],
   "metadata": {
    "collapsed": false,
    "ExecuteTime": {
     "end_time": "2025-09-16T12:15:26.242823900Z",
     "start_time": "2025-09-16T12:15:26.209943600Z"
    }
   },
   "id": "37541c68c1b7e18a"
  },
  {
   "cell_type": "code",
   "execution_count": 19,
   "outputs": [],
   "source": [
    "paras = []\n",
    "\n",
    "for topic in urls.keys():\n",
    "    for lang in urls[topic]:\n",
    "        url = urls[topic][lang]\n",
    "        response = requests.get(url, headers=headers)\n",
    "        soup = BeautifulSoup(response.content, 'lxml', from_encoding='utf-8')\n",
    "        para_number = 0\n",
    "        date_soup = BeautifulSoup(requests.get(url+\"?action=info\", headers=headers).content, \n",
    "                                  'lxml', from_encoding='utf-8')\n",
    "        last_time = date_soup.find(id='mw-pageinfo-lasttime').find_all('td')[1]\n",
    "        year = int(re.findall(r\"[0-9]{4}\",last_time.text)[0])\n",
    "        \n",
    "        for paragraph in soup.find_all('p'):\n",
    "            para = re.sub(r\"\\[.*?\\]+\", '', str(paragraph.text))\n",
    "            para = re.sub(r\"\\u00A0\", ' ', para)\n",
    "            para = text_splitter.split_text(para)\n",
    "            for p in para:\n",
    "                paras.append([p, lang, topic, para_number, year])\n",
    "                para_number+=1"
   ],
   "metadata": {
    "collapsed": false,
    "ExecuteTime": {
     "end_time": "2025-09-16T12:15:41.099031Z",
     "start_time": "2025-09-16T12:15:26.224964700Z"
    }
   },
   "id": "cc25b4ddbab6156c"
  },
  {
   "cell_type": "code",
   "execution_count": 20,
   "outputs": [],
   "source": [
    "wiki_df = pd.DataFrame(paras, columns=['Text', 'Language', 'Topic', 'Para_number', 'Year'])"
   ],
   "metadata": {
    "collapsed": false,
    "ExecuteTime": {
     "end_time": "2025-09-16T12:15:41.114938200Z",
     "start_time": "2025-09-16T12:15:41.099031Z"
    }
   },
   "id": "aa51c43f06b603f8"
  },
  {
   "cell_type": "code",
   "execution_count": 22,
   "outputs": [
    {
     "data": {
      "text/plain": "1772"
     },
     "execution_count": 22,
     "metadata": {},
     "output_type": "execute_result"
    }
   ],
   "source": [
    "len(wiki_df)"
   ],
   "metadata": {
    "collapsed": false,
    "ExecuteTime": {
     "end_time": "2025-09-16T12:15:41.184271400Z",
     "start_time": "2025-09-16T12:15:41.130916900Z"
    }
   },
   "id": "16d6dca30a79c37d"
  },
  {
   "cell_type": "code",
   "execution_count": 26,
   "outputs": [
    {
     "data": {
      "text/plain": "Saving the dataset (0/1 shards):   0%|          | 0/1772 [00:00<?, ? examples/s]",
      "application/vnd.jupyter.widget-view+json": {
       "version_major": 2,
       "version_minor": 0,
       "model_id": "fcae1da9dd8047caaf89e0bbb2881622"
      }
     },
     "metadata": {},
     "output_type": "display_data"
    }
   ],
   "source": [
    "dataset = Dataset.from_pandas(wiki_df)\n",
    "dataset.save_to_disk(path)"
   ],
   "metadata": {
    "collapsed": false,
    "ExecuteTime": {
     "end_time": "2025-09-16T12:16:27.941237700Z",
     "start_time": "2025-09-16T12:16:27.896498600Z"
    }
   },
   "id": "f00cb9ada0c3abc2"
  },
  {
   "cell_type": "code",
   "execution_count": 31,
   "outputs": [],
   "source": [
    "ds = Dataset.load_from_disk(path)"
   ],
   "metadata": {
    "collapsed": false,
    "ExecuteTime": {
     "end_time": "2025-09-16T12:17:35.075958300Z",
     "start_time": "2025-09-16T12:17:35.064174Z"
    }
   },
   "id": "94fad0823d0105c2"
  },
  {
   "cell_type": "code",
   "execution_count": 34,
   "outputs": [
    {
     "data": {
      "text/plain": "'The Kingdom of Holland (Dutch: Koningrijk Holland (contemporary), Koninkrijk Holland (modern); French: Royaume de Hollande) was the successor state of the Batavian Republic. It was created by Napoleon Bonaparte in March 1806 in order to strengthen control over the Netherlands by replacing the republican government with a monarchy. Since becoming emperor in 1804, Napoleon sought to extirpate republican tendencies in territories France controlled, and placed his third brother, Louis Bonaparte, on the throne of the puppet kingdom. In 1807, the adjacent German regions of East Frisia and Jever were added to the kingdom.'"
     },
     "execution_count": 34,
     "metadata": {},
     "output_type": "execute_result"
    }
   ],
   "source": [
    "ds['Text'][0]"
   ],
   "metadata": {
    "collapsed": false,
    "ExecuteTime": {
     "end_time": "2025-09-16T12:17:52.806550Z",
     "start_time": "2025-09-16T12:17:52.790496200Z"
    }
   },
   "id": "54667b0093da1694"
  },
  {
   "cell_type": "code",
   "execution_count": 28,
   "outputs": [],
   "source": [
    "df = ds.to_pandas()[['Language', 'Topic']]"
   ],
   "metadata": {
    "collapsed": false,
    "ExecuteTime": {
     "end_time": "2025-09-16T12:16:30.619754700Z",
     "start_time": "2025-09-16T12:16:30.603676Z"
    }
   },
   "id": "929618a04aa89a88"
  },
  {
   "cell_type": "code",
   "execution_count": 29,
   "outputs": [
    {
     "data": {
      "text/plain": "<Axes: ylabel='Topic'>"
     },
     "execution_count": 29,
     "metadata": {},
     "output_type": "execute_result"
    },
    {
     "data": {
      "text/plain": "<Figure size 640x480 with 1 Axes>",
      "image/png": "[encoded data removed]"
     },
     "metadata": {},
     "output_type": "display_data"
    }
   ],
   "source": [
    "df.groupby(['Topic', 'Language']).value_counts().unstack().plot.barh()"
   ],
   "metadata": {
    "collapsed": false,
    "ExecuteTime": {
     "end_time": "2025-09-16T12:16:31.609453500Z",
     "start_time": "2025-09-16T12:16:31.481829800Z"
    }
   },
   "id": "9d86843f6b58b22c"
  }
 ],
 "metadata": {
  "kernelspec": {
   "display_name": "Python 3",
   "language": "python",
   "name": "python3"
  },
  "language_info": {
   "codemirror_mode": {
    "name": "ipython",
    "version": 2
   },
   "file_extension": ".py",
   "mimetype": "text/x-python",
   "name": "python",
   "nbconvert_exporter": "python",
   "pygments_lexer": "ipython2",
   "version": "2.7.6"
  }
 },
 "nbformat": 4,
 "nbformat_minor": 5
}
