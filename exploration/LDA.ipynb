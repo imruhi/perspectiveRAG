{
 "cells": [
  {
   "cell_type": "code",
   "execution_count": 3,
   "outputs": [
    {
     "name": "stderr",
     "output_type": "stream",
     "text": [
      "[nltk_data] Downloading package punkt to\n",
      "[nltk_data]     C:\\Users\\imruh\\AppData\\Roaming\\nltk_data...\n",
      "[nltk_data]   Package punkt is already up-to-date!\n",
      "[nltk_data] Downloading package wordnet to\n",
      "[nltk_data]     C:\\Users\\imruh\\AppData\\Roaming\\nltk_data...\n",
      "[nltk_data]   Package wordnet is already up-to-date!\n",
      "[nltk_data] Downloading package stopwords to\n",
      "[nltk_data]     C:\\Users\\imruh\\AppData\\Roaming\\nltk_data...\n",
      "[nltk_data]   Package stopwords is already up-to-date!\n",
      "[nltk_data] Downloading package averaged_perceptron_tagger to\n",
      "[nltk_data]     C:\\Users\\imruh\\AppData\\Roaming\\nltk_data...\n",
      "[nltk_data]   Package averaged_perceptron_tagger is already up-to-\n",
      "[nltk_data]       date!\n"
     ]
    }
   ],
   "source": [
    "from data.data import Delpher, DBNL\n",
    "from nltk.corpus import stopwords\n",
    "import spacy\n",
    "import os\n",
    "import nltk\n",
    "import re\n",
    "import string\n",
    "import gensim\n",
    "import numpy as np\n",
    "\n",
    "# for tokenization\n",
    "from nltk.tokenize import word_tokenize\n",
    "nltk.download(\"punkt\")\n",
    "nltk.download('wordnet')\n",
    "\n",
    "# for stopword removal\n",
    "from nltk.corpus import stopwords\n",
    "nltk.download('stopwords')\n",
    "\n",
    "# for lemmatization and POS tagging\n",
    "from nltk.stem import WordNetLemmatizer\n",
    "from nltk.corpus import wordnet\n",
    "nltk.download('averaged_perceptron_tagger')\n",
    "\n",
    "# for LDA\n",
    "from gensim import corpora\n",
    "from gensim.models import LdaModel\n",
    "from gensim.models.coherencemodel import CoherenceModel\n",
    "\n",
    "# for LDA evaluation\n",
    "import pyLDAvis\n",
    "import pyLDAvis.gensim_models as gensimvisualize\n",
    "nlp = spacy.load('xx_sent_ud_sm', disable=['parser', 'ner'])\n"
   ],
   "metadata": {
    "collapsed": false,
    "ExecuteTime": {
     "end_time": "2025-08-04T11:47:11.093964Z",
     "start_time": "2025-08-04T11:47:09.833206100Z"
    }
   },
   "id": "574e727d56cdc53c"
  },
  {
   "cell_type": "code",
   "execution_count": 4,
   "outputs": [],
   "source": [
    "years = [1805, 1806, 1807, 1808, 1809, 1810, 1811, 1812, 1813, 1814, 1815, 1816, 1817, 1818, 1819]"
   ],
   "metadata": {
    "collapsed": false,
    "ExecuteTime": {
     "end_time": "2025-08-04T11:47:11.096966800Z",
     "start_time": "2025-08-04T11:47:11.074557300Z"
    }
   },
   "id": "6493e4ed7818fb01"
  },
  {
   "cell_type": "code",
   "execution_count": 5,
   "outputs": [],
   "source": [
    "delpher = Delpher().dataset.filter(lambda example: example[\"Year\"] in years)\n",
    "dbnl = DBNL().dataset.filter(lambda example: example[\"Year\"] in years)"
   ],
   "metadata": {
    "collapsed": false,
    "ExecuteTime": {
     "end_time": "2025-08-04T11:47:11.135363600Z",
     "start_time": "2025-08-04T11:47:11.076566Z"
    }
   },
   "id": "57bdf926d520512d"
  },
  {
   "cell_type": "code",
   "execution_count": 6,
   "outputs": [],
   "source": [
    "delpher_text = delpher[\"CleanedText\"]\n",
    "dbnl_text = dbnl[\"CleanedText\"]"
   ],
   "metadata": {
    "collapsed": false,
    "ExecuteTime": {
     "end_time": "2025-08-04T11:47:12.090320300Z",
     "start_time": "2025-08-04T11:47:11.136875800Z"
    }
   },
   "id": "7363982a995359d9"
  },
  {
   "cell_type": "code",
   "execution_count": 7,
   "outputs": [
    {
     "name": "stderr",
     "output_type": "stream",
     "text": [
      "<>:2: DeprecationWarning: invalid escape sequence '\\s'\n",
      "<>:3: DeprecationWarning: invalid escape sequence '\\S'\n",
      "<>:2: DeprecationWarning: invalid escape sequence '\\s'\n",
      "<>:3: DeprecationWarning: invalid escape sequence '\\S'\n",
      "C:\\Users\\imruh\\AppData\\Local\\Temp\\ipykernel_33396\\3118430235.py:2: DeprecationWarning: invalid escape sequence '\\s'\n",
      "  text = re.sub('\\s+', ' ', text)  # Remove extra spaces\n",
      "C:\\Users\\imruh\\AppData\\Local\\Temp\\ipykernel_33396\\3118430235.py:3: DeprecationWarning: invalid escape sequence '\\S'\n",
      "  text = re.sub('\\S*@\\S*\\s?', '', text)  # Remove emails\n"
     ]
    }
   ],
   "source": [
    "def preprocess_text(text):\n",
    "    text = re.sub('\\s+', ' ', text)  # Remove extra spaces\n",
    "    text = re.sub('\\S*@\\S*\\s?', '', text)  # Remove emails\n",
    "    text = re.sub('\\'', '', text)  # Remove apostrophes\n",
    "    text = re.sub('[^a-zA-Z]', ' ', text)  # Remove non-alphabet characters\n",
    "    text = text.lower()  # Convert to lowercase\n",
    "    return text"
   ],
   "metadata": {
    "collapsed": false,
    "ExecuteTime": {
     "end_time": "2025-08-04T11:47:12.100952900Z",
     "start_time": "2025-08-04T11:47:12.092905Z"
    }
   },
   "id": "e2bb843adbb93e05"
  },
  {
   "cell_type": "code",
   "execution_count": 8,
   "outputs": [],
   "source": [
    "delpher_text = [preprocess_text(x) for x in delpher_text]\n",
    "dbnl_text = [preprocess_text(x) for x in dbnl_text]"
   ],
   "metadata": {
    "collapsed": false,
    "ExecuteTime": {
     "end_time": "2025-08-04T11:47:36.258531100Z",
     "start_time": "2025-08-04T11:47:12.096275100Z"
    }
   },
   "id": "820728a91e7ee45d"
  },
  {
   "cell_type": "code",
   "execution_count": 9,
   "outputs": [],
   "source": [
    "dataset_cleaned_text = delpher_text + dbnl_text"
   ],
   "metadata": {
    "collapsed": false,
    "ExecuteTime": {
     "end_time": "2025-08-04T11:47:36.269106700Z",
     "start_time": "2025-08-04T11:47:36.258531100Z"
    }
   },
   "id": "cf05ff40c7892f4f"
  },
  {
   "cell_type": "code",
   "execution_count": 10,
   "outputs": [],
   "source": [
    "stoplist = list(set(stopwords.words('dutch'))) + list(set(stopwords.words('english'))) + list(set(stopwords.words('french')))\n",
    "stoplist.extend(['pct', 'idem', 'wy', 'zyn' ,'zy','hy', 'pcts', 'dito', 'zoo', 'alhier'])\n",
    "\n",
    "# Tokenize and remove stopwords\n",
    "def tokenize(text):\n",
    "    tokens = gensim.utils.simple_preprocess(text, deacc=True)\n",
    "    tokens = [token for token in tokens if token not in stoplist]\n",
    "    return tokens\n",
    "\n",
    "tokens = [tokenize(x) for x in dataset_cleaned_text]"
   ],
   "metadata": {
    "collapsed": false,
    "ExecuteTime": {
     "end_time": "2025-08-04T11:50:03.820258600Z",
     "start_time": "2025-08-04T11:47:36.268070600Z"
    }
   },
   "id": "6e92f9ee4fe6d261"
  },
  {
   "cell_type": "code",
   "execution_count": 11,
   "outputs": [],
   "source": [
    "def lemmatize(tokens):\n",
    "    doc = nlp(\" \".join(tokens))\n",
    "    return [token.lemma_ for token in doc]\n",
    "\n",
    "lemmas = [lemmatize(x) for x in tokens]"
   ],
   "metadata": {
    "collapsed": false,
    "ExecuteTime": {
     "end_time": "2025-08-04T11:54:00.965685300Z",
     "start_time": "2025-08-04T11:50:03.826846700Z"
    }
   },
   "id": "fe1d21df71c2b42d"
  },
  {
   "cell_type": "code",
   "execution_count": 12,
   "outputs": [],
   "source": [
    "id2word = corpora.Dictionary(lemmas)\n",
    "texts = lemmas\n",
    "corpus = [id2word.doc2bow(text) for text in texts]"
   ],
   "metadata": {
    "collapsed": false,
    "ExecuteTime": {
     "end_time": "2025-08-04T11:54:05.052650600Z",
     "start_time": "2025-08-04T11:54:00.994316200Z"
    }
   },
   "id": "c7c27ca24329415b"
  },
  {
   "cell_type": "code",
   "execution_count": 13,
   "outputs": [
    {
     "ename": "KeyboardInterrupt",
     "evalue": "",
     "output_type": "error",
     "traceback": [
      "\u001B[31m---------------------------------------------------------------------------\u001B[39m",
      "\u001B[31mKeyboardInterrupt\u001B[39m                         Traceback (most recent call last)",
      "\u001B[36mCell\u001B[39m\u001B[36m \u001B[39m\u001B[32mIn[13]\u001B[39m\u001B[32m, line 2\u001B[39m\n\u001B[32m      1\u001B[39m \u001B[38;5;66;03m# train LDA model\u001B[39;00m\n\u001B[32m----> \u001B[39m\u001B[32m2\u001B[39m lda_model = \u001B[43mLdaModel\u001B[49m\u001B[43m(\u001B[49m\u001B[43mcorpus\u001B[49m\u001B[43m=\u001B[49m\u001B[43mcorpus\u001B[49m\u001B[43m,\u001B[49m\u001B[43m \u001B[49m\n\u001B[32m      3\u001B[39m \u001B[43m                     \u001B[49m\u001B[43mid2word\u001B[49m\u001B[43m=\u001B[49m\u001B[43mid2word\u001B[49m\u001B[43m,\u001B[49m\u001B[43m \u001B[49m\n\u001B[32m      4\u001B[39m \u001B[43m                     \u001B[49m\u001B[43mrandom_state\u001B[49m\u001B[43m=\u001B[49m\u001B[32;43m4583\u001B[39;49m\u001B[43m,\u001B[49m\u001B[43m \u001B[49m\n\u001B[32m      5\u001B[39m \u001B[43m                     \u001B[49m\u001B[43mchunksize\u001B[49m\u001B[43m=\u001B[49m\u001B[32;43m20\u001B[39;49m\u001B[43m,\u001B[49m\u001B[43m \u001B[49m\n\u001B[32m      6\u001B[39m \u001B[43m                     \u001B[49m\u001B[43mnum_topics\u001B[49m\u001B[43m=\u001B[49m\u001B[32;43m10\u001B[39;49m\u001B[43m,\u001B[49m\u001B[43m \u001B[49m\n\u001B[32m      7\u001B[39m \u001B[43m                     \u001B[49m\u001B[43mpasses\u001B[49m\u001B[43m=\u001B[49m\u001B[32;43m200\u001B[39;49m\u001B[43m,\u001B[49m\u001B[43m \u001B[49m\n\u001B[32m      8\u001B[39m \u001B[43m                     \u001B[49m\u001B[43miterations\u001B[49m\u001B[43m=\u001B[49m\u001B[32;43m400\u001B[39;49m\u001B[43m)\u001B[49m\n",
      "\u001B[36mFile \u001B[39m\u001B[32m~\\miniconda3\\envs\\topic\\Lib\\site-packages\\gensim\\models\\ldamodel.py:521\u001B[39m, in \u001B[36mLdaModel.__init__\u001B[39m\u001B[34m(self, corpus, num_topics, id2word, distributed, chunksize, passes, update_every, alpha, eta, decay, offset, eval_every, iterations, gamma_threshold, minimum_probability, random_state, ns_conf, minimum_phi_value, per_word_topics, callbacks, dtype)\u001B[39m\n\u001B[32m    519\u001B[39m use_numpy = \u001B[38;5;28mself\u001B[39m.dispatcher \u001B[38;5;129;01mis\u001B[39;00m \u001B[38;5;129;01mnot\u001B[39;00m \u001B[38;5;28;01mNone\u001B[39;00m\n\u001B[32m    520\u001B[39m start = time.time()\n\u001B[32m--> \u001B[39m\u001B[32m521\u001B[39m \u001B[38;5;28;43mself\u001B[39;49m\u001B[43m.\u001B[49m\u001B[43mupdate\u001B[49m\u001B[43m(\u001B[49m\u001B[43mcorpus\u001B[49m\u001B[43m,\u001B[49m\u001B[43m \u001B[49m\u001B[43mchunks_as_numpy\u001B[49m\u001B[43m=\u001B[49m\u001B[43muse_numpy\u001B[49m\u001B[43m)\u001B[49m\n\u001B[32m    522\u001B[39m \u001B[38;5;28mself\u001B[39m.add_lifecycle_event(\n\u001B[32m    523\u001B[39m     \u001B[33m\"\u001B[39m\u001B[33mcreated\u001B[39m\u001B[33m\"\u001B[39m,\n\u001B[32m    524\u001B[39m     msg=\u001B[33mf\u001B[39m\u001B[33m\"\u001B[39m\u001B[33mtrained \u001B[39m\u001B[38;5;132;01m{\u001B[39;00m\u001B[38;5;28mself\u001B[39m\u001B[38;5;132;01m}\u001B[39;00m\u001B[33m in \u001B[39m\u001B[38;5;132;01m{\u001B[39;00mtime.time()\u001B[38;5;250m \u001B[39m-\u001B[38;5;250m \u001B[39mstart\u001B[38;5;132;01m:\u001B[39;00m\u001B[33m.2f\u001B[39m\u001B[38;5;132;01m}\u001B[39;00m\u001B[33ms\u001B[39m\u001B[33m\"\u001B[39m,\n\u001B[32m    525\u001B[39m )\n",
      "\u001B[36mFile \u001B[39m\u001B[32m~\\miniconda3\\envs\\topic\\Lib\\site-packages\\gensim\\models\\ldamodel.py:1006\u001B[39m, in \u001B[36mLdaModel.update\u001B[39m\u001B[34m(self, corpus, chunksize, decay, offset, passes, update_every, eval_every, iterations, gamma_threshold, chunks_as_numpy)\u001B[39m\n\u001B[32m   1001\u001B[39m \u001B[38;5;28;01melse\u001B[39;00m:\n\u001B[32m   1002\u001B[39m     logger.info(\n\u001B[32m   1003\u001B[39m         \u001B[33m\"\u001B[39m\u001B[33mPROGRESS: pass \u001B[39m\u001B[38;5;132;01m%i\u001B[39;00m\u001B[33m, at document #\u001B[39m\u001B[38;5;132;01m%i\u001B[39;00m\u001B[33m/\u001B[39m\u001B[38;5;132;01m%i\u001B[39;00m\u001B[33m\"\u001B[39m,\n\u001B[32m   1004\u001B[39m         pass_, chunk_no * chunksize + \u001B[38;5;28mlen\u001B[39m(chunk), lencorpus\n\u001B[32m   1005\u001B[39m     )\n\u001B[32m-> \u001B[39m\u001B[32m1006\u001B[39m     gammat = \u001B[38;5;28;43mself\u001B[39;49m\u001B[43m.\u001B[49m\u001B[43mdo_estep\u001B[49m\u001B[43m(\u001B[49m\u001B[43mchunk\u001B[49m\u001B[43m,\u001B[49m\u001B[43m \u001B[49m\u001B[43mother\u001B[49m\u001B[43m)\u001B[49m\n\u001B[32m   1008\u001B[39m     \u001B[38;5;28;01mif\u001B[39;00m \u001B[38;5;28mself\u001B[39m.optimize_alpha:\n\u001B[32m   1009\u001B[39m         \u001B[38;5;28mself\u001B[39m.update_alpha(gammat, rho())\n",
      "\u001B[36mFile \u001B[39m\u001B[32m~\\miniconda3\\envs\\topic\\Lib\\site-packages\\gensim\\models\\ldamodel.py:768\u001B[39m, in \u001B[36mLdaModel.do_estep\u001B[39m\u001B[34m(self, chunk, state)\u001B[39m\n\u001B[32m    766\u001B[39m \u001B[38;5;28;01mif\u001B[39;00m state \u001B[38;5;129;01mis\u001B[39;00m \u001B[38;5;28;01mNone\u001B[39;00m:\n\u001B[32m    767\u001B[39m     state = \u001B[38;5;28mself\u001B[39m.state\n\u001B[32m--> \u001B[39m\u001B[32m768\u001B[39m gamma, sstats = \u001B[38;5;28;43mself\u001B[39;49m\u001B[43m.\u001B[49m\u001B[43minference\u001B[49m\u001B[43m(\u001B[49m\u001B[43mchunk\u001B[49m\u001B[43m,\u001B[49m\u001B[43m \u001B[49m\u001B[43mcollect_sstats\u001B[49m\u001B[43m=\u001B[49m\u001B[38;5;28;43;01mTrue\u001B[39;49;00m\u001B[43m)\u001B[49m\n\u001B[32m    769\u001B[39m state.sstats += sstats\n\u001B[32m    770\u001B[39m state.numdocs += gamma.shape[\u001B[32m0\u001B[39m]  \u001B[38;5;66;03m# avoids calling len(chunk) on a generator\u001B[39;00m\n",
      "\u001B[36mFile \u001B[39m\u001B[32m~\\miniconda3\\envs\\topic\\Lib\\site-packages\\gensim\\models\\ldamodel.py:719\u001B[39m, in \u001B[36mLdaModel.inference\u001B[39m\u001B[34m(self, chunk, collect_sstats)\u001B[39m\n\u001B[32m    715\u001B[39m lastgamma = gammad\n\u001B[32m    716\u001B[39m \u001B[38;5;66;03m# We represent phi implicitly to save memory and time.\u001B[39;00m\n\u001B[32m    717\u001B[39m \u001B[38;5;66;03m# Substituting the value of the optimal phi back into\u001B[39;00m\n\u001B[32m    718\u001B[39m \u001B[38;5;66;03m# the update for gamma gives this update. Cf. Lee&Seung 2001.\u001B[39;00m\n\u001B[32m--> \u001B[39m\u001B[32m719\u001B[39m gammad = \u001B[38;5;28mself\u001B[39m.alpha + expElogthetad * \u001B[43mnp\u001B[49m\u001B[43m.\u001B[49m\u001B[43mdot\u001B[49m\u001B[43m(\u001B[49m\u001B[43mcts\u001B[49m\u001B[43m \u001B[49m\u001B[43m/\u001B[49m\u001B[43m \u001B[49m\u001B[43mphinorm\u001B[49m\u001B[43m,\u001B[49m\u001B[43m \u001B[49m\u001B[43mexpElogbetad\u001B[49m\u001B[43m.\u001B[49m\u001B[43mT\u001B[49m\u001B[43m)\u001B[49m\n\u001B[32m    720\u001B[39m Elogthetad = dirichlet_expectation(gammad)\n\u001B[32m    721\u001B[39m expElogthetad = np.exp(Elogthetad)\n",
      "\u001B[31mKeyboardInterrupt\u001B[39m: "
     ]
    }
   ],
   "source": [
    "# train LDA model\n",
    "lda_model = LdaModel(corpus=corpus, \n",
    "                     id2word=id2word, \n",
    "                     random_state=4583, \n",
    "                     chunksize=20, \n",
    "                     num_topics=10, \n",
    "                     passes=200, \n",
    "                     iterations=400)"
   ],
   "metadata": {
    "collapsed": false,
    "ExecuteTime": {
     "end_time": "2025-08-04T12:13:22.664804300Z",
     "start_time": "2025-08-04T11:54:05.052650600Z"
    }
   },
   "id": "4e13a5cdf5c882c1"
  },
  {
   "cell_type": "code",
   "execution_count": null,
   "outputs": [],
   "source": [
    "# print LDA topics\n",
    "for topic in lda_model.print_topics(num_topics=7, num_words=10):\n",
    "    print(topic)"
   ],
   "metadata": {
    "collapsed": false,
    "ExecuteTime": {
     "start_time": "2025-08-04T12:13:22.641462700Z"
    }
   },
   "id": "49be944801eac2d"
  }
 ],
 "metadata": {
  "kernelspec": {
   "display_name": "Python 3 (ipykernel)",
   "language": "python",
   "name": "python3"
  },
  "language_info": {
   "codemirror_mode": {
    "name": "ipython",
    "version": 3
   },
   "file_extension": ".py",
   "mimetype": "text/x-python",
   "name": "python",
   "nbconvert_exporter": "python",
   "pygments_lexer": "ipython3",
   "version": "3.11.5"
  }
 },
 "nbformat": 4,
 "nbformat_minor": 5
}
