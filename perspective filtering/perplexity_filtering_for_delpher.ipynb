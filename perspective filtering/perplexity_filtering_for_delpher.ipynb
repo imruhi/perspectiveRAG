{
 "cells": [
  {
   "cell_type": "code",
   "execution_count": 1,
   "id": "initial_id",
   "metadata": {
    "collapsed": true,
    "ExecuteTime": {
     "end_time": "2025-08-28T12:12:16.653384900Z",
     "start_time": "2025-08-28T12:12:02.723317900Z"
    }
   },
   "outputs": [],
   "source": [
    "# Load model directly\n",
    "import torch\n",
    "from transformers import AutoTokenizer, AutoModelForCausalLM\n",
    "from data.data import Delpher, DBNL\n",
    "from accelerate.test_utils.testing import get_backend\n",
    "from langchain_text_splitters import RecursiveCharacterTextSplitter\n",
    "import pandas as pd\n",
    "import pickle"
   ]
  },
  {
   "cell_type": "code",
   "execution_count": null,
   "outputs": [],
   "source": [
    "# around 200/300 is a good cutoff (using 250)"
   ],
   "metadata": {
    "collapsed": false,
    "ExecuteTime": {
     "start_time": "2025-08-27T13:47:56.713692200Z"
    }
   },
   "id": "61f6ba92ebd97b81"
  },
  {
   "cell_type": "code",
   "execution_count": 2,
   "outputs": [
    {
     "data": {
      "text/plain": "Embedding(40000, 768)"
     },
     "execution_count": 2,
     "metadata": {},
     "output_type": "execute_result"
    }
   ],
   "source": [
    "model_id = \"GroNLP/gpt2-small-dutch\"\n",
    "device, _, _ = get_backend() \n",
    "model = AutoModelForCausalLM.from_pretrained(model_id)\n",
    "max_len = 1024\n",
    "tokenizer = AutoTokenizer.from_pretrained(model_id, max_length=max_len)\n",
    "\n",
    "# Assign the EOS token as the padding token\n",
    "tokenizer.pad_token = tokenizer.eos_token\n",
    "model.resize_token_embeddings(len(tokenizer))"
   ],
   "metadata": {
    "collapsed": false,
    "ExecuteTime": {
     "end_time": "2025-08-28T12:12:37.798164800Z",
     "start_time": "2025-08-28T12:12:35.582515300Z"
    }
   },
   "id": "cbd18cf0e463331c"
  },
  {
   "cell_type": "code",
   "execution_count": 3,
   "outputs": [],
   "source": [
    "years = [1805, 1806, 1807, 1808, 1809, 1810, 1811, 1812, 1813, 1814, 1815, 1816, 1817, 1818, 1819]\n",
    "ds_delpher = Delpher().dataset.filter(lambda example: example[\"Year\"] in years and len(example[\"CleanedText\"])>100)\n",
    "texts = ds_delpher['CleanedText']"
   ],
   "metadata": {
    "collapsed": false,
    "ExecuteTime": {
     "end_time": "2025-08-28T12:12:38.047514700Z",
     "start_time": "2025-08-28T12:12:37.789500300Z"
    }
   },
   "id": "68183124dff3f769"
  },
  {
   "cell_type": "code",
   "execution_count": 4,
   "outputs": [
    {
     "name": "stdout",
     "output_type": "stream",
     "text": [
      "81990\n"
     ]
    }
   ],
   "source": [
    "print(len(texts))"
   ],
   "metadata": {
    "collapsed": false,
    "ExecuteTime": {
     "end_time": "2025-08-28T12:12:40.901348900Z",
     "start_time": "2025-08-28T12:12:40.864592500Z"
    }
   },
   "id": "9b0eabdd33931197"
  },
  {
   "cell_type": "code",
   "execution_count": null,
   "outputs": [],
   "source": [
    "def compute_perplexity_for_batch(input_texts):\n",
    "    inputs = tokenizer(\n",
    "        input_texts, return_tensors=\"pt\", padding=True, truncation=True, max_length=max_len\n",
    "    )\n",
    "\n",
    "    input_ids = inputs[\"input_ids\"]\n",
    "    attention_mask = inputs[\"attention_mask\"]\n",
    "    with torch.no_grad():\n",
    "        outputs = model(input_ids, attention_mask=attention_mask)\n",
    "        logits = outputs.logits\n",
    "\n",
    "    shift_logits = logits[:, :-1, :] \n",
    "    shift_labels = input_ids[:, 1:] \n",
    "\n",
    "    log_probs = torch.nn.functional.log_softmax(shift_logits, dim=-1)\n",
    "    target_log_probs = log_probs.gather(dim=-1, index=shift_labels.unsqueeze(-1)).squeeze(-1)\n",
    "    target_log_probs = target_log_probs * attention_mask[:, 1:].to(log_probs.dtype)\n",
    "    negative_log_likelihood = -target_log_probs.sum(dim=-1) / attention_mask[:, 1:].sum(dim=-1)\n",
    "    perplexities = torch.exp(negative_log_likelihood)\n",
    "    # mean_perplexity_score = torch.mean(perplexities)\n",
    "    \n",
    "    return perplexities.tolist()\n",
    "    # return {\n",
    "    #     \"perplexities\": perplexities.tolist(),\n",
    "    #     \"mean_perplexity\": mean_perplexity_score.item()\n",
    "    # }"
   ],
   "metadata": {
    "collapsed": false,
    "ExecuteTime": {
     "start_time": "2025-08-27T13:47:56.716688100Z"
    }
   },
   "id": "6558528ee3b27ae6"
  },
  {
   "cell_type": "code",
   "execution_count": null,
   "outputs": [],
   "source": [
    "text_splitter = RecursiveCharacterTextSplitter.from_tiktoken_encoder(\n",
    "    model_name=\"gpt-2\", chunk_size=max_len, chunk_overlap=0\n",
    ")"
   ],
   "metadata": {
    "collapsed": false,
    "ExecuteTime": {
     "end_time": "2025-08-27T13:47:56.718819Z",
     "start_time": "2025-08-27T13:47:56.717812600Z"
    }
   },
   "id": "a0a53566b7abb7c4"
  },
  {
   "cell_type": "code",
   "execution_count": null,
   "outputs": [],
   "source": [
    "# text_splits = []\n",
    "# for x in texts:\n",
    "#     text_splits.append(text_splitter.split_text(x))"
   ],
   "metadata": {
    "collapsed": false,
    "ExecuteTime": {
     "start_time": "2025-08-27T13:47:56.718819Z"
    }
   },
   "id": "104a4ded029df74c"
  },
  {
   "cell_type": "code",
   "execution_count": null,
   "outputs": [],
   "source": [
    "# with open('perplexities_delpher/text_splits.pkl', 'wb') as p:\n",
    "#     pickle.dump(text_splits, p)"
   ],
   "metadata": {
    "collapsed": false,
    "ExecuteTime": {
     "end_time": "2025-08-27T13:47:56.719819700Z",
     "start_time": "2025-08-27T13:47:56.718819Z"
    }
   },
   "id": "aa1f2789fe46ea68"
  },
  {
   "cell_type": "code",
   "execution_count": null,
   "outputs": [],
   "source": [
    "with open('perplexities_delpher/text_splits.pkl', 'rb') as p:\n",
    "    text_splits = pickle.load(p)\n",
    "print(len(text_splits))"
   ],
   "metadata": {
    "collapsed": false,
    "ExecuteTime": {
     "end_time": "2025-08-27T13:47:56.732972100Z",
     "start_time": "2025-08-27T13:47:56.720822800Z"
    }
   },
   "id": "cd1e94ee08e9dc1a"
  },
  {
   "cell_type": "code",
   "execution_count": null,
   "outputs": [],
   "source": [
    "# change j AND savelen when needed\n",
    "j = 200\n",
    "save_len = 200\n",
    "out = []\n",
    "for i in text_splits[:600]:\n",
    "    # print(len(i))\n",
    "    out.append(compute_perplexity_for_batch(i))\n",
    "    j += 1\n",
    "    if j%save_len==0:\n",
    "        with open(f\"perplexities_delpher/{j}.pkl\", 'wb') as b:\n",
    "            pickle.dump(out, b)\n",
    "        out = []\n",
    "    if j%10==0:\n",
    "        print(f\"At {j}\")\n",
    "with open(f\"perplexities_delpher/{j}.pkl\", 'wb') as b:\n",
    "    pickle.dump(out, b)"
   ],
   "metadata": {
    "collapsed": false,
    "ExecuteTime": {
     "start_time": "2025-08-27T13:47:56.722235500Z"
    }
   },
   "id": "7d2add7306600852"
  },
  {
   "cell_type": "markdown",
   "source": [
    "## Filter out anything which has a higher perplexity than 250"
   ],
   "metadata": {
    "collapsed": false
   },
   "id": "dbe5a153cc5c94a9"
  },
  {
   "cell_type": "code",
   "execution_count": 29,
   "outputs": [],
   "source": [
    "import glob\n",
    "import pickle\n",
    "import numpy as np\n",
    "import matplotlib.pyplot as plt\n",
    "\n",
    "perplexities = []\n",
    "# paths = glob.glob('perplexities_dbnl_plakaatboek*')\n",
    "paths = glob.glob('perplexities_delpher/[0-9]*')\n",
    "paths = sorted(paths, key=lambda x: int(x.rsplit('\\\\', 1)[-1].split('.')[0]))\n",
    "\n",
    "for path in paths:\n",
    "    with open(path, 'rb') as b:\n",
    "        perplexities.extend(pickle.load(b))"
   ],
   "metadata": {
    "collapsed": false,
    "ExecuteTime": {
     "end_time": "2025-08-28T12:18:33.957236900Z",
     "start_time": "2025-08-28T12:18:33.946159700Z"
    }
   },
   "id": "49f9cbdb2a15673"
  },
  {
   "cell_type": "code",
   "execution_count": 30,
   "outputs": [],
   "source": [
    "avg_perplexities_delpher = [np.mean(x) for x in perplexities]"
   ],
   "metadata": {
    "collapsed": false,
    "ExecuteTime": {
     "end_time": "2025-08-28T12:18:39.320575900Z",
     "start_time": "2025-08-28T12:18:39.299014100Z"
    }
   },
   "id": "8154eddeb047bbe3"
  },
  {
   "cell_type": "code",
   "execution_count": 32,
   "outputs": [],
   "source": [
    "delpher_df = ds_delpher.to_pandas()\n",
    "delpher_df = delpher_df[:len(avg_perplexities_delpher)]\n",
    "delpher_df['perplexity'] = avg_perplexities_delpher"
   ],
   "metadata": {
    "collapsed": false,
    "ExecuteTime": {
     "end_time": "2025-08-28T12:19:13.818022500Z",
     "start_time": "2025-08-28T12:19:11.423013400Z"
    }
   },
   "id": "fbc8753a23cc80a0"
  },
  {
   "cell_type": "code",
   "execution_count": 36,
   "outputs": [],
   "source": [
    "filtered_delpher = delpher_df[delpher_df['perplexity']<200]"
   ],
   "metadata": {
    "collapsed": false,
    "ExecuteTime": {
     "end_time": "2025-08-28T12:19:46.642401600Z",
     "start_time": "2025-08-28T12:19:46.612556600Z"
    }
   },
   "id": "ee1694e3f135bd76"
  },
  {
   "cell_type": "code",
   "execution_count": 37,
   "outputs": [
    {
     "data": {
      "text/plain": "      Year  Month  Day                  Newspaper  \\\n13    1805      9    6  Bataafsche staats-courant   \n120   1805      9   27  Bataafsche staats-courant   \n121   1805      9   27  Bataafsche staats-courant   \n122   1805      9   28  Bataafsche staats-courant   \n156   1805     10    7  Bataafsche staats-courant   \n162   1805     10    7  Bataafsche staats-courant   \n180   1805     10    7  Bataafsche staats-courant   \n183   1805     10    9  Bataafsche staats-courant   \n192   1805     10   11  Bataafsche staats-courant   \n216   1805     10   16  Bataafsche staats-courant   \n222   1805     10   16  Bataafsche staats-courant   \n252   1805     10   19  Bataafsche staats-courant   \n253   1805     10   19  Bataafsche staats-courant   \n261   1805     10   21  Bataafsche staats-courant   \n474   1805     11   25  Bataafsche staats-courant   \n619   1805     12   13  Bataafsche staats-courant   \n635   1805     12   14  Bataafsche staats-courant   \n825   1806      1   13  Bataafsche staats-courant   \n959   1806      2    3  Bataafsche staats-courant   \n1119  1806      3    5  Bataafsche staats-courant   \n1175  1806      3   14  Bataafsche staats-courant   \n1177  1806      3   14  Bataafsche staats-courant   \n1442  1806      5   12  Bataafsche staats-courant   \n1460  1806      5   13  Bataafsche staats-courant   \n\n                                                   Path  \\\n13    1805/09/06/DDD_ddd_010084055_mpeg21/DDD_010084...   \n120   1805/09/27/DDD_ddd_010084065_mpeg21/DDD_010084...   \n121   1805/09/27/DDD_ddd_010084065_mpeg21/DDD_010084...   \n122   1805/09/28/DDD_ddd_010084066_mpeg21/DDD_010084...   \n156   1805/10/07/DDD_ddd_010084071_mpeg21/DDD_010084...   \n162   1805/10/07/DDD_ddd_010084071_mpeg21/DDD_010084...   \n180   1805/10/07/DDD_ddd_010084072_mpeg21/DDD_010084...   \n183   1805/10/09/DDD_ddd_010084073_mpeg21/DDD_010084...   \n192   1805/10/11/DDD_ddd_010084074_mpeg21/DDD_010084...   \n216   1805/10/16/DDD_ddd_010084076_mpeg21/DDD_010084...   \n222   1805/10/16/DDD_ddd_010084076_mpeg21/DDD_010084...   \n252   1805/10/19/DDD_ddd_010084078_mpeg21/DDD_010084...   \n253   1805/10/19/DDD_ddd_010084078_mpeg21/DDD_010084...   \n261   1805/10/21/DDD_ddd_010084079_mpeg21/DDD_010084...   \n474   1805/11/25/DDD_ddd_010084099_mpeg21/DDD_010084...   \n619   1805/12/13/DDD_ddd_010084111_mpeg21/DDD_010084...   \n635   1805/12/14/DDD_ddd_010084112_mpeg21/DDD_010084...   \n825   1806/01/13/DDD_ddd_010084132_mpeg21/DDD_010084...   \n959   1806/02/03/DDD_ddd_010084142_mpeg21/DDD_010084...   \n1119  1806/03/05/DDD_ddd_010084156_mpeg21/DDD_010084...   \n1175  1806/03/14/DDD_ddd_010084161_mpeg21/DDD_010084...   \n1177  1806/03/14/DDD_ddd_010084161_mpeg21/DDD_010084...   \n1442  1806/05/12/DDD_ddd_010084186_mpeg21/DDD_010084...   \n1460  1806/05/13/DDD_ddd_010084187_mpeg21/DDD_010084...   \n\n                                                  Title  \\\n13           GENERLAITEITS NU BATAAFSCHE 99fte LOTERIJ.   \n120                                                       \n121                                                       \n122                               BATAAFSCHE REPUBLIEK.   \n156                   TEXT DER NOTA VAN HET WEENER HOF.   \n162                                            SPANJEN.   \n180                                        DUITSCHLAND.   \n183                                            RUSLAND.   \n192                                  GROOT-BRITTANNIEN.   \n216   EXTRACT UIT HET REGISTER DER RESOLUTIEN VAN HE...   \n222                               BATAAFSCHE REPUBLIEK.   \n252                                                       \n253                                                       \n261                                                       \n474                                  GROOT-BRITTANNIEN.   \n619   Deze DUBBELE COURANT met het BIJVOEGSEL wordt ...   \n635                                   VIJFDE AFDEELING.   \n825                                    TWEEDE AFDEELING   \n959                               BATAAFSCHE REPUBLIEK.   \n1119    Voorziening tegen het eluderen dezer Belasting.   \n1175                                             POLEN.   \n1177                                       DUITSCHLAND.   \n1442                                  GROOT-BRITANNIEN.   \n1460                                 TWEEDE BEGROOTING.   \n\n                                                   Text  \\\n13    Zesde Clcisfe. Prijzen en Premien van f ace en...   \n120   BEKENDMAKING. Ingevolge authorifatie, en onder...   \n121   Volgens de Duitfche berigten to; den 2*. E-rce...   \n122   DEN HAAG den 28 September. Bij Hunne Hoog Moge...   \n156   „ Het Weener-Hof bewilligt zonder aarfelen in ...   \n162   MADRID den g September. De demisfie, door den ...   \n180   -WEENEN den 24 September. Bij Publicatie der r...   \n183   PETERSBURG den 18 September. De Luitenant-Gene...   \n192   LONDEN den 5 Oclober. De tijding der wegneming...   \n216   Dingsdag, den 4 Junij 1805. Commisfarisfen tot...   \n222   AMSTERDAM den 14 Oaober. De Prijs-Courant der ...   \n252   Dadelijk na. den ioden November voornoemd, zul...   \n253   V* De Ondergetekende, Ontvanger van de Buiteng...   \n261   *'■* CHRISTIAAN WILLEM van BOETZELAAR , Ontfan...   \n474   LONDEN den iS November. Bij eene ©fficieele Ho...   \n619   NAPELS den 21 November. Een Eskader, uit twaal...   \n635   Vierde Begreoting van deze Belasting. P L A I ...   \n825   '-. Pligten ÏÏM Bk'ANötßs £« Distillateurs. De...   \n959   NYMÉGENV-/* 28 Januarij. Het water is hier wed...   \n1119  7- Ten einde .alle misbruiken door het Wek. en...   \n1175  LEMBERG den 10 Februarij. - De geheele Rusfrfc...   \n1177  WEENEN den 26 Februarij. Gister kwam hier een ...   \n1442  LONDEN'^./; <> Meij, Het Eskader van den Admir...   \n1460  • Verminderde Impost. • EER S TE K LASS E. 3. ...   \n\n                                            CleanedText  perplexity  \n13    Zesde Clcisfe. Prijzen en Premien van f ace en...  168.024811  \n120   BEKENDMAKING. Ingevolge authorifatie, en onder...   70.573433  \n121   Volgens de Duitfche berigten to; den 2*. E-rce...  167.287399  \n122   DEN HAAG den 28 September. Bij Hunne Hoog Moge...  167.721436  \n156    Het Weener-Hof bewilligt zonder aarfelen in d...  165.788528  \n162   MADRID den g September. De demisfie, door den ...  192.234344  \n180   -WEENEN den 24 September. Bij Publicatie der r...  133.634305  \n183   PETERSBURG den 18 September. De Luitenant-Gene...  165.736359  \n192   LONDEN den 5 Oclober. De tijding der wegneming...  172.123856  \n216   Dingsdag, den 4 Junij 1805. Commisfarisfen tot...  161.257013  \n222   AMSTERDAM den 14 Oaober. De Prijs-Courant der ...  187.600137  \n252   Dadelijk na. den ioden November voornoemd, zul...   27.677896  \n253   V* De Ondergetekende, Ontvanger van de Buiteng...  132.808578  \n261   *'* CHRISTIAAN WILLEM van BOETZELAAR , Ontfang...  185.266472  \n474   LONDEN den iS November. Bij eene fficieele Hof...  179.776901  \n619   NAPELS den 21 November. Een Eskader, uit twaal...  140.711156  \n635   Vierde Begreoting van deze Belasting. P L A I ...  171.928505  \n825   '-. Pligten ÏÏM Bk'ANötßs  Distillateurs. De B...  162.291183  \n959   NYMÉGENV-/* 28 Januarij. Het water is hier wed...  196.955078  \n1119  7- Ten einde .alle misbruiken door het Wek. en...  157.815582  \n1175  LEMBERG den 10 Februarij. - De geheele Rusfrfc...  198.738480  \n1177  WEENEN den 26 Februarij. Gister kwam hier een ...  184.876190  \n1442  LONDEN'^./; <> Meij, Het Eskader van den Admir...  169.826686  \n1460   Verminderde Impost.  EER S TE K LASS E. 3. De...  164.433339  ",
      "text/html": "<div>\n<style scoped>\n    .dataframe tbody tr th:only-of-type {\n        vertical-align: middle;\n    }\n\n    .dataframe tbody tr th {\n        vertical-align: top;\n    }\n\n    .dataframe thead th {\n        text-align: right;\n    }\n</style>\n<table border=\"1\" class=\"dataframe\">\n  <thead>\n    <tr style=\"text-align: right;\">\n      <th></th>\n      <th>Year</th>\n      <th>Month</th>\n      <th>Day</th>\n      <th>Newspaper</th>\n      <th>Path</th>\n      <th>Title</th>\n      <th>Text</th>\n      <th>CleanedText</th>\n      <th>perplexity</th>\n    </tr>\n  </thead>\n  <tbody>\n    <tr>\n      <th>13</th>\n      <td>1805</td>\n      <td>9</td>\n      <td>6</td>\n      <td>Bataafsche staats-courant</td>\n      <td>1805/09/06/DDD_ddd_010084055_mpeg21/DDD_010084...</td>\n      <td>GENERLAITEITS NU BATAAFSCHE 99fte LOTERIJ.</td>\n      <td>Zesde Clcisfe. Prijzen en Premien van f ace en...</td>\n      <td>Zesde Clcisfe. Prijzen en Premien van f ace en...</td>\n      <td>168.024811</td>\n    </tr>\n    <tr>\n      <th>120</th>\n      <td>1805</td>\n      <td>9</td>\n      <td>27</td>\n      <td>Bataafsche staats-courant</td>\n      <td>1805/09/27/DDD_ddd_010084065_mpeg21/DDD_010084...</td>\n      <td></td>\n      <td>BEKENDMAKING. Ingevolge authorifatie, en onder...</td>\n      <td>BEKENDMAKING. Ingevolge authorifatie, en onder...</td>\n      <td>70.573433</td>\n    </tr>\n    <tr>\n      <th>121</th>\n      <td>1805</td>\n      <td>9</td>\n      <td>27</td>\n      <td>Bataafsche staats-courant</td>\n      <td>1805/09/27/DDD_ddd_010084065_mpeg21/DDD_010084...</td>\n      <td></td>\n      <td>Volgens de Duitfche berigten to; den 2*. E-rce...</td>\n      <td>Volgens de Duitfche berigten to; den 2*. E-rce...</td>\n      <td>167.287399</td>\n    </tr>\n    <tr>\n      <th>122</th>\n      <td>1805</td>\n      <td>9</td>\n      <td>28</td>\n      <td>Bataafsche staats-courant</td>\n      <td>1805/09/28/DDD_ddd_010084066_mpeg21/DDD_010084...</td>\n      <td>BATAAFSCHE REPUBLIEK.</td>\n      <td>DEN HAAG den 28 September. Bij Hunne Hoog Moge...</td>\n      <td>DEN HAAG den 28 September. Bij Hunne Hoog Moge...</td>\n      <td>167.721436</td>\n    </tr>\n    <tr>\n      <th>156</th>\n      <td>1805</td>\n      <td>10</td>\n      <td>7</td>\n      <td>Bataafsche staats-courant</td>\n      <td>1805/10/07/DDD_ddd_010084071_mpeg21/DDD_010084...</td>\n      <td>TEXT DER NOTA VAN HET WEENER HOF.</td>\n      <td>„ Het Weener-Hof bewilligt zonder aarfelen in ...</td>\n      <td>Het Weener-Hof bewilligt zonder aarfelen in d...</td>\n      <td>165.788528</td>\n    </tr>\n    <tr>\n      <th>162</th>\n      <td>1805</td>\n      <td>10</td>\n      <td>7</td>\n      <td>Bataafsche staats-courant</td>\n      <td>1805/10/07/DDD_ddd_010084071_mpeg21/DDD_010084...</td>\n      <td>SPANJEN.</td>\n      <td>MADRID den g September. De demisfie, door den ...</td>\n      <td>MADRID den g September. De demisfie, door den ...</td>\n      <td>192.234344</td>\n    </tr>\n    <tr>\n      <th>180</th>\n      <td>1805</td>\n      <td>10</td>\n      <td>7</td>\n      <td>Bataafsche staats-courant</td>\n      <td>1805/10/07/DDD_ddd_010084072_mpeg21/DDD_010084...</td>\n      <td>DUITSCHLAND.</td>\n      <td>-WEENEN den 24 September. Bij Publicatie der r...</td>\n      <td>-WEENEN den 24 September. Bij Publicatie der r...</td>\n      <td>133.634305</td>\n    </tr>\n    <tr>\n      <th>183</th>\n      <td>1805</td>\n      <td>10</td>\n      <td>9</td>\n      <td>Bataafsche staats-courant</td>\n      <td>1805/10/09/DDD_ddd_010084073_mpeg21/DDD_010084...</td>\n      <td>RUSLAND.</td>\n      <td>PETERSBURG den 18 September. De Luitenant-Gene...</td>\n      <td>PETERSBURG den 18 September. De Luitenant-Gene...</td>\n      <td>165.736359</td>\n    </tr>\n    <tr>\n      <th>192</th>\n      <td>1805</td>\n      <td>10</td>\n      <td>11</td>\n      <td>Bataafsche staats-courant</td>\n      <td>1805/10/11/DDD_ddd_010084074_mpeg21/DDD_010084...</td>\n      <td>GROOT-BRITTANNIEN.</td>\n      <td>LONDEN den 5 Oclober. De tijding der wegneming...</td>\n      <td>LONDEN den 5 Oclober. De tijding der wegneming...</td>\n      <td>172.123856</td>\n    </tr>\n    <tr>\n      <th>216</th>\n      <td>1805</td>\n      <td>10</td>\n      <td>16</td>\n      <td>Bataafsche staats-courant</td>\n      <td>1805/10/16/DDD_ddd_010084076_mpeg21/DDD_010084...</td>\n      <td>EXTRACT UIT HET REGISTER DER RESOLUTIEN VAN HE...</td>\n      <td>Dingsdag, den 4 Junij 1805. Commisfarisfen tot...</td>\n      <td>Dingsdag, den 4 Junij 1805. Commisfarisfen tot...</td>\n      <td>161.257013</td>\n    </tr>\n    <tr>\n      <th>222</th>\n      <td>1805</td>\n      <td>10</td>\n      <td>16</td>\n      <td>Bataafsche staats-courant</td>\n      <td>1805/10/16/DDD_ddd_010084076_mpeg21/DDD_010084...</td>\n      <td>BATAAFSCHE REPUBLIEK.</td>\n      <td>AMSTERDAM den 14 Oaober. De Prijs-Courant der ...</td>\n      <td>AMSTERDAM den 14 Oaober. De Prijs-Courant der ...</td>\n      <td>187.600137</td>\n    </tr>\n    <tr>\n      <th>252</th>\n      <td>1805</td>\n      <td>10</td>\n      <td>19</td>\n      <td>Bataafsche staats-courant</td>\n      <td>1805/10/19/DDD_ddd_010084078_mpeg21/DDD_010084...</td>\n      <td></td>\n      <td>Dadelijk na. den ioden November voornoemd, zul...</td>\n      <td>Dadelijk na. den ioden November voornoemd, zul...</td>\n      <td>27.677896</td>\n    </tr>\n    <tr>\n      <th>253</th>\n      <td>1805</td>\n      <td>10</td>\n      <td>19</td>\n      <td>Bataafsche staats-courant</td>\n      <td>1805/10/19/DDD_ddd_010084078_mpeg21/DDD_010084...</td>\n      <td></td>\n      <td>V* De Ondergetekende, Ontvanger van de Buiteng...</td>\n      <td>V* De Ondergetekende, Ontvanger van de Buiteng...</td>\n      <td>132.808578</td>\n    </tr>\n    <tr>\n      <th>261</th>\n      <td>1805</td>\n      <td>10</td>\n      <td>21</td>\n      <td>Bataafsche staats-courant</td>\n      <td>1805/10/21/DDD_ddd_010084079_mpeg21/DDD_010084...</td>\n      <td></td>\n      <td>*'■* CHRISTIAAN WILLEM van BOETZELAAR , Ontfan...</td>\n      <td>*'* CHRISTIAAN WILLEM van BOETZELAAR , Ontfang...</td>\n      <td>185.266472</td>\n    </tr>\n    <tr>\n      <th>474</th>\n      <td>1805</td>\n      <td>11</td>\n      <td>25</td>\n      <td>Bataafsche staats-courant</td>\n      <td>1805/11/25/DDD_ddd_010084099_mpeg21/DDD_010084...</td>\n      <td>GROOT-BRITTANNIEN.</td>\n      <td>LONDEN den iS November. Bij eene ©fficieele Ho...</td>\n      <td>LONDEN den iS November. Bij eene fficieele Hof...</td>\n      <td>179.776901</td>\n    </tr>\n    <tr>\n      <th>619</th>\n      <td>1805</td>\n      <td>12</td>\n      <td>13</td>\n      <td>Bataafsche staats-courant</td>\n      <td>1805/12/13/DDD_ddd_010084111_mpeg21/DDD_010084...</td>\n      <td>Deze DUBBELE COURANT met het BIJVOEGSEL wordt ...</td>\n      <td>NAPELS den 21 November. Een Eskader, uit twaal...</td>\n      <td>NAPELS den 21 November. Een Eskader, uit twaal...</td>\n      <td>140.711156</td>\n    </tr>\n    <tr>\n      <th>635</th>\n      <td>1805</td>\n      <td>12</td>\n      <td>14</td>\n      <td>Bataafsche staats-courant</td>\n      <td>1805/12/14/DDD_ddd_010084112_mpeg21/DDD_010084...</td>\n      <td>VIJFDE AFDEELING.</td>\n      <td>Vierde Begreoting van deze Belasting. P L A I ...</td>\n      <td>Vierde Begreoting van deze Belasting. P L A I ...</td>\n      <td>171.928505</td>\n    </tr>\n    <tr>\n      <th>825</th>\n      <td>1806</td>\n      <td>1</td>\n      <td>13</td>\n      <td>Bataafsche staats-courant</td>\n      <td>1806/01/13/DDD_ddd_010084132_mpeg21/DDD_010084...</td>\n      <td>TWEEDE AFDEELING</td>\n      <td>'-. Pligten ÏÏM Bk'ANötßs £« Distillateurs. De...</td>\n      <td>'-. Pligten ÏÏM Bk'ANötßs  Distillateurs. De B...</td>\n      <td>162.291183</td>\n    </tr>\n    <tr>\n      <th>959</th>\n      <td>1806</td>\n      <td>2</td>\n      <td>3</td>\n      <td>Bataafsche staats-courant</td>\n      <td>1806/02/03/DDD_ddd_010084142_mpeg21/DDD_010084...</td>\n      <td>BATAAFSCHE REPUBLIEK.</td>\n      <td>NYMÉGENV-/* 28 Januarij. Het water is hier wed...</td>\n      <td>NYMÉGENV-/* 28 Januarij. Het water is hier wed...</td>\n      <td>196.955078</td>\n    </tr>\n    <tr>\n      <th>1119</th>\n      <td>1806</td>\n      <td>3</td>\n      <td>5</td>\n      <td>Bataafsche staats-courant</td>\n      <td>1806/03/05/DDD_ddd_010084156_mpeg21/DDD_010084...</td>\n      <td>Voorziening tegen het eluderen dezer Belasting.</td>\n      <td>7- Ten einde .alle misbruiken door het Wek. en...</td>\n      <td>7- Ten einde .alle misbruiken door het Wek. en...</td>\n      <td>157.815582</td>\n    </tr>\n    <tr>\n      <th>1175</th>\n      <td>1806</td>\n      <td>3</td>\n      <td>14</td>\n      <td>Bataafsche staats-courant</td>\n      <td>1806/03/14/DDD_ddd_010084161_mpeg21/DDD_010084...</td>\n      <td>POLEN.</td>\n      <td>LEMBERG den 10 Februarij. - De geheele Rusfrfc...</td>\n      <td>LEMBERG den 10 Februarij. - De geheele Rusfrfc...</td>\n      <td>198.738480</td>\n    </tr>\n    <tr>\n      <th>1177</th>\n      <td>1806</td>\n      <td>3</td>\n      <td>14</td>\n      <td>Bataafsche staats-courant</td>\n      <td>1806/03/14/DDD_ddd_010084161_mpeg21/DDD_010084...</td>\n      <td>DUITSCHLAND.</td>\n      <td>WEENEN den 26 Februarij. Gister kwam hier een ...</td>\n      <td>WEENEN den 26 Februarij. Gister kwam hier een ...</td>\n      <td>184.876190</td>\n    </tr>\n    <tr>\n      <th>1442</th>\n      <td>1806</td>\n      <td>5</td>\n      <td>12</td>\n      <td>Bataafsche staats-courant</td>\n      <td>1806/05/12/DDD_ddd_010084186_mpeg21/DDD_010084...</td>\n      <td>GROOT-BRITANNIEN.</td>\n      <td>LONDEN'^./; &lt;&gt; Meij, Het Eskader van den Admir...</td>\n      <td>LONDEN'^./; &lt;&gt; Meij, Het Eskader van den Admir...</td>\n      <td>169.826686</td>\n    </tr>\n    <tr>\n      <th>1460</th>\n      <td>1806</td>\n      <td>5</td>\n      <td>13</td>\n      <td>Bataafsche staats-courant</td>\n      <td>1806/05/13/DDD_ddd_010084187_mpeg21/DDD_010084...</td>\n      <td>TWEEDE BEGROOTING.</td>\n      <td>• Verminderde Impost. • EER S TE K LASS E. 3. ...</td>\n      <td>Verminderde Impost.  EER S TE K LASS E. 3. De...</td>\n      <td>164.433339</td>\n    </tr>\n  </tbody>\n</table>\n</div>"
     },
     "execution_count": 37,
     "metadata": {},
     "output_type": "execute_result"
    }
   ],
   "source": [
    "# I think delpher is really hopeless for now\n",
    "filtered_delpher"
   ],
   "metadata": {
    "collapsed": false,
    "ExecuteTime": {
     "end_time": "2025-08-28T12:19:47.855525400Z",
     "start_time": "2025-08-28T12:19:47.806395800Z"
    }
   },
   "id": "4de204a6d4c477ac"
  },
  {
   "cell_type": "code",
   "execution_count": 34,
   "outputs": [
    {
     "data": {
      "text/plain": "<Figure size 640x480 with 1 Axes>",
      "image/png": "[encoded data removed]"
     },
     "metadata": {},
     "output_type": "display_data"
    }
   ],
   "source": [
    "plt.hist([x for x in avg_perplexities_delpher if x<1000], bins=\"auto\")\n",
    "plt.show()"
   ],
   "metadata": {
    "collapsed": false,
    "ExecuteTime": {
     "end_time": "2025-08-28T12:19:18.045794600Z",
     "start_time": "2025-08-28T12:19:17.955378800Z"
    }
   },
   "id": "beb996f1733b4b5c"
  }
 ],
 "metadata": {
  "kernelspec": {
   "display_name": "Python 3",
   "language": "python",
   "name": "python3"
  },
  "language_info": {
   "codemirror_mode": {
    "name": "ipython",
    "version": 2
   },
   "file_extension": ".py",
   "mimetype": "text/x-python",
   "name": "python",
   "nbconvert_exporter": "python",
   "pygments_lexer": "ipython2",
   "version": "2.7.6"
  }
 },
 "nbformat": 4,
 "nbformat_minor": 5
}
