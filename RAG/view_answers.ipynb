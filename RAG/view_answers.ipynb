{
 "cells": [
  {
   "cell_type": "code",
   "execution_count": 16,
   "id": "initial_id",
   "metadata": {
    "collapsed": true,
    "ExecuteTime": {
     "end_time": "2025-09-18T10:49:13.272124500Z",
     "start_time": "2025-09-18T10:49:13.265773800Z"
    }
   },
   "outputs": [],
   "source": [
    "import glob\n",
    "\n",
    "from datasets import load_from_disk"
   ]
  },
  {
   "cell_type": "code",
   "execution_count": 17,
   "outputs": [
    {
     "data": {
      "text/plain": "['t0.3_new300_all-MiniLM-L6-v2_colbertv2.0_Qwen2-7B-Instruct']"
     },
     "execution_count": 17,
     "metadata": {},
     "output_type": "execute_result"
    }
   ],
   "source": [
    "path = glob.glob(\"t*\")\n",
    "path"
   ],
   "metadata": {
    "collapsed": false,
    "ExecuteTime": {
     "end_time": "2025-09-18T10:49:13.279553Z",
     "start_time": "2025-09-18T10:49:13.279553Z"
    }
   },
   "id": "90a21648bf4802d9"
  },
  {
   "cell_type": "code",
   "execution_count": 18,
   "outputs": [],
   "source": [
    "answers = load_from_disk(path[0])"
   ],
   "metadata": {
    "collapsed": false,
    "ExecuteTime": {
     "end_time": "2025-09-18T10:49:13.329567Z",
     "start_time": "2025-09-18T10:49:13.279553Z"
    }
   },
   "id": "1eeba85b15fd1617"
  },
  {
   "cell_type": "code",
   "execution_count": 20,
   "outputs": [
    {
     "data": {
      "text/plain": "{'question': 'Wie was Napoleon Bonaparte?',\n 'answer': 'Napoleon Bonaparte was een Frans militair en politicus die regeerde over Frankrijk van 1804 tot 1814 en van 1815 tot 1816. Hij was ook keizer van het Koninkrijk Frankrijk van 1804 tot 1814. Napoleon is bekend om zijn expansieve politiek tijdens zijn regering, waarmee hij veel landen in Europa bezette. Hij wordt vaak geassocieerd met innovaties in wetenschap, kunst en technologie tijdens de Franse Revolutie.',\n 'reranked_doc_ids': ['dbnl57333', 'delpher406306', 'delpher406271'],\n 'retrieved_doc_ids': ['delpher136002',\n  'delpher434919',\n  'delpher210311',\n  'delpher147970',\n  'delpher149419',\n  'delpher406271',\n  'dbnl57333',\n  'delpher157934',\n  'dbnl64195',\n  'dbnl68489',\n  'wikipedia210',\n  'delpher143425',\n  'delpher147780',\n  'delpher155946',\n  'delpher406306',\n  'delpher149068',\n  'delpher12836',\n  'delpher249672',\n  'delpher426889',\n  'dbnl87439']}"
     },
     "execution_count": 20,
     "metadata": {},
     "output_type": "execute_result"
    }
   ],
   "source": [
    "answers[0]"
   ],
   "metadata": {
    "collapsed": false,
    "ExecuteTime": {
     "end_time": "2025-09-18T10:49:15.908466400Z",
     "start_time": "2025-09-18T10:49:15.860813700Z"
    }
   },
   "id": "510ec7aab82b1b97"
  }
 ],
 "metadata": {
  "kernelspec": {
   "display_name": "Python 3",
   "language": "python",
   "name": "python3"
  },
  "language_info": {
   "codemirror_mode": {
    "name": "ipython",
    "version": 2
   },
   "file_extension": ".py",
   "mimetype": "text/x-python",
   "name": "python",
   "nbconvert_exporter": "python",
   "pygments_lexer": "ipython2",
   "version": "2.7.6"
  }
 },
 "nbformat": 4,
 "nbformat_minor": 5
}
