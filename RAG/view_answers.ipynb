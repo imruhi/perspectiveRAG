{
 "cells": [
  {
   "cell_type": "code",
   "execution_count": 21,
   "id": "initial_id",
   "metadata": {
    "collapsed": true,
    "ExecuteTime": {
     "end_time": "2025-09-18T10:58:01.700192700Z",
     "start_time": "2025-09-18T10:58:01.700192700Z"
    }
   },
   "outputs": [],
   "source": [
    "import glob\n",
    "\n",
    "from datasets import load_from_disk"
   ]
  },
  {
   "cell_type": "code",
   "execution_count": 22,
   "outputs": [
    {
     "data": {
      "text/plain": "['results\\\\t0.3_new300_all-MiniLM-L6-v2_colbertv2.0_Qwen2-7B-Instruct']"
     },
     "execution_count": 22,
     "metadata": {},
     "output_type": "execute_result"
    }
   ],
   "source": [
    "path = glob.glob(\"results/t*\")\n",
    "path"
   ],
   "metadata": {
    "collapsed": false,
    "ExecuteTime": {
     "end_time": "2025-09-18T10:58:03.044270Z",
     "start_time": "2025-09-18T10:58:03.028239500Z"
    }
   },
   "id": "90a21648bf4802d9"
  },
  {
   "cell_type": "code",
   "execution_count": 23,
   "outputs": [],
   "source": [
    "answers = load_from_disk(path[0])"
   ],
   "metadata": {
    "collapsed": false,
    "ExecuteTime": {
     "end_time": "2025-09-18T10:58:04.359143900Z",
     "start_time": "2025-09-18T10:58:04.328957500Z"
    }
   },
   "id": "1eeba85b15fd1617"
  },
  {
   "cell_type": "code",
   "execution_count": 25,
   "outputs": [
    {
     "data": {
      "text/plain": "Dataset({\n    features: ['question', 'answer', 'reranked_doc_ids', 'retrieved_doc_ids'],\n    num_rows: 8\n})"
     },
     "execution_count": 25,
     "metadata": {},
     "output_type": "execute_result"
    }
   ],
   "source": [
    "answers"
   ],
   "metadata": {
    "collapsed": false,
    "ExecuteTime": {
     "end_time": "2025-09-18T10:58:32.420962300Z",
     "start_time": "2025-09-18T10:58:32.401025800Z"
    }
   },
   "id": "510ec7aab82b1b97"
  }
 ],
 "metadata": {
  "kernelspec": {
   "display_name": "Python 3",
   "language": "python",
   "name": "python3"
  },
  "language_info": {
   "codemirror_mode": {
    "name": "ipython",
    "version": 2
   },
   "file_extension": ".py",
   "mimetype": "text/x-python",
   "name": "python",
   "nbconvert_exporter": "python",
   "pygments_lexer": "ipython2",
   "version": "2.7.6"
  }
 },
 "nbformat": 4,
 "nbformat_minor": 5
}
