{
 "cells": [
  {
   "cell_type": "code",
   "execution_count": 62,
   "id": "initial_id",
   "metadata": {
    "collapsed": true,
    "ExecuteTime": {
     "end_time": "2025-08-07T10:28:34.173310300Z",
     "start_time": "2025-08-07T10:28:29.869649Z"
    }
   },
   "outputs": [],
   "source": [
    "import torch\n",
    "\n",
    "from sentence_transformers import SentenceTransformer\n",
    "from sklearn.metrics.pairwise import cosine_similarity\n",
    "\n",
    "device = 'cuda' if torch.cuda.is_available() else 'cpu'\n",
    "\n",
    "embedder = SentenceTransformer('all-MiniLM-L6-v2', device=device)\n",
    "dutch_embedder = SentenceTransformer(\"jegormeister/robbert-v2-dutch-base-mqa-finetuned\", device=device)\n",
    "# dutch_embedder = SentenceTransformer('GroNLP/gpt2-medium-dutch-embeddings', device=device)\n"
   ]
  },
  {
   "cell_type": "code",
   "execution_count": 59,
   "outputs": [],
   "source": [
    "# Corpus with example documents\n",
    "dutch_corpus_highschool = [\n",
    "    \"De vrijheid onder de Fransen valt tegen. Frankrijk trekt steeds meer macht naar zich toe. Keizer Napoleon benoemt eerst zijn broer Lodewijk Napoleon tot koning en lijft daarna Nederland bij Frankrijk in. In 1813 verliest Napoleon de strijd van zijn tegenstanders en wordt Nederland weer onafhankelijk.\",\n",
    "    \n",
    "    \"Napoleon speelt een hoofdrol in de Europese geschiedenis. In 1799 pleegt hij een militaire staatsgreep in Frankrijk. Hij streeft een groot rijk na en voert verschillende oorlogen. Als generaal leidt hij zijn troepen in de veldtochten tegen de keizer van Oostenrijk, de Russische tsaar, de sultan van het Ottomaanse Rijk en de Engelse koning. In 1804 kroont Napoleon zichzelf tot keizer. Hij heerst vanaf 1806 over bijna heel Europa, dat hij bestuurt als ‘verlicht despoot’: een alleenheerser die zich laat leiden door de ideeën van de Verlichting zolang het hem uitkomt. Van Nederland maakt hij een Franse vazalstaat.\",\n",
    "    \n",
    "    \"Met hulp van Franse troepen brengen de patriotten in 1795 de regering van de oude Republiek ten val en richten in plaats daarvan de Bataafse Republiek op. Tot 1806 blijft de Bataafse Republiek formeel onafhankelijk van Frankrijk, maar op den duur gebeurt er maar weinig zonder goedkeuring van de Fransen. In 1806 benoemt Napoleon zijn broer Lodewijk Napoleon tot koning van Holland. Voor het eerst is Nederland een koninkrijk, dat de basis vormt voor de latere monarchie.\"\n",
    "    \n",
    "    \"\"\n",
    "]\n",
    "\n",
    "dutch_queries = [\n",
    "    \"Napoleon was goed voor Nederland\",\n",
    "    \"Napoleon was slechte voor Nederland\"\n",
    "]\n",
    "\n",
    "corpus = dutch_corpus_highschool\n",
    "queries = dutch_queries"
   ],
   "metadata": {
    "collapsed": false,
    "ExecuteTime": {
     "end_time": "2025-08-07T10:22:33.463812900Z",
     "start_time": "2025-08-07T10:22:33.450816600Z"
    }
   },
   "id": "cd1a816c8de92d2a"
  },
  {
   "cell_type": "code",
   "execution_count": 60,
   "outputs": [
    {
     "name": "stdout",
     "output_type": "stream",
     "text": [
      "\n",
      "Query: Napoleon was goed voor Nederland\n",
      "Top 5 most similar sentences in corpus:\n",
      "(Score: 0.6920) Napoleon komt in 1815 nog even aan de macht in Frankrijk, maar lijdt zijn definitieve nederlaag bij Waterloo.\n",
      "(Score: 0.6902) In 1813 verliest Napoleon de strijd van zijn tegenstanders en wordt Nederland weer onafhankelijk.\n",
      "(Score: 0.6822) Napoleon speelt een hoofdrol in de Europese geschiedenis.\n",
      "(Score: 0.6817) In 1810 zet Napoleon zijn broer af en lijft hij Nederland in bij het Franse Keizerrijk.\n",
      "(Score: 0.6800) In 1806 benoemt Napoleon zijn broer Lodewijk Napoleon tot koning van Holland.\n",
      "\n",
      "Query: Napoleon was slechte voor Nederland\n",
      "Top 5 most similar sentences in corpus:\n",
      "(Score: 0.7007) Napoleon speelt een hoofdrol in de Europese geschiedenis.\n",
      "(Score: 0.6930) Napoleon komt in 1815 nog even aan de macht in Frankrijk, maar lijdt zijn definitieve nederlaag bij Waterloo.\n",
      "(Score: 0.6873) In 1810 zet Napoleon zijn broer af en lijft hij Nederland in bij het Franse Keizerrijk.\n",
      "(Score: 0.6864) In 1813 verliest Napoleon de strijd van zijn tegenstanders en wordt Nederland weer onafhankelijk.\n",
      "(Score: 0.6838) In 1806 benoemt Napoleon zijn broer Lodewijk Napoleon tot koning van Holland.\n"
     ]
    }
   ],
   "source": [
    "k=5\n",
    "top_k = min(k, len(corpus))\n",
    "\n",
    "corpus_embeddings = embedder.encode_document(corpus, convert_to_tensor=True)\n",
    "\n",
    "for query in queries:\n",
    "    query_embedding = embedder.encode_query(query, convert_to_tensor=True)\n",
    "\n",
    "    # We use cosine-similarity and torch.topk to find the highest 5 scores\n",
    "    similarity_scores = embedder.similarity(query_embedding, corpus_embeddings)[0]\n",
    "    scores, indices = torch.topk(similarity_scores, k=top_k)\n",
    "\n",
    "    print(\"\\nQuery:\", query)\n",
    "    print(f\"Top {k} most similar sentences in corpus:\")\n",
    "\n",
    "    for score, idx in zip(scores, indices):\n",
    "        print(f\"(Score: {score:.4f})\", corpus[idx])\n",
    "\n",
    "    \"\"\"\n",
    "    # Alternatively, we can also use util.semantic_search to perform cosine similarty + topk\n",
    "    hits = util.semantic_search(query_embedding, corpus_embeddings, top_k=5)\n",
    "    hits = hits[0]      #Get the hits for the first query\n",
    "    for hit in hits:\n",
    "        print(corpus[hit['corpus_id']], \"(Score: {:.4f})\".format(hit['score']))\n",
    "    \"\"\""
   ],
   "metadata": {
    "collapsed": false,
    "ExecuteTime": {
     "end_time": "2025-08-07T10:22:33.508541800Z",
     "start_time": "2025-08-07T10:22:33.463812900Z"
    }
   },
   "id": "9dad0324d8853984"
  },
  {
   "cell_type": "code",
   "execution_count": 61,
   "outputs": [
    {
     "name": "stdout",
     "output_type": "stream",
     "text": [
      "\n",
      "Query: Napoleon was goed voor Nederland\n",
      "Top 5 most similar sentences in corpus:\n",
      "(Score: 0.8266) Napoleon speelt een hoofdrol in de Europese geschiedenis.\n",
      "(Score: 0.7048) Napoleon komt in 1815 nog even aan de macht in Frankrijk, maar lijdt zijn definitieve nederlaag bij Waterloo.\n",
      "(Score: 0.6269) Tegenstanders hebben als kritiek dat de Code Napoléon geen rekening houdt met de zo verschillende lokale gewoonten en afspraken.\n",
      "(Score: 0.5715) Zo blijft de Code Napoléon bestaan, net als veel andere moderniseringen.\n",
      "(Score: 0.5522) De vrijheid onder de Fransen valt tegen.\n",
      "\n",
      "Query: Napoleon was slechte voor Nederland\n",
      "Top 5 most similar sentences in corpus:\n",
      "(Score: 0.8359) Napoleon speelt een hoofdrol in de Europese geschiedenis.\n",
      "(Score: 0.6992) Napoleon komt in 1815 nog even aan de macht in Frankrijk, maar lijdt zijn definitieve nederlaag bij Waterloo.\n",
      "(Score: 0.6356) Tegenstanders hebben als kritiek dat de Code Napoléon geen rekening houdt met de zo verschillende lokale gewoonten en afspraken.\n",
      "(Score: 0.5670) Zo blijft de Code Napoléon bestaan, net als veel andere moderniseringen.\n",
      "(Score: 0.5642) De vrijheid onder de Fransen valt tegen.\n"
     ]
    }
   ],
   "source": [
    "k=5\n",
    "top_k = min(k, len(corpus))\n",
    "\n",
    "corpus_embeddings = dutch_embedder.encode_document(corpus, convert_to_tensor=True)\n",
    "\n",
    "for query in queries:\n",
    "    query_embedding = dutch_embedder.encode_query(query, convert_to_tensor=True)\n",
    "\n",
    "    # We use cosine-similarity and torch.topk to find the highest 5 scores\n",
    "    similarity_scores = dutch_embedder.similarity(query_embedding, corpus_embeddings)[0]\n",
    "    scores, indices = torch.topk(similarity_scores, k=top_k)\n",
    "\n",
    "    print(\"\\nQuery:\", query)\n",
    "    print(f\"Top {k} most similar sentences in corpus:\")\n",
    "\n",
    "    for score, idx in zip(scores, indices):\n",
    "        print(f\"(Score: {score:.4f})\", corpus[idx])\n",
    "\n",
    "    \"\"\"\n",
    "    # Alternatively, we can also use util.semantic_search to perform cosine similarty + topk\n",
    "    hits = util.semantic_search(query_embedding, corpus_embeddings, top_k=5)\n",
    "    hits = hits[0]      #Get the hits for the first query\n",
    "    for hit in hits:\n",
    "        print(corpus[hit['corpus_id']], \"(Score: {:.4f})\".format(hit['score']))\n",
    "    \"\"\""
   ],
   "metadata": {
    "collapsed": false,
    "ExecuteTime": {
     "end_time": "2025-08-07T10:22:33.587855100Z",
     "start_time": "2025-08-07T10:22:33.508541800Z"
    }
   },
   "id": "c82411bb7031c03c"
  },
  {
   "cell_type": "code",
   "execution_count": 74,
   "outputs": [],
   "source": [
    "### MMR \n",
    "\n",
    "def calculate_mmr(query_embedding, document_embeddings, lambda_param=0.7, top_k=5):\n",
    "    \"\"\"\n",
    "    Calculates the Maximal Marginal Relevance (MMR) for document reranking.\n",
    "    Args:\n",
    "        query_embedding (np.array): The embedding of the query.\n",
    "        document_embeddings (list of np.array): List of embeddings for the documents.\n",
    "        lambda_param (float): Balances relevance and diversity (0 <= lambda_param <= 1).\n",
    "        top_k (int): Number of documents to return.\n",
    "    Returns:\n",
    "        list: Indices of the top-k documents selected using MMR.\n",
    "    \"\"\"\n",
    "    # Calculate cosine similarity of documents with the query\n",
    "    query_similarities = cosine_similarity([query_embedding], document_embeddings)[0]\n",
    "    \n",
    "    # Initialize variables\n",
    "    selected_indices = []\n",
    "    best_scores = []\n",
    "    \n",
    "    remaining_indices = list(range(len(document_embeddings)))\n",
    "    for _ in range(top_k):\n",
    "        mmr_scores = []\n",
    "        \n",
    "        for i in remaining_indices:\n",
    "            # Calculate diversity term\n",
    "            diversity_score = max(\n",
    "                cosine_similarity([document_embeddings[i]], [document_embeddings[j]])[0][0]\n",
    "                for j in selected_indices\n",
    "            ) if selected_indices else 0\n",
    "            \n",
    "            # MMR formula\n",
    "            mmr_score = lambda_param * query_similarities[i] - (1 - lambda_param) * diversity_score\n",
    "            mmr_scores.append((i, mmr_score))\n",
    "        # Select document with highest MMR score\n",
    "        best_doc = max(mmr_scores, key=lambda x: x[1])\n",
    "        selected_indices.append(best_doc[0])\n",
    "        remaining_indices.remove(best_doc[0])\n",
    "        best_scores.append(best_doc[1])\n",
    "    return selected_indices, best_scores"
   ],
   "metadata": {
    "collapsed": false,
    "ExecuteTime": {
     "end_time": "2025-08-07T10:34:50.490775200Z",
     "start_time": "2025-08-07T10:34:50.482035200Z"
    }
   },
   "id": "434edbc059bea908"
  },
  {
   "cell_type": "code",
   "execution_count": 76,
   "outputs": [
    {
     "name": "stdout",
     "output_type": "stream",
     "text": [
      "\n",
      "Query: Napoleon was goed voor Nederland\n",
      "Top 5 most similar sentences in corpus:\n",
      "(Score: 0.5786) Napoleon speelt een hoofdrol in de Europese geschiedenis.\n",
      "(Score: 0.2715) Napoleon komt in 1815 nog even aan de macht in Frankrijk, maar lijdt zijn definitieve nederlaag bij Waterloo.\n",
      "(Score: 0.2487) Tegenstanders hebben als kritiek dat de Code Napoléon geen rekening houdt met de zo verschillende lokale gewoonten en afspraken.\n",
      "(Score: 0.2132) Van Nederland maakt hij een Franse vazalstaat.\n",
      "(Score: 0.1951)  Voor het eerst is Nederland een koninkrijk, dat de basis vormt voor de latere monarchie.\n",
      "\n",
      "Query: Napoleon was slechte voor Nederland\n",
      "Top 5 most similar sentences in corpus:\n",
      "(Score: 0.5851) Napoleon speelt een hoofdrol in de Europese geschiedenis.\n",
      "(Score: 0.2676) Napoleon komt in 1815 nog even aan de macht in Frankrijk, maar lijdt zijn definitieve nederlaag bij Waterloo.\n",
      "(Score: 0.2548) Tegenstanders hebben als kritiek dat de Code Napoléon geen rekening houdt met de zo verschillende lokale gewoonten en afspraken.\n",
      "(Score: 0.2080) Van Nederland maakt hij een Franse vazalstaat.\n",
      "(Score: 0.1898)  Voor het eerst is Nederland een koninkrijk, dat de basis vormt voor de latere monarchie.\n"
     ]
    }
   ],
   "source": [
    "corpus_embeddings = dutch_embedder.encode_document(corpus)\n",
    "k=5\n",
    "for query in queries:\n",
    "    query_embedding = dutch_embedder.encode_query(query)\n",
    "    # print(query_embedding.shape)\n",
    "    # print(corpus_embeddings.shape)\n",
    "    indices,scores = calculate_mmr(query_embedding,corpus_embeddings,top_k=k) \n",
    "    print(\"\\nQuery:\", query)\n",
    "    print(f\"Top {k} most similar sentences in corpus:\")\n",
    "    for idx, score in zip(indices, scores):\n",
    "        print(f\"(Score: {score:.4f})\", corpus[idx])\n",
    "        "
   ],
   "metadata": {
    "collapsed": false,
    "ExecuteTime": {
     "end_time": "2025-08-07T10:36:19.875753Z",
     "start_time": "2025-08-07T10:36:19.387347100Z"
    }
   },
   "id": "2b3cd02869fdc5a1"
  }
 ],
 "metadata": {
  "kernelspec": {
   "display_name": "Python 3",
   "language": "python",
   "name": "python3"
  },
  "language_info": {
   "codemirror_mode": {
    "name": "ipython",
    "version": 2
   },
   "file_extension": ".py",
   "mimetype": "text/x-python",
   "name": "python",
   "nbconvert_exporter": "python",
   "pygments_lexer": "ipython2",
   "version": "2.7.6"
  }
 },
 "nbformat": 4,
 "nbformat_minor": 5
}
