{
 "cells": [
  {
   "cell_type": "code",
   "execution_count": 18,
   "id": "initial_id",
   "metadata": {
    "collapsed": true,
    "ExecuteTime": {
     "end_time": "2025-09-18T09:14:15.561690500Z",
     "start_time": "2025-09-18T09:14:15.472527200Z"
    }
   },
   "outputs": [],
   "source": [
    "import pickle\n",
    "import pandas as pd\n",
    "\n",
    "from datasets import load_from_disk\n",
    "from bertopic import BERTopic\n",
    "from collections import Counter\n",
    "import matplotlib.pyplot as plt"
   ]
  },
  {
   "cell_type": "code",
   "execution_count": 19,
   "outputs": [],
   "source": [
    "from sentence_transformers import SentenceTransformer\n",
    "\n",
    "embedding_model = SentenceTransformer(\"sentence-transformers/distiluse-base-multilingual-cased-v1\", model_kwargs={\"torch_dtype\": \"float16\"})"
   ],
   "metadata": {
    "collapsed": false,
    "ExecuteTime": {
     "end_time": "2025-09-18T09:14:18.633544800Z",
     "start_time": "2025-09-18T09:14:15.486176400Z"
    }
   },
   "id": "11556ae7427ac77c"
  },
  {
   "cell_type": "code",
   "execution_count": 20,
   "outputs": [],
   "source": [
    "loaded_model = BERTopic.load(\"topic_model/reduced_model_14\", embedding_model=embedding_model)"
   ],
   "metadata": {
    "collapsed": false,
    "ExecuteTime": {
     "end_time": "2025-09-18T09:14:21.396900100Z",
     "start_time": "2025-09-18T09:14:18.633544800Z"
    }
   },
   "id": "3b5b2b68486877dc"
  },
  {
   "cell_type": "code",
   "execution_count": 21,
   "outputs": [],
   "source": [
    "ds_path = \"../data/datasets_all/all-texts\""
   ],
   "metadata": {
    "collapsed": false,
    "ExecuteTime": {
     "end_time": "2025-09-18T09:14:21.405061900Z",
     "start_time": "2025-09-18T09:14:21.392028100Z"
    }
   },
   "id": "3c08eda526b8a4fe"
  },
  {
   "cell_type": "code",
   "execution_count": 22,
   "outputs": [],
   "source": [
    "ds = load_from_disk(ds_path)"
   ],
   "metadata": {
    "collapsed": false,
    "ExecuteTime": {
     "end_time": "2025-09-18T09:14:21.473026900Z",
     "start_time": "2025-09-18T09:14:21.405061900Z"
    }
   },
   "id": "a1650b0b12763e98"
  },
  {
   "cell_type": "code",
   "execution_count": 23,
   "outputs": [
    {
     "name": "stdout",
     "output_type": "stream",
     "text": [
      "Dataset({\n",
      "    features: ['Source', 'ID', 'CleanedText'],\n",
      "    num_rows: 607687\n",
      "})\n"
     ]
    }
   ],
   "source": [
    "print(ds)"
   ],
   "metadata": {
    "collapsed": false,
    "ExecuteTime": {
     "end_time": "2025-09-18T09:14:21.486585900Z",
     "start_time": "2025-09-18T09:14:21.468678100Z"
    }
   },
   "id": "45fb3ccb64c6ce13"
  },
  {
   "cell_type": "code",
   "execution_count": 24,
   "outputs": [],
   "source": [
    "# embeddings = embedding_model.encode(ds[\"CleanedText\"], show_progress_bar=True)"
   ],
   "metadata": {
    "collapsed": false,
    "ExecuteTime": {
     "end_time": "2025-09-18T09:14:21.500494600Z",
     "start_time": "2025-09-18T09:14:21.486585900Z"
    }
   },
   "id": "29c2e0b3c474c09a"
  },
  {
   "cell_type": "code",
   "execution_count": 25,
   "outputs": [],
   "source": [
    "# with open(\"all-texts-embeds.pkl\", 'wb') as p:\n",
    "#     pickle.dump(embeddings, p)"
   ],
   "metadata": {
    "collapsed": false,
    "ExecuteTime": {
     "end_time": "2025-09-18T09:14:21.516246200Z",
     "start_time": "2025-09-18T09:14:21.500494600Z"
    }
   },
   "id": "841326ddd8933cb1"
  },
  {
   "cell_type": "code",
   "execution_count": 26,
   "outputs": [],
   "source": [
    "with open(\"all-texts-embeds.pkl\", 'rb') as p:\n",
    "    embeddings = pickle.load(p)"
   ],
   "metadata": {
    "collapsed": false,
    "ExecuteTime": {
     "end_time": "2025-09-18T09:14:21.955116900Z",
     "start_time": "2025-09-18T09:14:21.516246200Z"
    }
   },
   "id": "f01d6087b74bfec3"
  },
  {
   "cell_type": "code",
   "execution_count": 27,
   "outputs": [
    {
     "name": "stderr",
     "output_type": "stream",
     "text": [
      "2025-09-18 11:14:23,026 - BERTopic - Predicting topic assignments through cosine similarity of topic and document embeddings.\n"
     ]
    }
   ],
   "source": [
    "topics, probs = loaded_model.transform(documents=ds['CleanedText'], embeddings=embeddings)"
   ],
   "metadata": {
    "collapsed": false,
    "ExecuteTime": {
     "end_time": "2025-09-18T09:14:34.843615600Z",
     "start_time": "2025-09-18T09:14:21.955116900Z"
    }
   },
   "id": "2c09551d5eeb817a"
  },
  {
   "cell_type": "code",
   "execution_count": 28,
   "outputs": [],
   "source": [
    "import plotly.io as pio\n",
    "pio.renderers.default = 'notebook'"
   ],
   "metadata": {
    "collapsed": false,
    "ExecuteTime": {
     "end_time": "2025-09-18T09:14:34.882032Z",
     "start_time": "2025-09-18T09:14:34.835599600Z"
    }
   },
   "id": "29c64201c1e8830c"
  },
  {
   "cell_type": "code",
   "execution_count": 29,
   "outputs": [
    {
     "data": {
      "text/plain": "{0: '0_ende_sal_ofte_syn',\n 1: '1_chinezen_chineesche_chineesen_chin',\n 2: '2_houtwerken_hout_bosschen_boomen',\n 3: '3_hospitaal_hospitalen_zieken_chirurgyns',\n 4: '4_java_en_te_op',\n 5: '5_maand_maanden_zal_van',\n 6: '6_wagt_officier_officieren_art',\n 7: '7_te_dat_en_zyn',\n 8: '8_schepen_schip_zal_of',\n 9: '9_suiker_molens_suikermolens_molenaars',\n 10: '10_zilver_munt_goud_geld',\n 11: '11_raad_justitie_leden_den',\n 12: '12_het_van_is_den',\n 13: '13_ende_schepen_aen_sullen',\n 14: '14_kerk_kerken_gemeente_gereformeerde',\n 15: '15_corporaals_lieutenant_20_24',\n 16: '16_batavia_stad_van_ommelanden',\n 17: '17_paarden_paard_wagens_wagen',\n 18: '18_zout_12_kannen_dm',\n 19: '19_brand_spuiten_no_spuyten',\n 20: '20_militairen_officieren_inlandsche_militaire',\n 21: '21_secretaris_secretarissen_van_off',\n 22: '22_bat_iv_bepaling_comp',\n 23: '23_christenen_christen_doop_religie',\n 24: '24_kinderen_art_moeder_kind',\n 25: '25_ende_india_generael_syn',\n 26: '26_malacca_vaart_naar_java',\n 27: '27_jaar_dat_jaaren_te',\n 28: '28_verkoop_of_goederen_te',\n 29: '29_artillerie_oorlog_commissaris_art',\n 30: '30_koffij_culture_pikol_boomen',\n 31: '31_indie_raad_generaal_raden',\n 32: '32_rijst_ryst_verkoop_regeringswege',\n 33: '33_justitie_officieren_en_te',\n 34: '34_visch_vischmarkt_visschers_pachter',\n 35: '35_overledene_of_art_boedels',\n 36: '36_ministers_comptoiren_bediendens_buiten',\n 37: '37_ik_mij_my_helpe',\n 38: '38_bank_leening_courant_commissarissen',\n 39: '39_credit_brieven_papieren_rd',\n 40: '40_president_leden_vergadering_stem',\n 41: '41_schepen_indische_indie_compagnie',\n 42: '42_inkomsten_rde_kostgeld_gagie',\n 43: '43_huizen_of_erven_dat',\n 44: '44_uuren_morgens_des_avonds',\n 45: '45_talen_gepubliceerd_taalen_ignorantie',\n 46: '46_indische_heeren_xviinen_regering',\n 47: '47_generaal_gouverneur_heer_den',\n 48: '48_zee_marine_officieren_luitenant',\n 49: '49_regenten_regent_regentschap_gecommitteerde',\n 50: '50_bruggen_brug_wegen_weg',\n 51: '51_culture_cultures_koffy_dat',\n 52: '52_rivier_somas_sabandharyen_pondok',\n 53: '53_vleesch_spek_varkens_vee',\n 54: '54_schepen_schip_scheeps_compagnie',\n 55: '55_school_kinderen_schoolmeesters_schoolen',\n 56: '56_lieden_gy_zy_zo',\n 57: '57_plakaten_afkondiging_vernieuwing_plakaat',\n 58: '58_123_bat_442_378',\n 59: '59_batavia_schepen_vaartuigen_reede',\n 60: '60_boekhouder_politie_soldy_secretaris',\n 61: '61_samarang_sourabaija_administrateur_soerabaija',\n 62: '62_ik_mij_gehouw_getrouw',\n 63: '63_crediteuren_schulden_boedel_crediteur',\n 64: '64_24_rivier_12_36',\n 65: '65_huishuur_huizen_belasting_maand',\n 66: '66_guldens_jaaren_gagie_winnen',\n 67: '67_the_we_to_that',\n 68: '68_nederland_assignatien_assignatie_naar',\n 69: '69_slaven_voor_te_en',\n 70: '70_uitschrijving_bede_algemeenen_dag',\n 71: '71_taxatie_belasting_goederen_waarde',\n 72: '72_generaal_hij_administrateur_art',\n 73: '73_bantamsche_koning_rijk_sulthan',\n 74: '74_ende_vande_generael_gouverneur',\n 75: '75_openlijk_bekendmaking_diakenen_kerk',\n 76: '76_timor_vaart_banda_ternaten',\n 77: '77_militaire_vierschaar_militairen_hooge',\n 78: '78_cheribon_cheribonsche_resident_preanger',\n 79: '79_secretaris_generale_gezworen_klerk',\n 80: '80_ue_syn_ende_haer',\n 81: '81_kerkhof_begraven_kelders_lyken',\n 82: '82_rivieren_rivier_water_slokkan',\n 83: '83_slaven_batavia_was_regering',\n 84: '84_helfte_helft_voor_officier',\n 85: '85_verstrekte_winkel_uit_benodigtheden',\n 86: '86_rijst_portie_middags_uren',\n 87: '87_wijn_bier_vat_tappers',\n 88: '88_europa_europeesen_in_daar',\n 89: '89_majesteit_koning_holland_napoleon',\n 90: '90_handel_west_lywaaten_compagnie',\n 91: '91_administrateurs_administratie_administratien_dat',\n 92: '92_oorlog_engeland_republiek_fransche',\n 93: '93_reparatien_gebouwen_reparatie_directeur',\n 94: '94_ende_sullen_officieren_syn',\n 95: '95_nederland_assignatien_voornemens_kennisgave',\n 96: '96_opium_amphioen_amfioen_verkoop',\n 97: '97_stad_art_buyten_voor',\n 98: '98_indie_indische_compagnie_in',\n 99: '99_geld_papieren_rijksdaalders_agio',\n 100: '100_boeken_generaal_comptoir_negotie',\n 101: '101_dranken_drank_sterke_bier',\n 102: '102_broek_linnen_gebleekt_paar',\n 103: '103_ons_god_onse_wy',\n 104: '104_orange_oranje_nederlanden_admiraal',\n 105: '105_gragt_no_rivier_blok',\n 106: '106_batavia_kantoren_regering_last',\n 107: '107_yder_minuteeren_schrifts_art',\n 108: '108_rivier_langs_weg_tot',\n 109: '109_schepenen_collegie_secretaris_weesmeesteren',\n 110: '110_boeken_negotie_generaal_batavia',\n 111: '111_handel_negotie_en_dat',\n 112: '112_deserteurs_desertie_gedroste_deserteur',\n 113: '113_indische_oost_compagnie_indie',\n 114: '114_dogter_zoon_dogters_klein',\n 115: '115_kanon_kanons_metaale_geweer',\n 116: '116_maands_ongelden_stelle_jaars',\n 117: '117_koningrijk_voorwaarden_verpachting_ditmaal',\n 118: '118_vuurwerk_plakaten_vernieuwing_december',\n 119: '119_boete_calange_officier_helvt',\n 120: '120_moorden_moord_was_dat',\n 121: '121_zegel_rd_een_rde',\n 122: '122_rde_per_transporteere_jaars',\n 123: '123_verpachting_ngenerale_inkomsten_batavia',\n 124: '124_zondags_sourabaija_samarang_woensdags',\n 125: '125_generaal_gouverneur_zijne_heer',\n 126: '126_art_zullen_zal_of',\n 127: '127_stad_zal_moeten_ook',\n 128: '128_octrooi_december_verlenging_zie',\n 129: '129_brood_tarwe_bakkers_broodbakkers',\n 130: '130_pikols_picols_indigo_peper',\n 131: '131_dood_gestraft_iemand_werden',\n 132: '132_zynde_secretaris_bank_oud',\n 133: '133_administrateur_20000_ordinair_extra',\n 134: '134_vierde_jaar_jaaren_inkomsten',\n 135: '135_fransche_franschen_engelschen_fransch',\n 136: '136_art_zal_zullen_zijn',\n 137: '137_fiscaal_advocaat_water_den',\n 138: '138_batavia_schepen_naar_vaartuigen',\n 139: '139_secretaris_generale_excellentie_generaal',\n 140: '140_goederen_vaartuigen_of_worden',\n 141: '141_nederland_hollanders_goederen_men',\n 142: '142_regenten_diaconen_art_huis',\n 143: '143_rijst_java_ryst_uitvoer',\n 144: '144_fiscaal_advocaat_hij_gerecht',\n 145: '145_generaal_gouverneur_schepen_heer',\n 146: '146_maand_maands_ieder_voor',\n 147: '147_ijzer_percent_staal_yzer',\n 148: '148_art_postwagens_wagen_betaald',\n 149: '149_veer_vaartuigen_zullen_moeten',\n 150: '150_dat_het_zyn_niet',\n 151: '151_regering_compagnie_dienaren_was',\n 152: '152_1000_onkosten_lasten_vaartuigen',\n 153: '153_goederen_moeten_worden_de',\n 154: '154_culture_indigo_java_thom',\n 155: '155_vendumeesteren_percent_verkoop_vendu'}"
     },
     "execution_count": 29,
     "metadata": {},
     "output_type": "execute_result"
    }
   ],
   "source": [
    "loaded_model.topic_labels_"
   ],
   "metadata": {
    "collapsed": false,
    "ExecuteTime": {
     "end_time": "2025-09-18T09:14:34.938103400Z",
     "start_time": "2025-09-18T09:14:34.874191600Z"
    }
   },
   "id": "705078779853021f"
  },
  {
   "cell_type": "code",
   "execution_count": 33,
   "outputs": [
    {
     "data": {
      "text/plain": "['89_majesteit_koning_holland_napoleon',\n '92_oorlog_engeland_republiek_fransche',\n '135_fransche_franschen_engelschen_fransch']"
     },
     "execution_count": 33,
     "metadata": {},
     "output_type": "execute_result"
    }
   ],
   "source": [
    "[x for x in loaded_model.topic_labels_.values() if 'frans' in x or 'napo' in x]"
   ],
   "metadata": {
    "collapsed": false,
    "ExecuteTime": {
     "end_time": "2025-09-18T09:14:54.705985900Z",
     "start_time": "2025-09-18T09:14:54.685447Z"
    }
   },
   "id": "ec2e6a92e0616f56"
  },
  {
   "cell_type": "code",
   "execution_count": 37,
   "outputs": [
    {
     "data": {
      "text/plain": "int"
     },
     "execution_count": 37,
     "metadata": {},
     "output_type": "execute_result"
    }
   ],
   "source": [
    "type(ds['Topic'][0])"
   ],
   "metadata": {
    "collapsed": false,
    "ExecuteTime": {
     "end_time": "2025-09-18T09:15:20.436463900Z",
     "start_time": "2025-09-18T09:15:20.245576700Z"
    }
   },
   "id": "54c5d55a9e3b3c53"
  },
  {
   "cell_type": "code",
   "execution_count": 31,
   "outputs": [
    {
     "data": {
      "text/plain": "Saving the dataset (0/1 shards):   0%|          | 0/607687 [00:00<?, ? examples/s]",
      "application/vnd.jupyter.widget-view+json": {
       "version_major": 2,
       "version_minor": 0,
       "model_id": "95722fde0a094858b88ce215c277957c"
      }
     },
     "metadata": {},
     "output_type": "display_data"
    }
   ],
   "source": [
    "ds = ds.add_column(\"Topic\", topics)\n",
    "ds.save_to_disk(ds_path+'-with-topics')"
   ],
   "metadata": {
    "collapsed": false,
    "ExecuteTime": {
     "end_time": "2025-09-18T09:14:36.577452300Z",
     "start_time": "2025-09-18T09:14:34.938103400Z"
    }
   },
   "id": "b9d622d3ef1cf103"
  },
  {
   "cell_type": "code",
   "execution_count": 32,
   "outputs": [
    {
     "name": "stderr",
     "output_type": "stream",
     "text": [
      "\n",
      "KeyboardInterrupt\n",
      "\n"
     ]
    }
   ],
   "source": [
    "loaded_model.visualize_topics()"
   ],
   "metadata": {
    "collapsed": false,
    "ExecuteTime": {
     "end_time": "2025-09-18T09:14:44.913327100Z",
     "start_time": "2025-09-18T09:14:36.578452700Z"
    }
   },
   "id": "9e37d53fa99d20ad"
  },
  {
   "cell_type": "code",
   "execution_count": null,
   "outputs": [],
   "source": [
    "loaded_model.visualize_hierarchy()"
   ],
   "metadata": {
    "collapsed": false,
    "ExecuteTime": {
     "start_time": "2025-09-18T09:14:44.913327100Z"
    }
   },
   "id": "40f2f5040ad0019b"
  },
  {
   "cell_type": "code",
   "execution_count": null,
   "outputs": [],
   "source": [
    "# interesting topics: 12, 27, 65\n",
    "# delpher still seems a little bad in quality still seems\n",
    "# could be interesting to further do topic modelling on the 0 topic"
   ],
   "metadata": {
    "collapsed": false,
    "ExecuteTime": {
     "end_time": "2025-09-18T09:14:44.918751400Z",
     "start_time": "2025-09-18T09:14:44.918751400Z"
    }
   },
   "id": "ea51630825ea0094"
  },
  {
   "cell_type": "code",
   "execution_count": null,
   "outputs": [],
   "source": [
    "print(loaded_model.get_topic_info(12)['Representation'][0])"
   ],
   "metadata": {
    "collapsed": false,
    "ExecuteTime": {
     "end_time": "2025-09-18T09:14:44.918751400Z",
     "start_time": "2025-09-18T09:14:44.918751400Z"
    }
   },
   "id": "87d8b557722841b0"
  },
  {
   "cell_type": "code",
   "execution_count": null,
   "outputs": [],
   "source": [
    "loaded_model.get_topic_info(27)"
   ],
   "metadata": {
    "collapsed": false,
    "ExecuteTime": {
     "end_time": "2025-09-18T09:14:44.918751400Z",
     "start_time": "2025-09-18T09:14:44.918751400Z"
    }
   },
   "id": "e9b4b62437697037"
  },
  {
   "cell_type": "code",
   "execution_count": null,
   "outputs": [],
   "source": [
    "print(loaded_model.get_topic_info(65)['Representation'][0])"
   ],
   "metadata": {
    "collapsed": false,
    "ExecuteTime": {
     "start_time": "2025-09-18T09:14:44.918751400Z"
    }
   },
   "id": "acaeb89832857523"
  },
  {
   "cell_type": "code",
   "execution_count": null,
   "outputs": [],
   "source": [
    "def plot_yearly_topic(topic, df_topics, show_all=True):\n",
    "    all_counts = df_topics[\"year\"].value_counts().sort_index().to_frame().reset_index()\n",
    "    topic_counts = df_topics[df_topics[\"topic\"]==topic][\"year\"].value_counts().sort_index().to_frame().reset_index()\n",
    "    if show_all:\n",
    "        plt.bar(all_counts[\"year\"]-0.2, all_counts[\"count\"], 0.4)\n",
    "        plt.bar(topic_counts[\"year\"]+0.2, topic_counts[\"count\"], 0.4)\n",
    "        plt.legend([\"All\", f\"Topic {topic} mentions\"])\n",
    "    else:\n",
    "        plt.bar(topic_counts['year'], topic_counts['count'])\n",
    "        plt.legend([f\"{topic} mentions\"])\n",
    "    plt.grid()"
   ],
   "metadata": {
    "collapsed": false,
    "ExecuteTime": {
     "start_time": "2025-09-18T09:14:44.918751400Z"
    }
   },
   "id": "d15447aab0393cce"
  },
  {
   "cell_type": "code",
   "execution_count": null,
   "outputs": [],
   "source": [
    "def plot_topics(topics, df_topics, title):\n",
    "    df = df_topics[[\"year\", \"topic\"]]\n",
    "    df = df[df['topic'].isin(topics)]\n",
    "    df.groupby([\"year\", \"topic\"]).value_counts().unstack().plot.barh()\n",
    "    plt.title(title)\n",
    "    plt.show()"
   ],
   "metadata": {
    "collapsed": false,
    "ExecuteTime": {
     "end_time": "2025-09-18T09:14:44.918751400Z",
     "start_time": "2025-09-18T09:14:44.918751400Z"
    }
   },
   "id": "b58a0ec0eccd2728"
  }
 ],
 "metadata": {
  "kernelspec": {
   "display_name": "Python 3",
   "language": "python",
   "name": "python3"
  },
  "language_info": {
   "codemirror_mode": {
    "name": "ipython",
    "version": 2
   },
   "file_extension": ".py",
   "mimetype": "text/x-python",
   "name": "python",
   "nbconvert_exporter": "python",
   "pygments_lexer": "ipython2",
   "version": "2.7.6"
  }
 },
 "nbformat": 4,
 "nbformat_minor": 5
}
