{
 "cells": [
  {
   "cell_type": "code",
   "execution_count": 21,
   "id": "initial_id",
   "metadata": {
    "collapsed": true,
    "ExecuteTime": {
     "end_time": "2025-09-05T14:45:25.838894200Z",
     "start_time": "2025-09-05T14:45:25.823190600Z"
    }
   },
   "outputs": [],
   "source": [
    "import pickle\n",
    "import pandas as pd\n",
    "\n",
    "from data.data import AmericanStories\n",
    "from bertopic import BERTopic\n",
    "from nltk.corpus import stopwords\n",
    "from collections import Counter\n",
    "import matplotlib.pyplot as plt"
   ]
  },
  {
   "cell_type": "code",
   "execution_count": 22,
   "outputs": [],
   "source": [
    "from sentence_transformers import SentenceTransformer\n",
    "\n",
    "embedding_model = SentenceTransformer(\"sentence-transformers/distiluse-base-multilingual-cased-v1\", model_kwargs={\"torch_dtype\": \"float16\"})"
   ],
   "metadata": {
    "collapsed": false,
    "ExecuteTime": {
     "end_time": "2025-09-05T14:45:28.341160Z",
     "start_time": "2025-09-05T14:45:25.833526500Z"
    }
   },
   "id": "a597afcbc1aa40e4"
  },
  {
   "cell_type": "code",
   "execution_count": 23,
   "outputs": [],
   "source": [
    "loaded_model = BERTopic.load(\"models/full_model_15\", embedding_model=embedding_model)"
   ],
   "metadata": {
    "collapsed": false,
    "ExecuteTime": {
     "end_time": "2025-09-05T14:45:31.279998700Z",
     "start_time": "2025-09-05T14:45:28.337389300Z"
    }
   },
   "id": "f38a8c018bd566f5"
  },
  {
   "cell_type": "code",
   "execution_count": 24,
   "outputs": [],
   "source": [
    "years = [1805, 1806, 1807, 1808, 1809, 1810, 1811, 1812, 1813, 1814, 1815, 1816, 1817, 1818, 1819]"
   ],
   "metadata": {
    "collapsed": false,
    "ExecuteTime": {
     "end_time": "2025-09-05T14:45:31.295649700Z",
     "start_time": "2025-09-05T14:45:31.279998700Z"
    }
   },
   "id": "38f10de11d4eefb5"
  },
  {
   "cell_type": "code",
   "execution_count": 25,
   "outputs": [
    {
     "data": {
      "text/plain": "Filter:   0%|          | 0/598880 [00:00<?, ? examples/s]",
      "application/vnd.jupyter.widget-view+json": {
       "version_major": 2,
       "version_minor": 0,
       "model_id": "63d7206bc4e84be2937062144f6e0dc6"
      }
     },
     "metadata": {},
     "output_type": "display_data"
    }
   ],
   "source": [
    "ds_american = AmericanStories().dataset.filter(lambda example: example[\"Year\"] in years and len(example[\"CleanedText\"])>100) \n",
    "\n",
    "ds_american = ds_american.filter(lambda example: 'political' in example[\"newspaper_name\"])"
   ],
   "metadata": {
    "collapsed": false,
    "ExecuteTime": {
     "end_time": "2025-09-05T14:45:47.250788800Z",
     "start_time": "2025-09-05T14:45:31.295649700Z"
    }
   },
   "id": "149da0cc3387fe6d"
  },
  {
   "cell_type": "code",
   "execution_count": 26,
   "outputs": [
    {
     "name": "stdout",
     "output_type": "stream",
     "text": [
      "134224\n"
     ]
    }
   ],
   "source": [
    "print(len(ds_american))"
   ],
   "metadata": {
    "collapsed": false,
    "ExecuteTime": {
     "end_time": "2025-09-05T14:45:47.272389900Z",
     "start_time": "2025-09-05T14:45:47.254581400Z"
    }
   },
   "id": "9486feee2a4b4e8d"
  },
  {
   "cell_type": "code",
   "execution_count": 27,
   "outputs": [
    {
     "data": {
      "text/plain": "{'article_id': '13_1808-09-02_p4_sn84024013_00414216080_1808090201_0318',\n 'newspaper_name': 'Alexandria daily gazette, commercial &amp; political. [volume] (Alexandria [Va.]) 1808-1812',\n 'edition': '01',\n 'date': '1808-09-02',\n 'page': 'p4',\n 'headline': '',\n 'byline': '',\n 'Text': \"Jofeph Mande VII\\ncoRNkR Of KING and fxIRFlx s,b,s\\n\\n\\nALkxANERIA\\n\\n\\nHAS FOR SALE,\\nAn anortnent Of Wines\\nQUoRs, GROCERIES, Sc\\nConsisting of\\n\\n\\n!: !: ]: !. '''.'\\n\\n\\nMADE1RA1\\n\\n\\nPort\\n\\n\\nLisbon WINES.\\nMalaga B\\n\\n\\nTeneriae <\\n\\n\\nCorsica\\n\\n\\nCid st. Estephe Medee larct, in cases\\none dozen\\n\\n\\nA few dezen fine old frontinac\\nDitto do. best wine bitters\\nJamaica and West-India rum\\nNew-England do.\\nCogiliae, Bourdeaux and Naples brand,\\n& Holland and country gin\\nSchiedam ginin cases\\nIrish whIskey, very Old\\n70 barrels Pennsylvania rye sxey\\nCIDER in barrels\\n\\n\\nWhite wine and Cider vinegar\\nFlorence oi. in TASKS\\n2 hogsheads HAVANA honey\\nIs do. choice retailing mchssm\\n\\n\\nGunpowder\\n\\n\\nImperial\\n\\n\\nHysen TEAS\\n\\n\\ns a ass;s sss's and e god ''''''\\nMuscovado sugars, different qualities\\nBengal white do.\\n\\n\\nLoaf and lump sugars, Philadelphia, BaI\\ntimcrc and Alexandria.\\n\\n\\nLeipor's, CARROTS, and Hamiltcn's nQs,\\nin bottles and b.addcrs.\\nAIacuba and rapee do.\\nCioycr-seca, Penn. suarrantea)\\nMace; nutmegs = cloves; cassla; punel\\n10; pepper; ginger, race and ground; Cay\\nenne pepper; ryhned salt-petrc.\\nCoffee; chocolate; rice pearl barley;\\nLondon and Philadelphia mustard; basket\\nsalt; starch; fig blue ; flotant indigo; Gsor.\\ngia and Tennessee cotten; fax wool mad\\nder; copperas alum; brimstone chaIA;\\npipes in boxes; wrapping paper and twltt;\\ntraces; bed cords; leading lines demlJ'hai\\ngin cases patent shot; brandywine guhpos\\nder; Harvey's glulpowder, the only real BIZ\\nfish battle powdcrl from + to treble seaid.\\nchewing tobacco; best i,avanns sesars.\\nMuscatel and bloom raisins II boxes.\\nSun raisins III Casks.\\nZsnte currants prunes; soft shcldi'\\n.aonds.\\n\\n\\nA few boxes excellent pickles, each ON\\ndozen bottles assorted capers, Gives aud an\\ncl!oy;es, for Sale BY the box.\\nquantity Of clean send alum salt s'iissM\\nfor the fishery, &c. SC\\n\\n\\n& y\",\n 'Year': 1808,\n 'CleanedText': \"Jofeph Mande VII coRNkR Of KING and fxIRFlx s,b,s ALkxANERIA HAS FOR SALE, An anortnent Of Wines QUoRs, GROCERIES, Sc Consisting of !: !: ]: !. '''.' MADE1RA1 Port Lisbon WINES. Malaga B Teneriae < Corsica Cid st. Estephe Medee larct, in cases one dozen A few dezen fine old frontinac Ditto do. best wine bitters Jamaica and West-India rum New-England do. Cogiliae, Bourdeaux and Naples brand, & Holland and country gin Schiedam ginin cases Irish whIskey, very Old 70 barrels Pennsylvania rye sxey CIDER in barrels White wine and Cider vinegar Florence oi. in TASKS 2 hogsheads HAVANA honey Is do. choice retailing mchssm Gunpowder Imperial Hysen TEAS s a ass;s sss's and e god '''''' Muscovado sugars, different qualities Bengal white do. Loaf and lump sugars, Philadelphia, BaI timcrc and Alexandria. Leipor's, CARROTS, and Hamiltcn's nQs, in bottles and b.addcrs. AIacuba and rapee do. Cioycr-seca, Penn. suarrantea) Mace; nutmegs = cloves; cassla; punel 10; pepper; ginger, race and ground; Cay enne pepper; ryhned salt-petrc. Coffee; chocolate; rice pearl barley; London and Philadelphia mustard; basket salt; starch; fig blue ; flotant indigo; Gsor. gia and Tennessee cotten; fax wool mad der; copperas alum; brimstone chaIA; pipes in boxes; wrapping paper and twltt; traces; bed cords; leading lines demlJ'hai gin cases patent shot; brandywine guhpos der; Harvey's glulpowder, the only real BIZ fish battle powdcrl from + to treble seaid. chewing tobacco; best i,avanns sesars. Muscatel and bloom raisins II boxes. Sun raisins III Casks. Zsnte currants prunes; soft shcldi' .aonds. A few boxes excellent pickles, each ON dozen bottles assorted capers, Gives aud an cl!oy;es, for Sale BY the box. quantity Of clean send alum salt s'iissM for the fishery, &c. SC & y\"}"
     },
     "execution_count": 27,
     "metadata": {},
     "output_type": "execute_result"
    }
   ],
   "source": [
    "ds_american[190]"
   ],
   "metadata": {
    "collapsed": false,
    "ExecuteTime": {
     "end_time": "2025-09-05T14:45:47.332852800Z",
     "start_time": "2025-09-05T14:45:47.272389900Z"
    }
   },
   "id": "31717f98a628a8ed"
  },
  {
   "cell_type": "code",
   "execution_count": 28,
   "outputs": [
    {
     "data": {
      "text/plain": "Alexandria daily gazette, commercial &amp; political. [volume] (Alexandria [Va.]) 1808-1812    59184\nAlexandria gazette, commercial and political. [volume] (Alexandria [Va.]) 1812-1817            75040\nName: count, dtype: int64"
     },
     "execution_count": 28,
     "metadata": {},
     "output_type": "execute_result"
    }
   ],
   "source": [
    "pd.Series(ds_american[\"newspaper_name\"]).value_counts().sort_index()"
   ],
   "metadata": {
    "collapsed": false,
    "ExecuteTime": {
     "end_time": "2025-09-05T14:45:47.830774800Z",
     "start_time": "2025-09-05T14:45:47.292071300Z"
    }
   },
   "id": "8f5edb2c710e98c1"
  },
  {
   "cell_type": "code",
   "execution_count": 29,
   "outputs": [
    {
     "data": {
      "text/plain": "<Axes: >"
     },
     "execution_count": 29,
     "metadata": {},
     "output_type": "execute_result"
    },
    {
     "data": {
      "text/plain": "<Figure size 640x480 with 1 Axes>",
      "image/png": "[encoded data removed]"
     },
     "metadata": {},
     "output_type": "display_data"
    }
   ],
   "source": [
    "pd.Series(ds_american[\"newspaper_name\"]).value_counts().sort_index().plot(kind=\"barh\")"
   ],
   "metadata": {
    "collapsed": false,
    "ExecuteTime": {
     "end_time": "2025-09-05T14:45:48.380779500Z",
     "start_time": "2025-09-05T14:45:47.830774800Z"
    }
   },
   "id": "cc346931532b7fe0"
  },
  {
   "cell_type": "code",
   "execution_count": 30,
   "outputs": [
    {
     "data": {
      "text/plain": "Batches:   0%|          | 0/4195 [00:00<?, ?it/s]",
      "application/vnd.jupyter.widget-view+json": {
       "version_major": 2,
       "version_minor": 0,
       "model_id": "dd99e4d33e42414bb6097077f663c721"
      }
     },
     "metadata": {},
     "output_type": "display_data"
    }
   ],
   "source": [
    "american_embeddings = embedding_model.encode(ds_american[\"CleanedText\"], show_progress_bar=True)\n",
    "with open(\"dataset_embeds_distiluse-base-multilingual-cased-v1/american_embeds.pkl\", 'wb') as p:\n",
    "    pickle.dump(american_embeddings, p)"
   ],
   "metadata": {
    "collapsed": false,
    "ExecuteTime": {
     "end_time": "2025-09-05T14:47:12.120322100Z",
     "start_time": "2025-09-05T14:45:48.376181600Z"
    }
   },
   "id": "73598d52de86c8b3"
  },
  {
   "cell_type": "code",
   "execution_count": 31,
   "outputs": [],
   "source": [
    "with open(\"dataset_embeds_distiluse-base-multilingual-cased-v1/american_embeds.pkl\", 'rb') as p:\n",
    "    american_embeddings = pickle.load(p)"
   ],
   "metadata": {
    "collapsed": false,
    "ExecuteTime": {
     "end_time": "2025-09-05T14:47:12.188636Z",
     "start_time": "2025-09-05T14:47:12.120322100Z"
    }
   },
   "id": "55d4f2648087406d"
  },
  {
   "cell_type": "code",
   "execution_count": 32,
   "outputs": [
    {
     "name": "stderr",
     "output_type": "stream",
     "text": [
      "2025-09-05 16:48:29,823 - BERTopic - Predicting topic assignments through cosine similarity of topic and document embeddings.\n"
     ]
    }
   ],
   "source": [
    "american_topics, american_probs = loaded_model.transform(documents=ds_american['CleanedText'], embeddings=american_embeddings)"
   ],
   "metadata": {
    "collapsed": false,
    "ExecuteTime": {
     "end_time": "2025-09-05T14:48:30.610358200Z",
     "start_time": "2025-09-05T14:48:28.915469Z"
    }
   },
   "id": "8e25cbaf816c9554"
  },
  {
   "cell_type": "code",
   "execution_count": 33,
   "outputs": [],
   "source": [
    "american_topic_freq = dict(Counter(american_topics).most_common())"
   ],
   "metadata": {
    "collapsed": false,
    "ExecuteTime": {
     "end_time": "2025-09-05T14:48:31.238917Z",
     "start_time": "2025-09-05T14:48:31.207194900Z"
    }
   },
   "id": "c86c12256318eaca"
  },
  {
   "cell_type": "code",
   "execution_count": 34,
   "outputs": [
    {
     "data": {
      "text/plain": "{np.int64(3): 10190,\n np.int64(86): 8172,\n np.int64(36): 7349,\n np.int64(29): 7276,\n np.int64(75): 6135,\n np.int64(73): 5768,\n np.int64(82): 4934,\n np.int64(2): 4573,\n np.int64(45): 4539,\n np.int64(39): 4418,\n np.int64(78): 3563,\n np.int64(52): 3354,\n np.int64(24): 3020,\n np.int64(31): 2562,\n np.int64(8): 2458,\n np.int64(27): 2425,\n np.int64(67): 2421,\n np.int64(18): 2297,\n np.int64(13): 2251,\n np.int64(4): 2053,\n np.int64(48): 2040,\n np.int64(20): 2032,\n np.int64(14): 1910,\n np.int64(7): 1731,\n np.int64(70): 1637,\n np.int64(10): 1535,\n np.int64(9): 1517,\n np.int64(77): 1517,\n np.int64(6): 1487,\n np.int64(-1): 1361,\n np.int64(62): 1360,\n np.int64(72): 1340,\n np.int64(33): 1278,\n np.int64(64): 1164,\n np.int64(34): 1155,\n np.int64(21): 1047,\n np.int64(40): 960,\n np.int64(61): 863,\n np.int64(63): 857,\n np.int64(57): 828,\n np.int64(90): 821,\n np.int64(28): 814,\n np.int64(22): 793,\n np.int64(26): 789,\n np.int64(80): 736,\n np.int64(30): 716,\n np.int64(71): 709,\n np.int64(12): 646,\n np.int64(43): 595,\n np.int64(68): 566,\n np.int64(47): 528,\n np.int64(25): 522,\n np.int64(50): 504,\n np.int64(69): 498,\n np.int64(1): 492,\n np.int64(58): 474,\n np.int64(87): 403,\n np.int64(91): 370,\n np.int64(60): 366,\n np.int64(16): 365,\n np.int64(11): 359,\n np.int64(32): 359,\n np.int64(76): 347,\n np.int64(5): 330,\n np.int64(74): 322,\n np.int64(15): 275,\n np.int64(37): 243,\n np.int64(79): 239,\n np.int64(19): 239,\n np.int64(46): 232,\n np.int64(55): 164,\n np.int64(0): 159,\n np.int64(89): 159,\n np.int64(83): 156,\n np.int64(81): 142,\n np.int64(51): 133,\n np.int64(49): 126,\n np.int64(94): 121,\n np.int64(59): 120,\n np.int64(85): 105,\n np.int64(56): 94,\n np.int64(88): 86,\n np.int64(92): 83,\n np.int64(23): 79,\n np.int64(66): 75,\n np.int64(35): 58,\n np.int64(84): 55,\n np.int64(38): 54,\n np.int64(44): 52,\n np.int64(54): 50,\n np.int64(93): 28,\n np.int64(65): 25,\n np.int64(42): 24,\n np.int64(17): 15,\n np.int64(53): 12,\n np.int64(41): 11,\n np.int64(95): 9}"
     },
     "execution_count": 34,
     "metadata": {},
     "output_type": "execute_result"
    }
   ],
   "source": [
    "american_topic_freq"
   ],
   "metadata": {
    "collapsed": false,
    "ExecuteTime": {
     "end_time": "2025-09-05T14:48:33.014152800Z",
     "start_time": "2025-09-05T14:48:32.982444200Z"
    }
   },
   "id": "c7b43f0e639d25c6"
  },
  {
   "cell_type": "code",
   "execution_count": 40,
   "outputs": [
    {
     "data": {
      "text/plain": "   Topic  Count                                               Name  \\\n0     45     29  45_drukkerij_boeken staten_gouverneur generaal...   \n\n                                      Representation  Representative_Docs  \n0  [drukkerij, boeken staten, gouverneur generaal...                  NaN  ",
      "text/html": "<div>\n<style scoped>\n    .dataframe tbody tr th:only-of-type {\n        vertical-align: middle;\n    }\n\n    .dataframe tbody tr th {\n        vertical-align: top;\n    }\n\n    .dataframe thead th {\n        text-align: right;\n    }\n</style>\n<table border=\"1\" class=\"dataframe\">\n  <thead>\n    <tr style=\"text-align: right;\">\n      <th></th>\n      <th>Topic</th>\n      <th>Count</th>\n      <th>Name</th>\n      <th>Representation</th>\n      <th>Representative_Docs</th>\n    </tr>\n  </thead>\n  <tbody>\n    <tr>\n      <th>0</th>\n      <td>45</td>\n      <td>29</td>\n      <td>45_drukkerij_boeken staten_gouverneur generaal...</td>\n      <td>[drukkerij, boeken staten, gouverneur generaal...</td>\n      <td>NaN</td>\n    </tr>\n  </tbody>\n</table>\n</div>"
     },
     "execution_count": 40,
     "metadata": {},
     "output_type": "execute_result"
    }
   ],
   "source": [
    "loaded_model.get_topic_info(45)"
   ],
   "metadata": {
    "collapsed": false,
    "ExecuteTime": {
     "end_time": "2025-09-05T14:49:31.209736400Z",
     "start_time": "2025-09-05T14:49:31.178128Z"
    }
   },
   "id": "f0c0333566ada16f"
  },
  {
   "cell_type": "code",
   "execution_count": 41,
   "outputs": [],
   "source": [
    "df_topics_american = pd.DataFrame({\"topic\":american_topics, \"text\":ds_american[\"CleanedText\"], \"year\":ds_american[\"Year\"], \"ds\": 'american'})"
   ],
   "metadata": {
    "collapsed": false,
    "ExecuteTime": {
     "end_time": "2025-09-05T14:50:23.207118400Z",
     "start_time": "2025-09-05T14:50:21.778762600Z"
    }
   },
   "id": "aae7593a7f3bde7e"
  },
  {
   "cell_type": "code",
   "execution_count": 45,
   "outputs": [],
   "source": [
    "def plot_yearly_topic(topic, df_topics, show_all=True):\n",
    "    all_counts = df_topics[\"year\"].value_counts().sort_index().to_frame().reset_index()\n",
    "    topic_counts = df_topics[df_topics[\"topic\"]==topic][\"year\"].value_counts().sort_index().to_frame().reset_index()\n",
    "    if show_all:\n",
    "        plt.bar(all_counts[\"year\"]-0.2, all_counts[\"count\"], 0.4)\n",
    "        plt.bar(topic_counts[\"year\"]+0.2, topic_counts[\"count\"], 0.4)\n",
    "        plt.legend([\"All\", f\"Topic {topic} mentions\"])\n",
    "    else:\n",
    "        plt.bar(topic_counts['year'], topic_counts['count'])\n",
    "        plt.legend([f\"{topic} mentions\"])\n",
    "    plt.grid()"
   ],
   "metadata": {
    "collapsed": false,
    "ExecuteTime": {
     "end_time": "2025-09-05T14:52:10.857499Z",
     "start_time": "2025-09-05T14:52:10.825676700Z"
    }
   },
   "id": "ab9b8006e53925ed"
  },
  {
   "cell_type": "code",
   "execution_count": 43,
   "outputs": [],
   "source": [
    "def plot_topics(topics, df_topics, title):\n",
    "    df = df_topics[[\"year\", \"topic\"]]\n",
    "    df = df[df['topic'].isin(topics)]\n",
    "    df.groupby([\"year\", \"topic\"]).value_counts().unstack().plot.barh()\n",
    "    plt.title(title)\n",
    "    plt.show()"
   ],
   "metadata": {
    "collapsed": false,
    "ExecuteTime": {
     "end_time": "2025-09-05T14:50:58.964611900Z",
     "start_time": "2025-09-05T14:50:58.916900300Z"
    }
   },
   "id": "2b361f0318a1c8ce"
  },
  {
   "cell_type": "code",
   "execution_count": 44,
   "outputs": [
    {
     "data": {
      "text/plain": "<Figure size 640x480 with 1 Axes>",
      "image/png": "[encoded data removed]"
     },
     "metadata": {},
     "output_type": "display_data"
    }
   ],
   "source": [
    "plot_topics([12, 27, 65], df_topics_american, 'American')"
   ],
   "metadata": {
    "collapsed": false,
    "ExecuteTime": {
     "end_time": "2025-09-05T14:51:00.397416900Z",
     "start_time": "2025-09-05T14:51:00.280469900Z"
    }
   },
   "id": "a2a08256f971b7e3"
  },
  {
   "cell_type": "code",
   "execution_count": 46,
   "outputs": [
    {
     "data": {
      "text/plain": "<Figure size 640x480 with 1 Axes>",
      "image/png": "[encoded data removed]"
     },
     "metadata": {},
     "output_type": "display_data"
    }
   ],
   "source": [
    "plot_yearly_topic(12, df_topics_american, show_all=True)"
   ],
   "metadata": {
    "collapsed": false,
    "ExecuteTime": {
     "end_time": "2025-09-05T14:52:13.119131300Z",
     "start_time": "2025-09-05T14:52:13.018892400Z"
    }
   },
   "id": "a5917fba280f4d8a"
  }
 ],
 "metadata": {
  "kernelspec": {
   "display_name": "Python 3",
   "language": "python",
   "name": "python3"
  },
  "language_info": {
   "codemirror_mode": {
    "name": "ipython",
    "version": 2
   },
   "file_extension": ".py",
   "mimetype": "text/x-python",
   "name": "python",
   "nbconvert_exporter": "python",
   "pygments_lexer": "ipython2",
   "version": "2.7.6"
  }
 },
 "nbformat": 4,
 "nbformat_minor": 5
}
