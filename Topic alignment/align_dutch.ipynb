{
 "cells": [
  {
   "cell_type": "code",
   "execution_count": 1,
   "id": "initial_id",
   "metadata": {
    "collapsed": true,
    "ExecuteTime": {
     "end_time": "2025-09-16T11:50:13.196534100Z",
     "start_time": "2025-09-16T11:49:58.464914200Z"
    }
   },
   "outputs": [],
   "source": [
    "import pickle\n",
    "import pandas as pd\n",
    "\n",
    "from data.data import Delpher, DBNL, Wikipedia, Plakaatboeken\n",
    "from bertopic import BERTopic\n",
    "from collections import Counter\n",
    "import matplotlib.pyplot as plt"
   ]
  },
  {
   "cell_type": "code",
   "execution_count": 2,
   "outputs": [],
   "source": [
    "from sentence_transformers import SentenceTransformer\n",
    "\n",
    "embedding_model = SentenceTransformer(\"sentence-transformers/distiluse-base-multilingual-cased-v1\", model_kwargs={\"torch_dtype\": \"float16\"})"
   ],
   "metadata": {
    "collapsed": false,
    "ExecuteTime": {
     "end_time": "2025-09-16T11:50:18.927615100Z",
     "start_time": "2025-09-16T11:50:13.196534100Z"
    }
   },
   "id": "11556ae7427ac77c"
  },
  {
   "cell_type": "code",
   "execution_count": 3,
   "outputs": [],
   "source": [
    "loaded_model = BERTopic.load(\"models/full_model_15\", embedding_model=embedding_model)"
   ],
   "metadata": {
    "collapsed": false,
    "ExecuteTime": {
     "end_time": "2025-09-16T11:50:21.927739700Z",
     "start_time": "2025-09-16T11:50:18.927615100Z"
    }
   },
   "id": "3b5b2b68486877dc"
  },
  {
   "cell_type": "code",
   "execution_count": 4,
   "outputs": [],
   "source": [
    "years = [1805, 1806, 1807, 1808, 1809, 1810, 1811, 1812, 1813, 1814, 1815, 1816, 1817, 1818, 1819]"
   ],
   "metadata": {
    "collapsed": false,
    "ExecuteTime": {
     "end_time": "2025-09-16T11:50:21.938089500Z",
     "start_time": "2025-09-16T11:50:21.927739700Z"
    }
   },
   "id": "8e8e98aec5d0fa06"
  },
  {
   "cell_type": "code",
   "execution_count": 6,
   "outputs": [
    {
     "name": "stdout",
     "output_type": "stream",
     "text": [
      "Cleaning data since cleaned version not found\n"
     ]
    },
    {
     "data": {
      "text/plain": "Saving the dataset (0/1 shards):   0%|          | 0/30244 [00:00<?, ? examples/s]",
      "application/vnd.jupyter.widget-view+json": {
       "version_major": 2,
       "version_minor": 0,
       "model_id": "5b6b8c64376d453485156550548d9b08"
      }
     },
     "metadata": {},
     "output_type": "display_data"
    },
    {
     "data": {
      "text/plain": "Filter:   0%|          | 0/30244 [00:00<?, ? examples/s]",
      "application/vnd.jupyter.widget-view+json": {
       "version_major": 2,
       "version_minor": 0,
       "model_id": "fc533b6caec94487ad6c0281986cfb67"
      }
     },
     "metadata": {},
     "output_type": "display_data"
    }
   ],
   "source": [
    "ds_delpher = Delpher().dataset.filter(lambda example: example[\"Year\"] in years and len(example[\"CleanedText\"])>100)\n",
    "ds_dbnl = DBNL().dataset.filter(lambda example: example[\"Year\"] in years and len(example[\"CleanedText\"])>100)\n",
    "ds_wiki = Wikipedia(language='nl').dataset.filter(lambda example: len(example[\"CleanedText\"])>100)\n",
    "ds_plakaatboek = Plakaatboeken().dataset.filter(lambda example: example[\"Year\"] in years and len(example[\"CleanedText\"])>100)"
   ],
   "metadata": {
    "collapsed": false,
    "ExecuteTime": {
     "end_time": "2025-09-16T11:51:44.792702200Z",
     "start_time": "2025-09-16T11:51:42.788759500Z"
    }
   },
   "id": "a1650b0b12763e98"
  },
  {
   "cell_type": "code",
   "execution_count": null,
   "outputs": [],
   "source": [
    "print(len(ds_wiki), len(ds_dbnl), len(ds_plakaatboek))"
   ],
   "metadata": {
    "collapsed": false,
    "ExecuteTime": {
     "start_time": "2025-09-16T11:50:22.850049100Z"
    }
   },
   "id": "45fb3ccb64c6ce13"
  },
  {
   "cell_type": "code",
   "execution_count": null,
   "outputs": [],
   "source": [
    "# delpher_embeddings = embedding_model.encode(ds_dbnl[\"CleanedText\"], show_progress_bar=True)\n",
    "# with open(\"dataset_embeds_distiluse-base-multilingual-cased-v1/delpher_embeds.pkl\", 'wb') as p:\n",
    "#     pickle.dump(delpher_embeddings, p)\n",
    "\n",
    "# dbnl_embeddings = embedding_model.encode(ds_dbnl[\"CleanedText\"], show_progress_bar=True)\n",
    "# with open(\"dataset_embeds_distiluse-base-multilingual-cased-v1/dbnl_embeds.pkl\", 'wb') as p:\n",
    "#     pickle.dump(dbnl_embeddings, p)\n",
    "# \n",
    "# wiki_embeddings = embedding_model.encode(ds_wiki[\"CleanedText\"], show_progress_bar=True)\n",
    "# with open(\"dataset_embeds_distiluse-base-multilingual-cased-v1/wiki_embeds.pkl\", 'wb') as p:\n",
    "#     pickle.dump(wiki_embeddings, p)\n",
    "# \n",
    "# plakaatboek_embeddings = embedding_model.encode(ds_plakaatboek[\"CleanedText\"], show_progress_bar=True)\n",
    "# with open(\"dataset_embeds_distiluse-base-multilingual-cased-v1/plakaatboeken_embeds.pkl\", 'wb') as p:\n",
    "#     pickle.dump(plakaatboek_embeddings, p)"
   ],
   "metadata": {
    "collapsed": false,
    "ExecuteTime": {
     "start_time": "2025-09-16T11:50:22.850049100Z"
    }
   },
   "id": "29c2e0b3c474c09a"
  },
  {
   "cell_type": "code",
   "execution_count": null,
   "outputs": [],
   "source": [
    "with open(\"dataset_embeds_distiluse-base-multilingual-cased-v1/delpher_embeds.pkl\", 'rb') as p:\n",
    "    delpher_embeddings = pickle.load(p)\n",
    "    \n",
    "with open(\"dataset_embeds_distiluse-base-multilingual-cased-v1/dbnl_embeds.pkl\", 'rb') as p:\n",
    "    dbnl_embeddings = pickle.load(p)\n",
    "    \n",
    "with open(\"dataset_embeds_distiluse-base-multilingual-cased-v1/wiki_embeds.pkl\", 'rb') as p:\n",
    "    wiki_embeddings = pickle.load(p)\n",
    "    \n",
    "with open(\"dataset_embeds_distiluse-base-multilingual-cased-v1/plakaatboeken_embeds.pkl\", 'rb') as p:\n",
    "    plakaatboek_embeddings = pickle.load(p)"
   ],
   "metadata": {
    "collapsed": false,
    "ExecuteTime": {
     "start_time": "2025-09-16T11:50:22.851085Z"
    }
   },
   "id": "f01d6087b74bfec3"
  },
  {
   "cell_type": "code",
   "execution_count": null,
   "outputs": [],
   "source": [
    "delpher_topics, delpher_probs = loaded_model.transform(documents=ds_delpher['CleanedText'], embeddings=delpher_embeddings)\n",
    "dbnl_topics, dbnl_probs = loaded_model.transform(documents=ds_dbnl['CleanedText'], embeddings=dbnl_embeddings)\n",
    "wiki_topics, wiki_probs = loaded_model.transform(documents=ds_wiki['CleanedText'], embeddings=wiki_embeddings)\n",
    "plakaatboeken_topics, plakaatboeken_probs = loaded_model.transform(documents=ds_plakaatboek['CleanedText'], embeddings=plakaatboek_embeddings)"
   ],
   "metadata": {
    "collapsed": false,
    "ExecuteTime": {
     "start_time": "2025-09-16T11:50:22.851085Z"
    }
   },
   "id": "2c09551d5eeb817a"
  },
  {
   "cell_type": "code",
   "execution_count": null,
   "outputs": [],
   "source": [
    "delpher_topic_freq = dict(Counter(delpher_topics).most_common())\n",
    "dbnl_topic_freq = dict(Counter(dbnl_topics).most_common())\n",
    "wiki_topic_freq = dict(Counter(wiki_topics).most_common())\n",
    "plakaatboeken_topic_freq = dict(Counter(plakaatboeken_topics).most_common())"
   ],
   "metadata": {
    "collapsed": false,
    "ExecuteTime": {
     "start_time": "2025-09-16T11:50:22.851085Z"
    }
   },
   "id": "3f095ac50a842cd1"
  },
  {
   "cell_type": "code",
   "execution_count": null,
   "outputs": [],
   "source": [
    "import plotly.io as pio\n",
    "pio.renderers.default = 'notebook'"
   ],
   "metadata": {
    "collapsed": false,
    "ExecuteTime": {
     "end_time": "2025-09-16T11:50:22.867225800Z",
     "start_time": "2025-09-16T11:50:22.851085Z"
    }
   },
   "id": "29c64201c1e8830c"
  },
  {
   "cell_type": "code",
   "execution_count": null,
   "outputs": [],
   "source": [
    "loaded_model.topic_labels_"
   ],
   "metadata": {
    "collapsed": false,
    "ExecuteTime": {
     "start_time": "2025-09-16T11:50:22.851085Z"
    }
   },
   "id": "705078779853021f"
  },
  {
   "cell_type": "code",
   "execution_count": null,
   "outputs": [],
   "source": [
    "[x for x in loaded_model.topic_labels_.values() if 'slav' in x or 'napo' in x]"
   ],
   "metadata": {
    "collapsed": false,
    "ExecuteTime": {
     "start_time": "2025-09-16T11:50:22.851085Z"
    }
   },
   "id": "ec2e6a92e0616f56"
  },
  {
   "cell_type": "code",
   "execution_count": null,
   "outputs": [],
   "source": [
    "loaded_model.visualize_topics()"
   ],
   "metadata": {
    "collapsed": false,
    "ExecuteTime": {
     "start_time": "2025-09-16T11:50:22.851085Z"
    }
   },
   "id": "9e37d53fa99d20ad"
  },
  {
   "cell_type": "code",
   "execution_count": null,
   "outputs": [],
   "source": [
    "loaded_model.visualize_hierarchy()"
   ],
   "metadata": {
    "collapsed": false,
    "ExecuteTime": {
     "start_time": "2025-09-16T11:50:22.851085Z"
    }
   },
   "id": "40f2f5040ad0019b"
  },
  {
   "cell_type": "code",
   "execution_count": null,
   "outputs": [],
   "source": [
    "delpher_topic_freq"
   ],
   "metadata": {
    "collapsed": false,
    "ExecuteTime": {
     "start_time": "2025-09-16T11:50:22.857006200Z"
    }
   },
   "id": "f6169f7f31159632"
  },
  {
   "cell_type": "code",
   "execution_count": null,
   "outputs": [],
   "source": [
    "dbnl_topic_freq"
   ],
   "metadata": {
    "collapsed": false,
    "ExecuteTime": {
     "start_time": "2025-09-16T11:50:22.857006200Z"
    }
   },
   "id": "7622a549dea3f65b"
  },
  {
   "cell_type": "code",
   "execution_count": null,
   "outputs": [],
   "source": [
    "wiki_topic_freq"
   ],
   "metadata": {
    "collapsed": false,
    "ExecuteTime": {
     "start_time": "2025-09-16T11:50:22.857006200Z"
    }
   },
   "id": "e5e0a86f3c7debc5"
  },
  {
   "cell_type": "code",
   "execution_count": null,
   "outputs": [],
   "source": [
    "plakaatboeken_topic_freq"
   ],
   "metadata": {
    "collapsed": false,
    "ExecuteTime": {
     "start_time": "2025-09-16T11:50:22.857006200Z"
    }
   },
   "id": "243ec63e4fd15fb6"
  },
  {
   "cell_type": "code",
   "execution_count": null,
   "outputs": [],
   "source": [
    "# interesting topics: 12, 27, 65\n",
    "# delpher still seems a little bad in quality still seems\n",
    "# could be interesting to further do topic modelling on the 0 topic"
   ],
   "metadata": {
    "collapsed": false,
    "ExecuteTime": {
     "start_time": "2025-09-16T11:50:22.857006200Z"
    }
   },
   "id": "ea51630825ea0094"
  },
  {
   "cell_type": "code",
   "execution_count": null,
   "outputs": [],
   "source": [
    "print(loaded_model.get_topic_info(12)['Representation'][0])"
   ],
   "metadata": {
    "collapsed": false,
    "ExecuteTime": {
     "start_time": "2025-09-16T11:50:22.857006200Z"
    }
   },
   "id": "87d8b557722841b0"
  },
  {
   "cell_type": "code",
   "execution_count": null,
   "outputs": [],
   "source": [
    "loaded_model.get_topic_info(27)"
   ],
   "metadata": {
    "collapsed": false,
    "ExecuteTime": {
     "start_time": "2025-09-16T11:50:22.857006200Z"
    }
   },
   "id": "e9b4b62437697037"
  },
  {
   "cell_type": "code",
   "execution_count": null,
   "outputs": [],
   "source": [
    "print(loaded_model.get_topic_info(65)['Representation'][0])"
   ],
   "metadata": {
    "collapsed": false,
    "ExecuteTime": {
     "start_time": "2025-09-16T11:50:22.857006200Z"
    }
   },
   "id": "acaeb89832857523"
  },
  {
   "cell_type": "code",
   "execution_count": null,
   "outputs": [],
   "source": [
    "df_topics_delpher = pd.DataFrame({\"topic\":delpher_topics, \"text\":ds_delpher[\"CleanedText\"], \"year\":ds_delpher[\"Year\"], \"ds\": 'delpher'})\n",
    "df_topics_dbnl = pd.DataFrame({\"topic\":dbnl_topics, \"text\":ds_dbnl[\"CleanedText\"], \"year\":ds_dbnl[\"Year\"], \"ds\": 'dbnl'})\n",
    "df_topics_wiki = pd.DataFrame({\"topic\":wiki_topics, \"text\":ds_wiki[\"CleanedText\"], \"year\":ds_wiki[\"Year\"], \"ds\": 'wiki'})\n",
    "df_topics_plakaatboeken = pd.DataFrame({\"topic\":plakaatboeken_topics, \"text\":ds_plakaatboek[\"CleanedText\"], \"year\":ds_plakaatboek[\"Year\"], \"ds\": 'plakaatboek'})"
   ],
   "metadata": {
    "collapsed": false,
    "ExecuteTime": {
     "start_time": "2025-09-16T11:50:22.857006200Z"
    }
   },
   "id": "9db90e38ed8827ee"
  },
  {
   "cell_type": "code",
   "execution_count": null,
   "outputs": [],
   "source": [
    "# n = 12\n",
    "# df_topics_delpher_n = df_topics_delpher[(df_topics_delpher[\"topic\"]==n)]\n",
    "# df_topics_dbnl_n = df_topics_dbnl[(df_topics_dbnl[\"topic\"]==n)]\n",
    "# df_topics_plakaatboeken_n = df_topics_plakaatboeken[(df_topics_plakaatboeken[\"topic\"]==n)]"
   ],
   "metadata": {
    "collapsed": false,
    "ExecuteTime": {
     "start_time": "2025-09-16T11:50:22.857006200Z"
    }
   },
   "id": "36081cdab5202bc1"
  },
  {
   "cell_type": "code",
   "execution_count": null,
   "outputs": [],
   "source": [
    "# df_topics_delpher_n.to_csv(f\"example_csvs/delpher{n}.csv\")\n",
    "# df_topics_dbnl_n.to_csv(f\"example_csvs/dbnl{n}.csv\")\n",
    "# df_topics_plakaatboeken_n.to_csv(f\"example_csvs/placaatboek{n}.csv\")"
   ],
   "metadata": {
    "collapsed": false,
    "ExecuteTime": {
     "start_time": "2025-09-16T11:50:22.857006200Z"
    }
   },
   "id": "fa15a1652cd024ae"
  },
  {
   "cell_type": "code",
   "execution_count": null,
   "outputs": [],
   "source": [
    "def plot_yearly_topic(topic, df_topics, show_all=True):\n",
    "    all_counts = df_topics[\"year\"].value_counts().sort_index().to_frame().reset_index()\n",
    "    topic_counts = df_topics[df_topics[\"topic\"]==topic][\"year\"].value_counts().sort_index().to_frame().reset_index()\n",
    "    if show_all:\n",
    "        plt.bar(all_counts[\"year\"]-0.2, all_counts[\"count\"], 0.4)\n",
    "        plt.bar(topic_counts[\"year\"]+0.2, topic_counts[\"count\"], 0.4)\n",
    "        plt.legend([\"All\", f\"Topic {topic} mentions\"])\n",
    "    else:\n",
    "        plt.bar(topic_counts['year'], topic_counts['count'])\n",
    "        plt.legend([f\"{topic} mentions\"])\n",
    "    plt.grid()"
   ],
   "metadata": {
    "collapsed": false,
    "ExecuteTime": {
     "start_time": "2025-09-16T11:50:22.857006200Z"
    }
   },
   "id": "d15447aab0393cce"
  },
  {
   "cell_type": "code",
   "execution_count": null,
   "outputs": [],
   "source": [
    "def plot_topics(topics, df_topics, title):\n",
    "    df = df_topics[[\"year\", \"topic\"]]\n",
    "    df = df[df['topic'].isin(topics)]\n",
    "    df.groupby([\"year\", \"topic\"]).value_counts().unstack().plot.barh()\n",
    "    plt.title(title)\n",
    "    plt.show()"
   ],
   "metadata": {
    "collapsed": false,
    "ExecuteTime": {
     "start_time": "2025-09-16T11:50:22.857006200Z"
    }
   },
   "id": "b58a0ec0eccd2728"
  },
  {
   "cell_type": "code",
   "execution_count": null,
   "outputs": [],
   "source": [
    "# all_topics_df = pd.concat([df_topics_delpher, df_topics_wiki, df_topics_dbnl, df_topics_plakaatboeken])"
   ],
   "metadata": {
    "collapsed": false,
    "ExecuteTime": {
     "start_time": "2025-09-16T11:50:22.867225800Z"
    }
   },
   "id": "af587f29e0ca2f11"
  },
  {
   "cell_type": "code",
   "execution_count": null,
   "outputs": [],
   "source": [
    "plot_topics([12, 27, 65], df_topics_dbnl, 'DBNL')"
   ],
   "metadata": {
    "collapsed": false,
    "ExecuteTime": {
     "end_time": "2025-09-16T11:50:22.877306900Z",
     "start_time": "2025-09-16T11:50:22.867225800Z"
    }
   },
   "id": "950aec8485b2f756"
  },
  {
   "cell_type": "code",
   "execution_count": null,
   "outputs": [],
   "source": [
    "plot_topics([12, 27, 65], df_topics_delpher, 'Delpher')"
   ],
   "metadata": {
    "collapsed": false,
    "ExecuteTime": {
     "start_time": "2025-09-16T11:50:22.867225800Z"
    }
   },
   "id": "edf8b1acf62a21cb"
  },
  {
   "cell_type": "code",
   "execution_count": null,
   "outputs": [],
   "source": [
    "plot_topics([12, 27, 65], df_topics_wiki, 'Wiki')"
   ],
   "metadata": {
    "collapsed": false,
    "ExecuteTime": {
     "start_time": "2025-09-16T11:50:22.867225800Z"
    }
   },
   "id": "fd7a87cd052cd09d"
  },
  {
   "cell_type": "code",
   "execution_count": null,
   "outputs": [],
   "source": [
    "plot_topics([12, 27, 65], df_topics_plakaatboeken, 'Plakaatboeken')"
   ],
   "metadata": {
    "collapsed": false,
    "ExecuteTime": {
     "start_time": "2025-09-16T11:50:22.867225800Z"
    }
   },
   "id": "e1d6359ddfc43dd5"
  },
  {
   "cell_type": "code",
   "execution_count": null,
   "outputs": [],
   "source": [
    "df_topics_dbnl"
   ],
   "metadata": {
    "collapsed": false,
    "ExecuteTime": {
     "start_time": "2025-09-16T11:50:22.867225800Z"
    }
   },
   "id": "13b6f9fc1ea80a3d"
  },
  {
   "cell_type": "code",
   "execution_count": null,
   "outputs": [],
   "source": [
    "plot_yearly_topic(12, df_topics_delpher, show_all=False)"
   ],
   "metadata": {
    "collapsed": false,
    "ExecuteTime": {
     "start_time": "2025-09-16T11:50:22.867225800Z"
    }
   },
   "id": "59d662f77739e4f4"
  },
  {
   "cell_type": "code",
   "execution_count": null,
   "outputs": [],
   "source": [
    "plot_yearly_topic(12, df_topics_dbnl)"
   ],
   "metadata": {
    "collapsed": false,
    "ExecuteTime": {
     "start_time": "2025-09-16T11:50:22.867225800Z"
    }
   },
   "id": "8ff96dfe2cc3558f"
  },
  {
   "cell_type": "code",
   "execution_count": null,
   "outputs": [],
   "source": [
    "plot_yearly_topic(12, df_topics_wiki, show_all=False)"
   ],
   "metadata": {
    "collapsed": false,
    "ExecuteTime": {
     "start_time": "2025-09-16T11:50:22.867225800Z"
    }
   },
   "id": "fcde69d0258a9bef"
  },
  {
   "cell_type": "code",
   "execution_count": null,
   "outputs": [],
   "source": [
    "plot_yearly_topic(12, df_topics_plakaatboeken)"
   ],
   "metadata": {
    "collapsed": false,
    "ExecuteTime": {
     "start_time": "2025-09-16T11:50:22.867225800Z"
    }
   },
   "id": "1244f652510989e9"
  }
 ],
 "metadata": {
  "kernelspec": {
   "display_name": "Python 3",
   "language": "python",
   "name": "python3"
  },
  "language_info": {
   "codemirror_mode": {
    "name": "ipython",
    "version": 2
   },
   "file_extension": ".py",
   "mimetype": "text/x-python",
   "name": "python",
   "nbconvert_exporter": "python",
   "pygments_lexer": "ipython2",
   "version": "2.7.6"
  }
 },
 "nbformat": 4,
 "nbformat_minor": 5
}
